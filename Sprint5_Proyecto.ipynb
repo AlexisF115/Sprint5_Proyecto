{
 "cells": [
  {
   "cell_type": "markdown",
   "metadata": {},
   "source": [
    "Hola &#x1F600;\n",
    "\n",
    "Soy **Hesus Garcia**  como \"Jesús\" pero con H. Sé que puede ser confuso al principio, pero una vez que lo recuerdes, ¡nunca lo olvidarás! &#x1F31D;\t. Como revisor de código de Triple-Ten, estoy emocionado de examinar tus proyectos y ayudarte a mejorar tus habilidades en programación. si has cometido algún error, no te preocupes, pues ¡estoy aquí para ayudarte a corregirlo y hacer que tu código brille! &#x1F31F;. Si encuentro algún detalle en tu código, te lo señalaré para que lo corrijas, ya que mi objetivo es ayudarte a prepararte para un ambiente de trabajo real, donde el líder de tu equipo actuaría de la misma manera. Si no puedes solucionar el problema, te proporcionaré más información en la próxima oportunidad. Cuando encuentres un comentario,  **por favor, no los muevas, no los modifiques ni los borres**.\n",
    "\n",
    "Revisaré cuidadosamente todas las implementaciones que has realizado para cumplir con los requisitos y te proporcionaré mis comentarios de la siguiente manera:\n",
    "\n",
    "\n",
    "<div class=\"alert alert-block alert-success\">\n",
    "<b>Comentario del revisor</b> <a class=“tocSkip”></a>\n",
    "Si todo está perfecto.\n",
    "</div>\n",
    "\n",
    "<div class=\"alert alert-block alert-warning\">\n",
    "<b>Comentario del revisor</b> <a class=“tocSkip”></a>\n",
    "Si tu código está bien pero se puede mejorar o hay algún detalle que le hace falta.\n",
    "</div>\n",
    "\n",
    "<div class=\"alert alert-block alert-danger\">\n",
    "<b>Comentario del revisor</b> <a class=“tocSkip”></a>\n",
    "Si de pronto hace falta algo o existe algún problema con tu código o conclusiones.\n",
    "</div>\n",
    "\n",
    "Puedes responderme de esta forma:\n",
    "<div class=\"alert alert-block alert-info\">\n",
    "<b>Respuesta del estudiante</b> <a class=“tocSkip”></a>\n",
    "</div>\n",
    "\n",
    "</br>\n",
    "\n",
    "**¡Empecemos!**  &#x1F680;\n",
    "\n",
    "\n"
   ]
  },
  {
   "cell_type": "markdown",
   "metadata": {
    "id": "3rYiDeEH0q0f"
   },
   "source": [
    "# ¿Cuál es la mejor tarifa?\n",
    "\n",
    "Trabajas como analista para el operador de telecomunicaciones Megaline. La empresa ofrece a sus clientes dos tarifas de prepago, Surf y Ultimate. El departamento comercial quiere saber cuál de las tarifas genera más ingresos para poder ajustar el presupuesto de publicidad.\n",
    "\n",
    "Vas a realizar un análisis preliminar de las tarifas basado en una selección de clientes relativamente pequeña. Tendrás los datos de 500 clientes de Megaline: quiénes son los clientes, de dónde son, qué tarifa usan, así como la cantidad de llamadas que hicieron y los mensajes de texto que enviaron en 2018. Tu trabajo es analizar el comportamiento de los clientes y determinar qué tarifa de prepago genera más ingresos."
   ]
  },
  {
   "cell_type": "markdown",
   "metadata": {
    "id": "VNddPNRQ0q0w"
   },
   "source": [
    "[Te proporcionamos algunos comentarios para orientarte mientras completas este proyecto. Pero debes asegurarte de eliminar todos los comentarios entre corchetes antes de entregar tu proyecto.]\n",
    "\n",
    "[Antes de sumergirte en el análisis de datos, explica por tu propia cuenta el propósito del proyecto y las acciones que planeas realizar.]\n",
    "\n",
    "[Ten en cuenta que estudiar, modificar y analizar datos es un proceso iterativo. Es normal volver a los pasos anteriores y corregirlos/ampliarlos para permitir nuevos pasos.]"
   ]
  },
  {
   "cell_type": "markdown",
   "metadata": {
    "id": "MQi4IPy70q0y"
   },
   "source": [
    "## Inicialización"
   ]
  },
  {
   "cell_type": "code",
   "execution_count": 1,
   "metadata": {
    "id": "MtYIuBxu0q0z"
   },
   "outputs": [],
   "source": [
    "# Cargar todas las librerías\n",
    "import pandas as pd\n",
    "import matplotlib.pyplot as plt\n",
    "import numpy as np\n",
    "from datetime import datetime"
   ]
  },
  {
   "cell_type": "markdown",
   "metadata": {
    "id": "4ysWWC5i0q00"
   },
   "source": [
    "## Cargar datos"
   ]
  },
  {
   "cell_type": "code",
   "execution_count": 2,
   "metadata": {
    "id": "CCqPW7rS0q01"
   },
   "outputs": [],
   "source": [
    "# Carga los archivos de datos en diferentes DataFrames\n",
    "df_calls = pd.read_csv(\"/datasets/megaline_calls.csv\")\n",
    "df_internet = pd.read_csv(\"/datasets/megaline_internet.csv\")\n",
    "df_messages = pd.read_csv(\"/datasets/megaline_messages.csv\")\n",
    "df_plans = pd.read_csv(\"/datasets/megaline_plans.csv\")\n",
    "df_users = pd.read_csv(\"/datasets/megaline_users.csv\")"
   ]
  },
  {
   "cell_type": "markdown",
   "metadata": {
    "id": "69qqoJ3r0q01"
   },
   "source": [
    "## Preparar los datos"
   ]
  },
  {
   "cell_type": "markdown",
   "metadata": {
    "id": "vUuZw80S0q01"
   },
   "source": [
    "[Los datos para este proyecto se dividen en varias tablas. Explora cada una para tener una comprensión inicial de los datos. Si es necesario, haz las correcciones requeridas en cada tabla.]"
   ]
  },
  {
   "cell_type": "markdown",
   "metadata": {
    "id": "ohBhimvH0q01"
   },
   "source": [
    "## Tarifas"
   ]
  },
  {
   "cell_type": "code",
   "execution_count": 3,
   "metadata": {
    "id": "GptqP3Q40q02"
   },
   "outputs": [
    {
     "name": "stdout",
     "output_type": "stream",
     "text": [
      "<class 'pandas.core.frame.DataFrame'>\n",
      "RangeIndex: 2 entries, 0 to 1\n",
      "Data columns (total 8 columns):\n",
      " #   Column                 Non-Null Count  Dtype  \n",
      "---  ------                 --------------  -----  \n",
      " 0   messages_included      2 non-null      int64  \n",
      " 1   mb_per_month_included  2 non-null      int64  \n",
      " 2   minutes_included       2 non-null      int64  \n",
      " 3   usd_monthly_pay        2 non-null      int64  \n",
      " 4   usd_per_gb             2 non-null      int64  \n",
      " 5   usd_per_message        2 non-null      float64\n",
      " 6   usd_per_minute         2 non-null      float64\n",
      " 7   plan_name              2 non-null      object \n",
      "dtypes: float64(2), int64(5), object(1)\n",
      "memory usage: 256.0+ bytes\n"
     ]
    }
   ],
   "source": [
    "# Imprime la información general/resumida sobre el DataFrame de las tarifas\n",
    "df_plans.info()"
   ]
  },
  {
   "cell_type": "code",
   "execution_count": 4,
   "metadata": {
    "id": "64xzjwL70q02"
   },
   "outputs": [
    {
     "data": {
      "text/html": [
       "<div>\n",
       "<style scoped>\n",
       "    .dataframe tbody tr th:only-of-type {\n",
       "        vertical-align: middle;\n",
       "    }\n",
       "\n",
       "    .dataframe tbody tr th {\n",
       "        vertical-align: top;\n",
       "    }\n",
       "\n",
       "    .dataframe thead th {\n",
       "        text-align: right;\n",
       "    }\n",
       "</style>\n",
       "<table border=\"1\" class=\"dataframe\">\n",
       "  <thead>\n",
       "    <tr style=\"text-align: right;\">\n",
       "      <th></th>\n",
       "      <th>messages_included</th>\n",
       "      <th>mb_per_month_included</th>\n",
       "      <th>minutes_included</th>\n",
       "      <th>usd_monthly_pay</th>\n",
       "      <th>usd_per_gb</th>\n",
       "      <th>usd_per_message</th>\n",
       "      <th>usd_per_minute</th>\n",
       "      <th>plan_name</th>\n",
       "    </tr>\n",
       "  </thead>\n",
       "  <tbody>\n",
       "    <tr>\n",
       "      <th>0</th>\n",
       "      <td>50</td>\n",
       "      <td>15360</td>\n",
       "      <td>500</td>\n",
       "      <td>20</td>\n",
       "      <td>10</td>\n",
       "      <td>0.03</td>\n",
       "      <td>0.03</td>\n",
       "      <td>surf</td>\n",
       "    </tr>\n",
       "    <tr>\n",
       "      <th>1</th>\n",
       "      <td>1000</td>\n",
       "      <td>30720</td>\n",
       "      <td>3000</td>\n",
       "      <td>70</td>\n",
       "      <td>7</td>\n",
       "      <td>0.01</td>\n",
       "      <td>0.01</td>\n",
       "      <td>ultimate</td>\n",
       "    </tr>\n",
       "  </tbody>\n",
       "</table>\n",
       "</div>"
      ],
      "text/plain": [
       "   messages_included  mb_per_month_included  minutes_included  \\\n",
       "0                 50                  15360               500   \n",
       "1               1000                  30720              3000   \n",
       "\n",
       "   usd_monthly_pay  usd_per_gb  usd_per_message  usd_per_minute plan_name  \n",
       "0               20          10             0.03            0.03      surf  \n",
       "1               70           7             0.01            0.01  ultimate  "
      ]
     },
     "execution_count": 4,
     "metadata": {},
     "output_type": "execute_result"
    }
   ],
   "source": [
    "# Imprime una muestra de los datos para las tarifas\n",
    "df_plans.head(5)"
   ]
  },
  {
   "cell_type": "markdown",
   "metadata": {
    "id": "mEc_3_hs0q02"
   },
   "source": [
    "[Describe lo que ves y observas en la información general y en la muestra de datos impresa para el precio de datos anterior. ¿Hay algún problema (tipos de datos no adecuados, datos ausentes, etc.) que pudieran necesitar investigación y cambios adicionales? ¿Cómo se puede arreglar?]\n",
    "- A mi parecer, puedo observar que los datos estan bien definidos, no presentan datos ausentes ni tipos de datos no adecuados. Es un DataFrame sencillo pero que ofrece la información completa y relevante."
   ]
  },
  {
   "cell_type": "markdown",
   "metadata": {
    "id": "R3C05i1l0q03"
   },
   "source": [
    "## Corregir datos"
   ]
  },
  {
   "cell_type": "markdown",
   "metadata": {
    "id": "bIi8StZI0q03"
   },
   "source": [
    "[Corrige los problemas obvios con los datos basándote en las observaciones iniciales.]"
   ]
  },
  {
   "cell_type": "code",
   "execution_count": 5,
   "metadata": {
    "id": "Y7SVmjGn0q03"
   },
   "outputs": [],
   "source": [
    "#No es necesario realizar una correción, ya que los datos cuentan con el tipo de dato que les corresponde."
   ]
  },
  {
   "cell_type": "markdown",
   "metadata": {
    "id": "LJir7bml0q03"
   },
   "source": [
    "## Enriquecer los datos"
   ]
  },
  {
   "cell_type": "markdown",
   "metadata": {
    "id": "eqADpCfg0q04"
   },
   "source": [
    "[Agrega factores adicionales a los datos si crees que pudieran ser útiles.]"
   ]
  },
  {
   "cell_type": "code",
   "execution_count": 6,
   "metadata": {
    "id": "gfcIEuXV0q04"
   },
   "outputs": [],
   "source": [
    "df_plans.rename(columns={\"plan_name\":\"plan_id\"}, inplace=True)"
   ]
  },
  {
   "cell_type": "markdown",
   "metadata": {
    "id": "1n2X6WXf0q04"
   },
   "source": [
    "## Usuarios/as"
   ]
  },
  {
   "cell_type": "code",
   "execution_count": 7,
   "metadata": {
    "id": "2NgjWFqx0q05"
   },
   "outputs": [
    {
     "name": "stdout",
     "output_type": "stream",
     "text": [
      "<class 'pandas.core.frame.DataFrame'>\n",
      "RangeIndex: 500 entries, 0 to 499\n",
      "Data columns (total 8 columns):\n",
      " #   Column      Non-Null Count  Dtype \n",
      "---  ------      --------------  ----- \n",
      " 0   user_id     500 non-null    int64 \n",
      " 1   first_name  500 non-null    object\n",
      " 2   last_name   500 non-null    object\n",
      " 3   age         500 non-null    int64 \n",
      " 4   city        500 non-null    object\n",
      " 5   reg_date    500 non-null    object\n",
      " 6   plan        500 non-null    object\n",
      " 7   churn_date  34 non-null     object\n",
      "dtypes: int64(2), object(6)\n",
      "memory usage: 31.4+ KB\n"
     ]
    }
   ],
   "source": [
    "# Imprime la información general/resumida sobre el DataFrame de usuarios\n",
    "df_users.info()"
   ]
  },
  {
   "cell_type": "code",
   "execution_count": 8,
   "metadata": {
    "id": "1IN1L9uh0q05"
   },
   "outputs": [
    {
     "data": {
      "text/html": [
       "<div>\n",
       "<style scoped>\n",
       "    .dataframe tbody tr th:only-of-type {\n",
       "        vertical-align: middle;\n",
       "    }\n",
       "\n",
       "    .dataframe tbody tr th {\n",
       "        vertical-align: top;\n",
       "    }\n",
       "\n",
       "    .dataframe thead th {\n",
       "        text-align: right;\n",
       "    }\n",
       "</style>\n",
       "<table border=\"1\" class=\"dataframe\">\n",
       "  <thead>\n",
       "    <tr style=\"text-align: right;\">\n",
       "      <th></th>\n",
       "      <th>user_id</th>\n",
       "      <th>first_name</th>\n",
       "      <th>last_name</th>\n",
       "      <th>age</th>\n",
       "      <th>city</th>\n",
       "      <th>reg_date</th>\n",
       "      <th>plan</th>\n",
       "      <th>churn_date</th>\n",
       "    </tr>\n",
       "  </thead>\n",
       "  <tbody>\n",
       "    <tr>\n",
       "      <th>0</th>\n",
       "      <td>1000</td>\n",
       "      <td>Anamaria</td>\n",
       "      <td>Bauer</td>\n",
       "      <td>45</td>\n",
       "      <td>Atlanta-Sandy Springs-Roswell, GA MSA</td>\n",
       "      <td>2018-12-24</td>\n",
       "      <td>ultimate</td>\n",
       "      <td>NaN</td>\n",
       "    </tr>\n",
       "    <tr>\n",
       "      <th>1</th>\n",
       "      <td>1001</td>\n",
       "      <td>Mickey</td>\n",
       "      <td>Wilkerson</td>\n",
       "      <td>28</td>\n",
       "      <td>Seattle-Tacoma-Bellevue, WA MSA</td>\n",
       "      <td>2018-08-13</td>\n",
       "      <td>surf</td>\n",
       "      <td>NaN</td>\n",
       "    </tr>\n",
       "    <tr>\n",
       "      <th>2</th>\n",
       "      <td>1002</td>\n",
       "      <td>Carlee</td>\n",
       "      <td>Hoffman</td>\n",
       "      <td>36</td>\n",
       "      <td>Las Vegas-Henderson-Paradise, NV MSA</td>\n",
       "      <td>2018-10-21</td>\n",
       "      <td>surf</td>\n",
       "      <td>NaN</td>\n",
       "    </tr>\n",
       "    <tr>\n",
       "      <th>3</th>\n",
       "      <td>1003</td>\n",
       "      <td>Reynaldo</td>\n",
       "      <td>Jenkins</td>\n",
       "      <td>52</td>\n",
       "      <td>Tulsa, OK MSA</td>\n",
       "      <td>2018-01-28</td>\n",
       "      <td>surf</td>\n",
       "      <td>NaN</td>\n",
       "    </tr>\n",
       "    <tr>\n",
       "      <th>4</th>\n",
       "      <td>1004</td>\n",
       "      <td>Leonila</td>\n",
       "      <td>Thompson</td>\n",
       "      <td>40</td>\n",
       "      <td>Seattle-Tacoma-Bellevue, WA MSA</td>\n",
       "      <td>2018-05-23</td>\n",
       "      <td>surf</td>\n",
       "      <td>NaN</td>\n",
       "    </tr>\n",
       "    <tr>\n",
       "      <th>5</th>\n",
       "      <td>1005</td>\n",
       "      <td>Livia</td>\n",
       "      <td>Shields</td>\n",
       "      <td>31</td>\n",
       "      <td>Dallas-Fort Worth-Arlington, TX MSA</td>\n",
       "      <td>2018-11-29</td>\n",
       "      <td>surf</td>\n",
       "      <td>NaN</td>\n",
       "    </tr>\n",
       "    <tr>\n",
       "      <th>6</th>\n",
       "      <td>1006</td>\n",
       "      <td>Jesusa</td>\n",
       "      <td>Bradford</td>\n",
       "      <td>73</td>\n",
       "      <td>San Francisco-Oakland-Berkeley, CA MSA</td>\n",
       "      <td>2018-11-27</td>\n",
       "      <td>ultimate</td>\n",
       "      <td>2018-12-18</td>\n",
       "    </tr>\n",
       "    <tr>\n",
       "      <th>7</th>\n",
       "      <td>1007</td>\n",
       "      <td>Eusebio</td>\n",
       "      <td>Welch</td>\n",
       "      <td>42</td>\n",
       "      <td>Grand Rapids-Kentwood, MI MSA</td>\n",
       "      <td>2018-07-11</td>\n",
       "      <td>surf</td>\n",
       "      <td>NaN</td>\n",
       "    </tr>\n",
       "    <tr>\n",
       "      <th>8</th>\n",
       "      <td>1008</td>\n",
       "      <td>Emely</td>\n",
       "      <td>Hoffman</td>\n",
       "      <td>53</td>\n",
       "      <td>Orlando-Kissimmee-Sanford, FL MSA</td>\n",
       "      <td>2018-08-03</td>\n",
       "      <td>ultimate</td>\n",
       "      <td>NaN</td>\n",
       "    </tr>\n",
       "    <tr>\n",
       "      <th>9</th>\n",
       "      <td>1009</td>\n",
       "      <td>Gerry</td>\n",
       "      <td>Little</td>\n",
       "      <td>19</td>\n",
       "      <td>San Jose-Sunnyvale-Santa Clara, CA MSA</td>\n",
       "      <td>2018-04-22</td>\n",
       "      <td>surf</td>\n",
       "      <td>NaN</td>\n",
       "    </tr>\n",
       "  </tbody>\n",
       "</table>\n",
       "</div>"
      ],
      "text/plain": [
       "   user_id first_name  last_name  age                                    city  \\\n",
       "0     1000   Anamaria      Bauer   45   Atlanta-Sandy Springs-Roswell, GA MSA   \n",
       "1     1001     Mickey  Wilkerson   28         Seattle-Tacoma-Bellevue, WA MSA   \n",
       "2     1002     Carlee    Hoffman   36    Las Vegas-Henderson-Paradise, NV MSA   \n",
       "3     1003   Reynaldo    Jenkins   52                           Tulsa, OK MSA   \n",
       "4     1004    Leonila   Thompson   40         Seattle-Tacoma-Bellevue, WA MSA   \n",
       "5     1005      Livia    Shields   31     Dallas-Fort Worth-Arlington, TX MSA   \n",
       "6     1006     Jesusa   Bradford   73  San Francisco-Oakland-Berkeley, CA MSA   \n",
       "7     1007    Eusebio      Welch   42           Grand Rapids-Kentwood, MI MSA   \n",
       "8     1008      Emely    Hoffman   53       Orlando-Kissimmee-Sanford, FL MSA   \n",
       "9     1009      Gerry     Little   19  San Jose-Sunnyvale-Santa Clara, CA MSA   \n",
       "\n",
       "     reg_date      plan  churn_date  \n",
       "0  2018-12-24  ultimate         NaN  \n",
       "1  2018-08-13      surf         NaN  \n",
       "2  2018-10-21      surf         NaN  \n",
       "3  2018-01-28      surf         NaN  \n",
       "4  2018-05-23      surf         NaN  \n",
       "5  2018-11-29      surf         NaN  \n",
       "6  2018-11-27  ultimate  2018-12-18  \n",
       "7  2018-07-11      surf         NaN  \n",
       "8  2018-08-03  ultimate         NaN  \n",
       "9  2018-04-22      surf         NaN  "
      ]
     },
     "execution_count": 8,
     "metadata": {},
     "output_type": "execute_result"
    }
   ],
   "source": [
    "# Imprime una muestra de datos para usuarios\n",
    "df_users.head(10)"
   ]
  },
  {
   "cell_type": "markdown",
   "metadata": {
    "id": "dCZoUq4f0q06"
   },
   "source": [
    "[Describe lo que ves y observas en la información general y en la muestra de datos impresa para el precio de datos anterior. ¿Hay algún problema (tipos de datos no adecuados, datos ausentes, etc.) que pudieran necesitar investigación y cambios adicionales? ¿Cómo se puede arreglar?]\n",
    "\n",
    "- Se puede observar que el DataFrame cuenta con varios valores ausentes en la fila de \"churn_date\" pero estos no son necesarios de rellenar ya que no se consideran como un valor relevante para nuestros analisis y ademas los tipos de datos de las fechas son incorrectos."
   ]
  },
  {
   "cell_type": "markdown",
   "metadata": {
    "id": "BX5FQh_I0q06"
   },
   "source": [
    "### Corregir los datos"
   ]
  },
  {
   "cell_type": "markdown",
   "metadata": {
    "id": "8OdKMwJv0q06"
   },
   "source": [
    "[Corrige los problemas obvios con los datos basándote en las observaciones iniciales.]"
   ]
  },
  {
   "cell_type": "code",
   "execution_count": 9,
   "metadata": {
    "id": "yUqX-K0C0q07"
   },
   "outputs": [
    {
     "name": "stdout",
     "output_type": "stream",
     "text": [
      "<class 'pandas.core.frame.DataFrame'>\n",
      "RangeIndex: 500 entries, 0 to 499\n",
      "Data columns (total 8 columns):\n",
      " #   Column      Non-Null Count  Dtype         \n",
      "---  ------      --------------  -----         \n",
      " 0   user_id     500 non-null    int64         \n",
      " 1   first_name  500 non-null    object        \n",
      " 2   last_name   500 non-null    object        \n",
      " 3   age         500 non-null    int64         \n",
      " 4   city        500 non-null    object        \n",
      " 5   reg_date    500 non-null    datetime64[ns]\n",
      " 6   plan        500 non-null    object        \n",
      " 7   churn_date  34 non-null     datetime64[ns]\n",
      "dtypes: datetime64[ns](2), int64(2), object(4)\n",
      "memory usage: 31.4+ KB\n"
     ]
    }
   ],
   "source": [
    "df_users[\"reg_date\"] = pd.to_datetime(df_users[\"reg_date\"], format=\"%Y-%m-%d\")\n",
    "df_users[\"churn_date\"] = pd.to_datetime(df_users[\"churn_date\"], format=\"%Y-%m-%d\")\n",
    "df_users.info()"
   ]
  },
  {
   "cell_type": "markdown",
   "metadata": {
    "id": "ycwuARJp0q07"
   },
   "source": [
    "### Enriquecer los datos"
   ]
  },
  {
   "cell_type": "markdown",
   "metadata": {
    "id": "96NIh4CJ0q08"
   },
   "source": [
    "[Agrega factores adicionales a los datos si crees que pudieran ser útiles.]"
   ]
  },
  {
   "cell_type": "code",
   "execution_count": 10,
   "metadata": {
    "id": "iq0AaBS90q08"
   },
   "outputs": [
    {
     "data": {
      "text/html": [
       "<div>\n",
       "<style scoped>\n",
       "    .dataframe tbody tr th:only-of-type {\n",
       "        vertical-align: middle;\n",
       "    }\n",
       "\n",
       "    .dataframe tbody tr th {\n",
       "        vertical-align: top;\n",
       "    }\n",
       "\n",
       "    .dataframe thead th {\n",
       "        text-align: right;\n",
       "    }\n",
       "</style>\n",
       "<table border=\"1\" class=\"dataframe\">\n",
       "  <thead>\n",
       "    <tr style=\"text-align: right;\">\n",
       "      <th></th>\n",
       "      <th>user_id</th>\n",
       "      <th>first_name</th>\n",
       "      <th>last_name</th>\n",
       "      <th>age</th>\n",
       "      <th>city</th>\n",
       "      <th>reg_date</th>\n",
       "      <th>plan_id</th>\n",
       "      <th>churn_date</th>\n",
       "    </tr>\n",
       "  </thead>\n",
       "  <tbody>\n",
       "    <tr>\n",
       "      <th>0</th>\n",
       "      <td>1000</td>\n",
       "      <td>Anamaria</td>\n",
       "      <td>Bauer</td>\n",
       "      <td>45</td>\n",
       "      <td>Atlanta-Sandy Springs-Roswell, GA MSA</td>\n",
       "      <td>2018-12-24</td>\n",
       "      <td>ultimate</td>\n",
       "      <td>NaT</td>\n",
       "    </tr>\n",
       "    <tr>\n",
       "      <th>1</th>\n",
       "      <td>1001</td>\n",
       "      <td>Mickey</td>\n",
       "      <td>Wilkerson</td>\n",
       "      <td>28</td>\n",
       "      <td>Seattle-Tacoma-Bellevue, WA MSA</td>\n",
       "      <td>2018-08-13</td>\n",
       "      <td>surf</td>\n",
       "      <td>NaT</td>\n",
       "    </tr>\n",
       "    <tr>\n",
       "      <th>2</th>\n",
       "      <td>1002</td>\n",
       "      <td>Carlee</td>\n",
       "      <td>Hoffman</td>\n",
       "      <td>36</td>\n",
       "      <td>Las Vegas-Henderson-Paradise, NV MSA</td>\n",
       "      <td>2018-10-21</td>\n",
       "      <td>surf</td>\n",
       "      <td>NaT</td>\n",
       "    </tr>\n",
       "    <tr>\n",
       "      <th>3</th>\n",
       "      <td>1003</td>\n",
       "      <td>Reynaldo</td>\n",
       "      <td>Jenkins</td>\n",
       "      <td>52</td>\n",
       "      <td>Tulsa, OK MSA</td>\n",
       "      <td>2018-01-28</td>\n",
       "      <td>surf</td>\n",
       "      <td>NaT</td>\n",
       "    </tr>\n",
       "    <tr>\n",
       "      <th>4</th>\n",
       "      <td>1004</td>\n",
       "      <td>Leonila</td>\n",
       "      <td>Thompson</td>\n",
       "      <td>40</td>\n",
       "      <td>Seattle-Tacoma-Bellevue, WA MSA</td>\n",
       "      <td>2018-05-23</td>\n",
       "      <td>surf</td>\n",
       "      <td>NaT</td>\n",
       "    </tr>\n",
       "    <tr>\n",
       "      <th>5</th>\n",
       "      <td>1005</td>\n",
       "      <td>Livia</td>\n",
       "      <td>Shields</td>\n",
       "      <td>31</td>\n",
       "      <td>Dallas-Fort Worth-Arlington, TX MSA</td>\n",
       "      <td>2018-11-29</td>\n",
       "      <td>surf</td>\n",
       "      <td>NaT</td>\n",
       "    </tr>\n",
       "    <tr>\n",
       "      <th>6</th>\n",
       "      <td>1006</td>\n",
       "      <td>Jesusa</td>\n",
       "      <td>Bradford</td>\n",
       "      <td>73</td>\n",
       "      <td>San Francisco-Oakland-Berkeley, CA MSA</td>\n",
       "      <td>2018-11-27</td>\n",
       "      <td>ultimate</td>\n",
       "      <td>2018-12-18</td>\n",
       "    </tr>\n",
       "    <tr>\n",
       "      <th>7</th>\n",
       "      <td>1007</td>\n",
       "      <td>Eusebio</td>\n",
       "      <td>Welch</td>\n",
       "      <td>42</td>\n",
       "      <td>Grand Rapids-Kentwood, MI MSA</td>\n",
       "      <td>2018-07-11</td>\n",
       "      <td>surf</td>\n",
       "      <td>NaT</td>\n",
       "    </tr>\n",
       "    <tr>\n",
       "      <th>8</th>\n",
       "      <td>1008</td>\n",
       "      <td>Emely</td>\n",
       "      <td>Hoffman</td>\n",
       "      <td>53</td>\n",
       "      <td>Orlando-Kissimmee-Sanford, FL MSA</td>\n",
       "      <td>2018-08-03</td>\n",
       "      <td>ultimate</td>\n",
       "      <td>NaT</td>\n",
       "    </tr>\n",
       "    <tr>\n",
       "      <th>9</th>\n",
       "      <td>1009</td>\n",
       "      <td>Gerry</td>\n",
       "      <td>Little</td>\n",
       "      <td>19</td>\n",
       "      <td>San Jose-Sunnyvale-Santa Clara, CA MSA</td>\n",
       "      <td>2018-04-22</td>\n",
       "      <td>surf</td>\n",
       "      <td>NaT</td>\n",
       "    </tr>\n",
       "  </tbody>\n",
       "</table>\n",
       "</div>"
      ],
      "text/plain": [
       "   user_id first_name  last_name  age                                    city  \\\n",
       "0     1000   Anamaria      Bauer   45   Atlanta-Sandy Springs-Roswell, GA MSA   \n",
       "1     1001     Mickey  Wilkerson   28         Seattle-Tacoma-Bellevue, WA MSA   \n",
       "2     1002     Carlee    Hoffman   36    Las Vegas-Henderson-Paradise, NV MSA   \n",
       "3     1003   Reynaldo    Jenkins   52                           Tulsa, OK MSA   \n",
       "4     1004    Leonila   Thompson   40         Seattle-Tacoma-Bellevue, WA MSA   \n",
       "5     1005      Livia    Shields   31     Dallas-Fort Worth-Arlington, TX MSA   \n",
       "6     1006     Jesusa   Bradford   73  San Francisco-Oakland-Berkeley, CA MSA   \n",
       "7     1007    Eusebio      Welch   42           Grand Rapids-Kentwood, MI MSA   \n",
       "8     1008      Emely    Hoffman   53       Orlando-Kissimmee-Sanford, FL MSA   \n",
       "9     1009      Gerry     Little   19  San Jose-Sunnyvale-Santa Clara, CA MSA   \n",
       "\n",
       "    reg_date   plan_id churn_date  \n",
       "0 2018-12-24  ultimate        NaT  \n",
       "1 2018-08-13      surf        NaT  \n",
       "2 2018-10-21      surf        NaT  \n",
       "3 2018-01-28      surf        NaT  \n",
       "4 2018-05-23      surf        NaT  \n",
       "5 2018-11-29      surf        NaT  \n",
       "6 2018-11-27  ultimate 2018-12-18  \n",
       "7 2018-07-11      surf        NaT  \n",
       "8 2018-08-03  ultimate        NaT  \n",
       "9 2018-04-22      surf        NaT  "
      ]
     },
     "execution_count": 10,
     "metadata": {},
     "output_type": "execute_result"
    }
   ],
   "source": [
    "df_users.rename(columns={\"plan\": \"plan_id\"}, inplace=True)\n",
    "df_users.head(10)"
   ]
  },
  {
   "cell_type": "markdown",
   "metadata": {
    "id": "o7MeKCid0q08"
   },
   "source": [
    "## Llamadas"
   ]
  },
  {
   "cell_type": "code",
   "execution_count": 11,
   "metadata": {
    "id": "6dDlnoDm0q08"
   },
   "outputs": [
    {
     "name": "stdout",
     "output_type": "stream",
     "text": [
      "<class 'pandas.core.frame.DataFrame'>\n",
      "RangeIndex: 137735 entries, 0 to 137734\n",
      "Data columns (total 4 columns):\n",
      " #   Column     Non-Null Count   Dtype  \n",
      "---  ------     --------------   -----  \n",
      " 0   id         137735 non-null  object \n",
      " 1   user_id    137735 non-null  int64  \n",
      " 2   call_date  137735 non-null  object \n",
      " 3   duration   137735 non-null  float64\n",
      "dtypes: float64(1), int64(1), object(2)\n",
      "memory usage: 4.2+ MB\n"
     ]
    }
   ],
   "source": [
    "# Imprime la información general/resumida sobre el DataFrame de las llamadas\n",
    "df_calls.info()"
   ]
  },
  {
   "cell_type": "code",
   "execution_count": 12,
   "metadata": {
    "id": "kuh1vlNB0q09"
   },
   "outputs": [
    {
     "data": {
      "text/html": [
       "<div>\n",
       "<style scoped>\n",
       "    .dataframe tbody tr th:only-of-type {\n",
       "        vertical-align: middle;\n",
       "    }\n",
       "\n",
       "    .dataframe tbody tr th {\n",
       "        vertical-align: top;\n",
       "    }\n",
       "\n",
       "    .dataframe thead th {\n",
       "        text-align: right;\n",
       "    }\n",
       "</style>\n",
       "<table border=\"1\" class=\"dataframe\">\n",
       "  <thead>\n",
       "    <tr style=\"text-align: right;\">\n",
       "      <th></th>\n",
       "      <th>id</th>\n",
       "      <th>user_id</th>\n",
       "      <th>call_date</th>\n",
       "      <th>duration</th>\n",
       "    </tr>\n",
       "  </thead>\n",
       "  <tbody>\n",
       "    <tr>\n",
       "      <th>0</th>\n",
       "      <td>1000_93</td>\n",
       "      <td>1000</td>\n",
       "      <td>2018-12-27</td>\n",
       "      <td>8.52</td>\n",
       "    </tr>\n",
       "    <tr>\n",
       "      <th>1</th>\n",
       "      <td>1000_145</td>\n",
       "      <td>1000</td>\n",
       "      <td>2018-12-27</td>\n",
       "      <td>13.66</td>\n",
       "    </tr>\n",
       "    <tr>\n",
       "      <th>2</th>\n",
       "      <td>1000_247</td>\n",
       "      <td>1000</td>\n",
       "      <td>2018-12-27</td>\n",
       "      <td>14.48</td>\n",
       "    </tr>\n",
       "    <tr>\n",
       "      <th>3</th>\n",
       "      <td>1000_309</td>\n",
       "      <td>1000</td>\n",
       "      <td>2018-12-28</td>\n",
       "      <td>5.76</td>\n",
       "    </tr>\n",
       "    <tr>\n",
       "      <th>4</th>\n",
       "      <td>1000_380</td>\n",
       "      <td>1000</td>\n",
       "      <td>2018-12-30</td>\n",
       "      <td>4.22</td>\n",
       "    </tr>\n",
       "    <tr>\n",
       "      <th>5</th>\n",
       "      <td>1000_388</td>\n",
       "      <td>1000</td>\n",
       "      <td>2018-12-31</td>\n",
       "      <td>2.20</td>\n",
       "    </tr>\n",
       "    <tr>\n",
       "      <th>6</th>\n",
       "      <td>1000_510</td>\n",
       "      <td>1000</td>\n",
       "      <td>2018-12-27</td>\n",
       "      <td>5.75</td>\n",
       "    </tr>\n",
       "    <tr>\n",
       "      <th>7</th>\n",
       "      <td>1000_521</td>\n",
       "      <td>1000</td>\n",
       "      <td>2018-12-28</td>\n",
       "      <td>14.18</td>\n",
       "    </tr>\n",
       "    <tr>\n",
       "      <th>8</th>\n",
       "      <td>1000_530</td>\n",
       "      <td>1000</td>\n",
       "      <td>2018-12-28</td>\n",
       "      <td>5.77</td>\n",
       "    </tr>\n",
       "    <tr>\n",
       "      <th>9</th>\n",
       "      <td>1000_544</td>\n",
       "      <td>1000</td>\n",
       "      <td>2018-12-26</td>\n",
       "      <td>4.40</td>\n",
       "    </tr>\n",
       "  </tbody>\n",
       "</table>\n",
       "</div>"
      ],
      "text/plain": [
       "         id  user_id   call_date  duration\n",
       "0   1000_93     1000  2018-12-27      8.52\n",
       "1  1000_145     1000  2018-12-27     13.66\n",
       "2  1000_247     1000  2018-12-27     14.48\n",
       "3  1000_309     1000  2018-12-28      5.76\n",
       "4  1000_380     1000  2018-12-30      4.22\n",
       "5  1000_388     1000  2018-12-31      2.20\n",
       "6  1000_510     1000  2018-12-27      5.75\n",
       "7  1000_521     1000  2018-12-28     14.18\n",
       "8  1000_530     1000  2018-12-28      5.77\n",
       "9  1000_544     1000  2018-12-26      4.40"
      ]
     },
     "execution_count": 12,
     "metadata": {},
     "output_type": "execute_result"
    }
   ],
   "source": [
    "# Imprime una muestra de datos para las llamadas\n",
    "df_calls.head(10)"
   ]
  },
  {
   "cell_type": "markdown",
   "metadata": {
    "id": "DOAxYJSx0q09"
   },
   "source": [
    "[Describe lo que ves y observas en la información general y en la muestra de datos impresa para el precio de datos anterior. ¿Hay algún problema (tipos de datos no adecuados, datos ausentes, etc.) que pudieran necesitar investigación y cambios adicionales? ¿Cómo se puede arreglar?]\n",
    "- La mayoria de los datos cuentan con su tipo de dato correcto a excepción de la fila de \"Call_date\" que tiene un tipo de dato object cuando deberia de ser date_time y de la duración de las llamadas que deben de ser redondeadas ya que asi nos lo piden, sin importar que solo sea un segundo se debe de redondear a un minuto y ademas pasarlo a numero entero."
   ]
  },
  {
   "cell_type": "markdown",
   "metadata": {
    "id": "S7hzxmbX0q0-"
   },
   "source": [
    "### Corregir los datos"
   ]
  },
  {
   "cell_type": "markdown",
   "metadata": {
    "id": "YxWyAjD20q0-"
   },
   "source": [
    "[Corrige los problemas obvios con los datos basándote en las observaciones iniciales.]"
   ]
  },
  {
   "cell_type": "code",
   "execution_count": 13,
   "metadata": {
    "id": "S2r8xA4f0q0-"
   },
   "outputs": [
    {
     "name": "stdout",
     "output_type": "stream",
     "text": [
      "<class 'pandas.core.frame.DataFrame'>\n",
      "RangeIndex: 137735 entries, 0 to 137734\n",
      "Data columns (total 5 columns):\n",
      " #   Column     Non-Null Count   Dtype         \n",
      "---  ------     --------------   -----         \n",
      " 0   call_id    137735 non-null  object        \n",
      " 1   user_id    137735 non-null  int64         \n",
      " 2   call_date  137735 non-null  datetime64[ns]\n",
      " 3   duration   137735 non-null  float64       \n",
      " 4   month      137735 non-null  int64         \n",
      "dtypes: datetime64[ns](1), float64(1), int64(2), object(1)\n",
      "memory usage: 5.3+ MB\n"
     ]
    },
    {
     "data": {
      "text/html": [
       "<div>\n",
       "<style scoped>\n",
       "    .dataframe tbody tr th:only-of-type {\n",
       "        vertical-align: middle;\n",
       "    }\n",
       "\n",
       "    .dataframe tbody tr th {\n",
       "        vertical-align: top;\n",
       "    }\n",
       "\n",
       "    .dataframe thead th {\n",
       "        text-align: right;\n",
       "    }\n",
       "</style>\n",
       "<table border=\"1\" class=\"dataframe\">\n",
       "  <thead>\n",
       "    <tr style=\"text-align: right;\">\n",
       "      <th></th>\n",
       "      <th>call_id</th>\n",
       "      <th>user_id</th>\n",
       "      <th>call_date</th>\n",
       "      <th>duration</th>\n",
       "      <th>month</th>\n",
       "    </tr>\n",
       "  </thead>\n",
       "  <tbody>\n",
       "    <tr>\n",
       "      <th>0</th>\n",
       "      <td>1000_93</td>\n",
       "      <td>1000</td>\n",
       "      <td>2018-12-27</td>\n",
       "      <td>9.0</td>\n",
       "      <td>12</td>\n",
       "    </tr>\n",
       "    <tr>\n",
       "      <th>1</th>\n",
       "      <td>1000_145</td>\n",
       "      <td>1000</td>\n",
       "      <td>2018-12-27</td>\n",
       "      <td>14.0</td>\n",
       "      <td>12</td>\n",
       "    </tr>\n",
       "    <tr>\n",
       "      <th>2</th>\n",
       "      <td>1000_247</td>\n",
       "      <td>1000</td>\n",
       "      <td>2018-12-27</td>\n",
       "      <td>15.0</td>\n",
       "      <td>12</td>\n",
       "    </tr>\n",
       "    <tr>\n",
       "      <th>3</th>\n",
       "      <td>1000_309</td>\n",
       "      <td>1000</td>\n",
       "      <td>2018-12-28</td>\n",
       "      <td>6.0</td>\n",
       "      <td>12</td>\n",
       "    </tr>\n",
       "    <tr>\n",
       "      <th>4</th>\n",
       "      <td>1000_380</td>\n",
       "      <td>1000</td>\n",
       "      <td>2018-12-30</td>\n",
       "      <td>5.0</td>\n",
       "      <td>12</td>\n",
       "    </tr>\n",
       "    <tr>\n",
       "      <th>5</th>\n",
       "      <td>1000_388</td>\n",
       "      <td>1000</td>\n",
       "      <td>2018-12-31</td>\n",
       "      <td>3.0</td>\n",
       "      <td>12</td>\n",
       "    </tr>\n",
       "    <tr>\n",
       "      <th>6</th>\n",
       "      <td>1000_510</td>\n",
       "      <td>1000</td>\n",
       "      <td>2018-12-27</td>\n",
       "      <td>6.0</td>\n",
       "      <td>12</td>\n",
       "    </tr>\n",
       "    <tr>\n",
       "      <th>7</th>\n",
       "      <td>1000_521</td>\n",
       "      <td>1000</td>\n",
       "      <td>2018-12-28</td>\n",
       "      <td>15.0</td>\n",
       "      <td>12</td>\n",
       "    </tr>\n",
       "    <tr>\n",
       "      <th>8</th>\n",
       "      <td>1000_530</td>\n",
       "      <td>1000</td>\n",
       "      <td>2018-12-28</td>\n",
       "      <td>6.0</td>\n",
       "      <td>12</td>\n",
       "    </tr>\n",
       "    <tr>\n",
       "      <th>9</th>\n",
       "      <td>1000_544</td>\n",
       "      <td>1000</td>\n",
       "      <td>2018-12-26</td>\n",
       "      <td>5.0</td>\n",
       "      <td>12</td>\n",
       "    </tr>\n",
       "  </tbody>\n",
       "</table>\n",
       "</div>"
      ],
      "text/plain": [
       "    call_id  user_id  call_date  duration  month\n",
       "0   1000_93     1000 2018-12-27       9.0     12\n",
       "1  1000_145     1000 2018-12-27      14.0     12\n",
       "2  1000_247     1000 2018-12-27      15.0     12\n",
       "3  1000_309     1000 2018-12-28       6.0     12\n",
       "4  1000_380     1000 2018-12-30       5.0     12\n",
       "5  1000_388     1000 2018-12-31       3.0     12\n",
       "6  1000_510     1000 2018-12-27       6.0     12\n",
       "7  1000_521     1000 2018-12-28      15.0     12\n",
       "8  1000_530     1000 2018-12-28       6.0     12\n",
       "9  1000_544     1000 2018-12-26       5.0     12"
      ]
     },
     "execution_count": 13,
     "metadata": {},
     "output_type": "execute_result"
    }
   ],
   "source": [
    "df_calls.rename(columns={\"id\": \"call_id\"}, inplace=True)\n",
    "df_calls[\"call_date\"] = pd.to_datetime(df_calls[\"call_date\"], format= \"%Y-%m-%d\")\n",
    "df_calls[\"month\"] = pd.DatetimeIndex(df_calls[\"call_date\"]).month\n",
    "df_calls[\"duration\"] = np.ceil(df_calls[\"duration\"])\n",
    "df_calls.info()\n",
    "df_calls.head(10)"
   ]
  },
  {
   "cell_type": "markdown",
   "metadata": {
    "id": "KrMgTrlG0q0_"
   },
   "source": [
    "### Enriquecer los datos"
   ]
  },
  {
   "cell_type": "markdown",
   "metadata": {
    "id": "a9MbmEvE0q0_"
   },
   "source": [
    "[Agrega factores adicionales a los datos si crees que pudieran ser útiles.]"
   ]
  },
  {
   "cell_type": "code",
   "execution_count": 14,
   "metadata": {
    "id": "iZ1avpA_0q0_"
   },
   "outputs": [],
   "source": [
    "df_calls[\"duration\"] = df_calls[\"duration\"].astype(\"int64\")"
   ]
  },
  {
   "cell_type": "markdown",
   "metadata": {
    "id": "mOUZSi180q0_"
   },
   "source": [
    "## Mensajes"
   ]
  },
  {
   "cell_type": "code",
   "execution_count": 15,
   "metadata": {
    "id": "R-bYJpdV0q1A"
   },
   "outputs": [
    {
     "name": "stdout",
     "output_type": "stream",
     "text": [
      "<class 'pandas.core.frame.DataFrame'>\n",
      "RangeIndex: 76051 entries, 0 to 76050\n",
      "Data columns (total 3 columns):\n",
      " #   Column        Non-Null Count  Dtype \n",
      "---  ------        --------------  ----- \n",
      " 0   id            76051 non-null  object\n",
      " 1   user_id       76051 non-null  int64 \n",
      " 2   message_date  76051 non-null  object\n",
      "dtypes: int64(1), object(2)\n",
      "memory usage: 1.7+ MB\n"
     ]
    }
   ],
   "source": [
    "# Imprime la información general/resumida sobre el DataFrame de los mensajes\n",
    "df_messages.info()"
   ]
  },
  {
   "cell_type": "code",
   "execution_count": 16,
   "metadata": {
    "id": "mCEl2iGE0q1A"
   },
   "outputs": [
    {
     "data": {
      "text/html": [
       "<div>\n",
       "<style scoped>\n",
       "    .dataframe tbody tr th:only-of-type {\n",
       "        vertical-align: middle;\n",
       "    }\n",
       "\n",
       "    .dataframe tbody tr th {\n",
       "        vertical-align: top;\n",
       "    }\n",
       "\n",
       "    .dataframe thead th {\n",
       "        text-align: right;\n",
       "    }\n",
       "</style>\n",
       "<table border=\"1\" class=\"dataframe\">\n",
       "  <thead>\n",
       "    <tr style=\"text-align: right;\">\n",
       "      <th></th>\n",
       "      <th>id</th>\n",
       "      <th>user_id</th>\n",
       "      <th>message_date</th>\n",
       "    </tr>\n",
       "  </thead>\n",
       "  <tbody>\n",
       "    <tr>\n",
       "      <th>0</th>\n",
       "      <td>1000_125</td>\n",
       "      <td>1000</td>\n",
       "      <td>2018-12-27</td>\n",
       "    </tr>\n",
       "    <tr>\n",
       "      <th>1</th>\n",
       "      <td>1000_160</td>\n",
       "      <td>1000</td>\n",
       "      <td>2018-12-31</td>\n",
       "    </tr>\n",
       "    <tr>\n",
       "      <th>2</th>\n",
       "      <td>1000_223</td>\n",
       "      <td>1000</td>\n",
       "      <td>2018-12-31</td>\n",
       "    </tr>\n",
       "    <tr>\n",
       "      <th>3</th>\n",
       "      <td>1000_251</td>\n",
       "      <td>1000</td>\n",
       "      <td>2018-12-27</td>\n",
       "    </tr>\n",
       "    <tr>\n",
       "      <th>4</th>\n",
       "      <td>1000_255</td>\n",
       "      <td>1000</td>\n",
       "      <td>2018-12-26</td>\n",
       "    </tr>\n",
       "    <tr>\n",
       "      <th>5</th>\n",
       "      <td>1000_346</td>\n",
       "      <td>1000</td>\n",
       "      <td>2018-12-29</td>\n",
       "    </tr>\n",
       "    <tr>\n",
       "      <th>6</th>\n",
       "      <td>1000_386</td>\n",
       "      <td>1000</td>\n",
       "      <td>2018-12-30</td>\n",
       "    </tr>\n",
       "    <tr>\n",
       "      <th>7</th>\n",
       "      <td>1000_413</td>\n",
       "      <td>1000</td>\n",
       "      <td>2018-12-31</td>\n",
       "    </tr>\n",
       "    <tr>\n",
       "      <th>8</th>\n",
       "      <td>1000_502</td>\n",
       "      <td>1000</td>\n",
       "      <td>2018-12-27</td>\n",
       "    </tr>\n",
       "    <tr>\n",
       "      <th>9</th>\n",
       "      <td>1000_525</td>\n",
       "      <td>1000</td>\n",
       "      <td>2018-12-28</td>\n",
       "    </tr>\n",
       "  </tbody>\n",
       "</table>\n",
       "</div>"
      ],
      "text/plain": [
       "         id  user_id message_date\n",
       "0  1000_125     1000   2018-12-27\n",
       "1  1000_160     1000   2018-12-31\n",
       "2  1000_223     1000   2018-12-31\n",
       "3  1000_251     1000   2018-12-27\n",
       "4  1000_255     1000   2018-12-26\n",
       "5  1000_346     1000   2018-12-29\n",
       "6  1000_386     1000   2018-12-30\n",
       "7  1000_413     1000   2018-12-31\n",
       "8  1000_502     1000   2018-12-27\n",
       "9  1000_525     1000   2018-12-28"
      ]
     },
     "execution_count": 16,
     "metadata": {},
     "output_type": "execute_result"
    }
   ],
   "source": [
    "# Imprime una muestra de datos para los mensajes\n",
    "df_messages.head(10)"
   ]
  },
  {
   "cell_type": "markdown",
   "metadata": {
    "id": "04xDj7KH0q1A"
   },
   "source": [
    "[Describe lo que ves y observas en la información general y en la muestra de datos impresa para el precio de datos anterior. ¿Hay algún problema (tipos de datos no adecuados, datos ausentes, etc.) que pudieran necesitar investigación y cambios adicionales? ¿Cómo se puede arreglar?]\n",
    "- Puedo notar que de nuevo el tipo de dato que tiene la fila de fecha del mensaje es incorrecto, de lo demas se puede observar que es un DataFrame pequeño pero especifico."
   ]
  },
  {
   "cell_type": "markdown",
   "metadata": {
    "id": "Sprfak900q1B"
   },
   "source": [
    "### Corregir los datos"
   ]
  },
  {
   "cell_type": "markdown",
   "metadata": {
    "id": "eGw7d9j10q1B"
   },
   "source": [
    "[Corrige los problemas obvios con los datos basándote en las observaciones iniciales.]"
   ]
  },
  {
   "cell_type": "code",
   "execution_count": 17,
   "metadata": {
    "id": "vsllvkoa0q1B"
   },
   "outputs": [
    {
     "name": "stdout",
     "output_type": "stream",
     "text": [
      "<class 'pandas.core.frame.DataFrame'>\n",
      "RangeIndex: 76051 entries, 0 to 76050\n",
      "Data columns (total 4 columns):\n",
      " #   Column        Non-Null Count  Dtype         \n",
      "---  ------        --------------  -----         \n",
      " 0   message_id    76051 non-null  object        \n",
      " 1   user_id       76051 non-null  int64         \n",
      " 2   message_date  76051 non-null  datetime64[ns]\n",
      " 3   month         76051 non-null  int64         \n",
      "dtypes: datetime64[ns](1), int64(2), object(1)\n",
      "memory usage: 2.3+ MB\n"
     ]
    },
    {
     "data": {
      "text/html": [
       "<div>\n",
       "<style scoped>\n",
       "    .dataframe tbody tr th:only-of-type {\n",
       "        vertical-align: middle;\n",
       "    }\n",
       "\n",
       "    .dataframe tbody tr th {\n",
       "        vertical-align: top;\n",
       "    }\n",
       "\n",
       "    .dataframe thead th {\n",
       "        text-align: right;\n",
       "    }\n",
       "</style>\n",
       "<table border=\"1\" class=\"dataframe\">\n",
       "  <thead>\n",
       "    <tr style=\"text-align: right;\">\n",
       "      <th></th>\n",
       "      <th>message_id</th>\n",
       "      <th>user_id</th>\n",
       "      <th>message_date</th>\n",
       "      <th>month</th>\n",
       "    </tr>\n",
       "  </thead>\n",
       "  <tbody>\n",
       "    <tr>\n",
       "      <th>0</th>\n",
       "      <td>1000_125</td>\n",
       "      <td>1000</td>\n",
       "      <td>2018-12-27</td>\n",
       "      <td>12</td>\n",
       "    </tr>\n",
       "    <tr>\n",
       "      <th>1</th>\n",
       "      <td>1000_160</td>\n",
       "      <td>1000</td>\n",
       "      <td>2018-12-31</td>\n",
       "      <td>12</td>\n",
       "    </tr>\n",
       "    <tr>\n",
       "      <th>2</th>\n",
       "      <td>1000_223</td>\n",
       "      <td>1000</td>\n",
       "      <td>2018-12-31</td>\n",
       "      <td>12</td>\n",
       "    </tr>\n",
       "    <tr>\n",
       "      <th>3</th>\n",
       "      <td>1000_251</td>\n",
       "      <td>1000</td>\n",
       "      <td>2018-12-27</td>\n",
       "      <td>12</td>\n",
       "    </tr>\n",
       "    <tr>\n",
       "      <th>4</th>\n",
       "      <td>1000_255</td>\n",
       "      <td>1000</td>\n",
       "      <td>2018-12-26</td>\n",
       "      <td>12</td>\n",
       "    </tr>\n",
       "    <tr>\n",
       "      <th>5</th>\n",
       "      <td>1000_346</td>\n",
       "      <td>1000</td>\n",
       "      <td>2018-12-29</td>\n",
       "      <td>12</td>\n",
       "    </tr>\n",
       "    <tr>\n",
       "      <th>6</th>\n",
       "      <td>1000_386</td>\n",
       "      <td>1000</td>\n",
       "      <td>2018-12-30</td>\n",
       "      <td>12</td>\n",
       "    </tr>\n",
       "    <tr>\n",
       "      <th>7</th>\n",
       "      <td>1000_413</td>\n",
       "      <td>1000</td>\n",
       "      <td>2018-12-31</td>\n",
       "      <td>12</td>\n",
       "    </tr>\n",
       "    <tr>\n",
       "      <th>8</th>\n",
       "      <td>1000_502</td>\n",
       "      <td>1000</td>\n",
       "      <td>2018-12-27</td>\n",
       "      <td>12</td>\n",
       "    </tr>\n",
       "    <tr>\n",
       "      <th>9</th>\n",
       "      <td>1000_525</td>\n",
       "      <td>1000</td>\n",
       "      <td>2018-12-28</td>\n",
       "      <td>12</td>\n",
       "    </tr>\n",
       "  </tbody>\n",
       "</table>\n",
       "</div>"
      ],
      "text/plain": [
       "  message_id  user_id message_date  month\n",
       "0   1000_125     1000   2018-12-27     12\n",
       "1   1000_160     1000   2018-12-31     12\n",
       "2   1000_223     1000   2018-12-31     12\n",
       "3   1000_251     1000   2018-12-27     12\n",
       "4   1000_255     1000   2018-12-26     12\n",
       "5   1000_346     1000   2018-12-29     12\n",
       "6   1000_386     1000   2018-12-30     12\n",
       "7   1000_413     1000   2018-12-31     12\n",
       "8   1000_502     1000   2018-12-27     12\n",
       "9   1000_525     1000   2018-12-28     12"
      ]
     },
     "execution_count": 17,
     "metadata": {},
     "output_type": "execute_result"
    }
   ],
   "source": [
    "df_messages.rename(columns={\"id\": \"message_id\"}, inplace=True)\n",
    "df_messages[\"message_date\"] = pd.to_datetime(df_messages[\"message_date\"], format= \"%Y-%m-%d\")\n",
    "df_messages[\"month\"] = pd.DatetimeIndex(df_messages[\"message_date\"]).month\n",
    "df_messages.info()\n",
    "df_messages.head(10)"
   ]
  },
  {
   "cell_type": "markdown",
   "metadata": {
    "id": "HvLid7iD0q1B"
   },
   "source": [
    "### Enriquecer los datos"
   ]
  },
  {
   "cell_type": "markdown",
   "metadata": {
    "id": "8nhPFKIe0q1C"
   },
   "source": [
    "[Agrega factores adicionales a los datos si crees que pudieran ser útiles.]"
   ]
  },
  {
   "cell_type": "code",
   "execution_count": 18,
   "metadata": {
    "id": "zYEXZac10q1C"
   },
   "outputs": [],
   "source": [
    "#No es necesario realizar un enriquecimiento, ya que los datos cuentan con el tipo de dato que les corresponde despues de corregirlos."
   ]
  },
  {
   "cell_type": "markdown",
   "metadata": {},
   "source": [
    "<div class=\"alert alert-block alert-success\">\n",
    "<b>Comentario del revisor</b> <a class=“tocSkip”></a>  \n",
    "¡Excelente trabajo con la revisión y corrección de los datos! 🎉 Has hecho un análisis detallado y meticuloso de cada DataFrame, identificando y corrigiendo problemas de tipos de datos y valores ausentes de manera efectiva. Tus observaciones sobre la información general y las muestras son precisas, y las correcciones implementadas son adecuadas para mejorar la calidad de los datos. "
   ]
  },
  {
   "cell_type": "markdown",
   "metadata": {
    "id": "bStkaxn40q1C"
   },
   "source": [
    "## Internet"
   ]
  },
  {
   "cell_type": "code",
   "execution_count": 19,
   "metadata": {
    "id": "e-Uz5qyn0q1C"
   },
   "outputs": [
    {
     "name": "stdout",
     "output_type": "stream",
     "text": [
      "<class 'pandas.core.frame.DataFrame'>\n",
      "RangeIndex: 104825 entries, 0 to 104824\n",
      "Data columns (total 4 columns):\n",
      " #   Column        Non-Null Count   Dtype  \n",
      "---  ------        --------------   -----  \n",
      " 0   id            104825 non-null  object \n",
      " 1   user_id       104825 non-null  int64  \n",
      " 2   session_date  104825 non-null  object \n",
      " 3   mb_used       104825 non-null  float64\n",
      "dtypes: float64(1), int64(1), object(2)\n",
      "memory usage: 3.2+ MB\n"
     ]
    }
   ],
   "source": [
    "# Imprime la información general/resumida sobre el DataFrame de internet\n",
    "df_internet.info()"
   ]
  },
  {
   "cell_type": "code",
   "execution_count": 20,
   "metadata": {
    "id": "9r3x_XLw0q1C"
   },
   "outputs": [
    {
     "data": {
      "text/html": [
       "<div>\n",
       "<style scoped>\n",
       "    .dataframe tbody tr th:only-of-type {\n",
       "        vertical-align: middle;\n",
       "    }\n",
       "\n",
       "    .dataframe tbody tr th {\n",
       "        vertical-align: top;\n",
       "    }\n",
       "\n",
       "    .dataframe thead th {\n",
       "        text-align: right;\n",
       "    }\n",
       "</style>\n",
       "<table border=\"1\" class=\"dataframe\">\n",
       "  <thead>\n",
       "    <tr style=\"text-align: right;\">\n",
       "      <th></th>\n",
       "      <th>id</th>\n",
       "      <th>user_id</th>\n",
       "      <th>session_date</th>\n",
       "      <th>mb_used</th>\n",
       "    </tr>\n",
       "  </thead>\n",
       "  <tbody>\n",
       "    <tr>\n",
       "      <th>0</th>\n",
       "      <td>1000_13</td>\n",
       "      <td>1000</td>\n",
       "      <td>2018-12-29</td>\n",
       "      <td>89.86</td>\n",
       "    </tr>\n",
       "    <tr>\n",
       "      <th>1</th>\n",
       "      <td>1000_204</td>\n",
       "      <td>1000</td>\n",
       "      <td>2018-12-31</td>\n",
       "      <td>0.00</td>\n",
       "    </tr>\n",
       "    <tr>\n",
       "      <th>2</th>\n",
       "      <td>1000_379</td>\n",
       "      <td>1000</td>\n",
       "      <td>2018-12-28</td>\n",
       "      <td>660.40</td>\n",
       "    </tr>\n",
       "    <tr>\n",
       "      <th>3</th>\n",
       "      <td>1000_413</td>\n",
       "      <td>1000</td>\n",
       "      <td>2018-12-26</td>\n",
       "      <td>270.99</td>\n",
       "    </tr>\n",
       "    <tr>\n",
       "      <th>4</th>\n",
       "      <td>1000_442</td>\n",
       "      <td>1000</td>\n",
       "      <td>2018-12-27</td>\n",
       "      <td>880.22</td>\n",
       "    </tr>\n",
       "    <tr>\n",
       "      <th>5</th>\n",
       "      <td>1001_0</td>\n",
       "      <td>1001</td>\n",
       "      <td>2018-08-24</td>\n",
       "      <td>284.68</td>\n",
       "    </tr>\n",
       "    <tr>\n",
       "      <th>6</th>\n",
       "      <td>1001_3</td>\n",
       "      <td>1001</td>\n",
       "      <td>2018-12-09</td>\n",
       "      <td>656.04</td>\n",
       "    </tr>\n",
       "    <tr>\n",
       "      <th>7</th>\n",
       "      <td>1001_4</td>\n",
       "      <td>1001</td>\n",
       "      <td>2018-11-04</td>\n",
       "      <td>16.97</td>\n",
       "    </tr>\n",
       "    <tr>\n",
       "      <th>8</th>\n",
       "      <td>1001_10</td>\n",
       "      <td>1001</td>\n",
       "      <td>2018-11-27</td>\n",
       "      <td>135.18</td>\n",
       "    </tr>\n",
       "    <tr>\n",
       "      <th>9</th>\n",
       "      <td>1001_15</td>\n",
       "      <td>1001</td>\n",
       "      <td>2018-12-13</td>\n",
       "      <td>761.92</td>\n",
       "    </tr>\n",
       "  </tbody>\n",
       "</table>\n",
       "</div>"
      ],
      "text/plain": [
       "         id  user_id session_date  mb_used\n",
       "0   1000_13     1000   2018-12-29    89.86\n",
       "1  1000_204     1000   2018-12-31     0.00\n",
       "2  1000_379     1000   2018-12-28   660.40\n",
       "3  1000_413     1000   2018-12-26   270.99\n",
       "4  1000_442     1000   2018-12-27   880.22\n",
       "5    1001_0     1001   2018-08-24   284.68\n",
       "6    1001_3     1001   2018-12-09   656.04\n",
       "7    1001_4     1001   2018-11-04    16.97\n",
       "8   1001_10     1001   2018-11-27   135.18\n",
       "9   1001_15     1001   2018-12-13   761.92"
      ]
     },
     "execution_count": 20,
     "metadata": {},
     "output_type": "execute_result"
    }
   ],
   "source": [
    "# Imprime una muestra de datos para el tráfico de internet\n",
    "df_internet.head(10)"
   ]
  },
  {
   "cell_type": "markdown",
   "metadata": {
    "id": "EzOG5ik30q1D"
   },
   "source": [
    "[Describe lo que ves y observas en la información general y en la muestra de datos impresa para el precio de datos anterior. ¿Hay algún problema (tipos de datos no adecuados, datos ausentes, etc.) que pudieran necesitar investigación y cambios adicionales? ¿Cómo se puede arreglar?]"
   ]
  },
  {
   "cell_type": "markdown",
   "metadata": {
    "id": "yA0tkPFg0q1D"
   },
   "source": [
    "### Corregir los datos"
   ]
  },
  {
   "cell_type": "markdown",
   "metadata": {
    "id": "zlZMuIEK0q1D"
   },
   "source": [
    "[Corrige los problemas obvios con los datos basándote en las observaciones iniciales.]"
   ]
  },
  {
   "cell_type": "code",
   "execution_count": 21,
   "metadata": {
    "id": "zVeanzdd0q1E"
   },
   "outputs": [],
   "source": [
    "df_internet[\"session_date\"] = pd.to_datetime(df_internet[\"session_date\"], format=\"%Y-%m-%d\")\n",
    "df_internet[\"month\"] = pd.DatetimeIndex(df_internet[\"session_date\"]).month\n",
    "df_internet[\"mb_used\"] = np.ceil(df_internet[\"mb_used\"])"
   ]
  },
  {
   "cell_type": "markdown",
   "metadata": {
    "id": "e8_mLF4a0q1E"
   },
   "source": [
    "### Enriquecer los datos"
   ]
  },
  {
   "cell_type": "markdown",
   "metadata": {
    "id": "xhNdn2tE0q1E"
   },
   "source": [
    "[Agrega factores adicionales a los datos si crees que pudieran ser útiles.]"
   ]
  },
  {
   "cell_type": "code",
   "execution_count": 22,
   "metadata": {
    "id": "ESiYPIEK0q1E"
   },
   "outputs": [
    {
     "name": "stdout",
     "output_type": "stream",
     "text": [
      "<class 'pandas.core.frame.DataFrame'>\n",
      "RangeIndex: 104825 entries, 0 to 104824\n",
      "Data columns (total 5 columns):\n",
      " #   Column        Non-Null Count   Dtype         \n",
      "---  ------        --------------   -----         \n",
      " 0   internet_id   104825 non-null  object        \n",
      " 1   user_id       104825 non-null  int64         \n",
      " 2   session_date  104825 non-null  datetime64[ns]\n",
      " 3   mb_used       104825 non-null  float64       \n",
      " 4   month         104825 non-null  int64         \n",
      "dtypes: datetime64[ns](1), float64(1), int64(2), object(1)\n",
      "memory usage: 4.0+ MB\n"
     ]
    },
    {
     "data": {
      "text/html": [
       "<div>\n",
       "<style scoped>\n",
       "    .dataframe tbody tr th:only-of-type {\n",
       "        vertical-align: middle;\n",
       "    }\n",
       "\n",
       "    .dataframe tbody tr th {\n",
       "        vertical-align: top;\n",
       "    }\n",
       "\n",
       "    .dataframe thead th {\n",
       "        text-align: right;\n",
       "    }\n",
       "</style>\n",
       "<table border=\"1\" class=\"dataframe\">\n",
       "  <thead>\n",
       "    <tr style=\"text-align: right;\">\n",
       "      <th></th>\n",
       "      <th>internet_id</th>\n",
       "      <th>user_id</th>\n",
       "      <th>session_date</th>\n",
       "      <th>mb_used</th>\n",
       "      <th>month</th>\n",
       "    </tr>\n",
       "  </thead>\n",
       "  <tbody>\n",
       "    <tr>\n",
       "      <th>0</th>\n",
       "      <td>1000_13</td>\n",
       "      <td>1000</td>\n",
       "      <td>2018-12-29</td>\n",
       "      <td>90.0</td>\n",
       "      <td>12</td>\n",
       "    </tr>\n",
       "    <tr>\n",
       "      <th>1</th>\n",
       "      <td>1000_204</td>\n",
       "      <td>1000</td>\n",
       "      <td>2018-12-31</td>\n",
       "      <td>0.0</td>\n",
       "      <td>12</td>\n",
       "    </tr>\n",
       "    <tr>\n",
       "      <th>2</th>\n",
       "      <td>1000_379</td>\n",
       "      <td>1000</td>\n",
       "      <td>2018-12-28</td>\n",
       "      <td>661.0</td>\n",
       "      <td>12</td>\n",
       "    </tr>\n",
       "    <tr>\n",
       "      <th>3</th>\n",
       "      <td>1000_413</td>\n",
       "      <td>1000</td>\n",
       "      <td>2018-12-26</td>\n",
       "      <td>271.0</td>\n",
       "      <td>12</td>\n",
       "    </tr>\n",
       "    <tr>\n",
       "      <th>4</th>\n",
       "      <td>1000_442</td>\n",
       "      <td>1000</td>\n",
       "      <td>2018-12-27</td>\n",
       "      <td>881.0</td>\n",
       "      <td>12</td>\n",
       "    </tr>\n",
       "    <tr>\n",
       "      <th>5</th>\n",
       "      <td>1001_0</td>\n",
       "      <td>1001</td>\n",
       "      <td>2018-08-24</td>\n",
       "      <td>285.0</td>\n",
       "      <td>8</td>\n",
       "    </tr>\n",
       "    <tr>\n",
       "      <th>6</th>\n",
       "      <td>1001_3</td>\n",
       "      <td>1001</td>\n",
       "      <td>2018-12-09</td>\n",
       "      <td>657.0</td>\n",
       "      <td>12</td>\n",
       "    </tr>\n",
       "    <tr>\n",
       "      <th>7</th>\n",
       "      <td>1001_4</td>\n",
       "      <td>1001</td>\n",
       "      <td>2018-11-04</td>\n",
       "      <td>17.0</td>\n",
       "      <td>11</td>\n",
       "    </tr>\n",
       "    <tr>\n",
       "      <th>8</th>\n",
       "      <td>1001_10</td>\n",
       "      <td>1001</td>\n",
       "      <td>2018-11-27</td>\n",
       "      <td>136.0</td>\n",
       "      <td>11</td>\n",
       "    </tr>\n",
       "    <tr>\n",
       "      <th>9</th>\n",
       "      <td>1001_15</td>\n",
       "      <td>1001</td>\n",
       "      <td>2018-12-13</td>\n",
       "      <td>762.0</td>\n",
       "      <td>12</td>\n",
       "    </tr>\n",
       "  </tbody>\n",
       "</table>\n",
       "</div>"
      ],
      "text/plain": [
       "  internet_id  user_id session_date  mb_used  month\n",
       "0     1000_13     1000   2018-12-29     90.0     12\n",
       "1    1000_204     1000   2018-12-31      0.0     12\n",
       "2    1000_379     1000   2018-12-28    661.0     12\n",
       "3    1000_413     1000   2018-12-26    271.0     12\n",
       "4    1000_442     1000   2018-12-27    881.0     12\n",
       "5      1001_0     1001   2018-08-24    285.0      8\n",
       "6      1001_3     1001   2018-12-09    657.0     12\n",
       "7      1001_4     1001   2018-11-04     17.0     11\n",
       "8     1001_10     1001   2018-11-27    136.0     11\n",
       "9     1001_15     1001   2018-12-13    762.0     12"
      ]
     },
     "execution_count": 22,
     "metadata": {},
     "output_type": "execute_result"
    }
   ],
   "source": [
    "df_internet.rename(columns={\"id\": \"internet_id\"}, inplace=True)\n",
    "df_internet.info()\n",
    "df_internet.head(10)"
   ]
  },
  {
   "cell_type": "markdown",
   "metadata": {
    "id": "3UA2cqIW0q1E"
   },
   "source": [
    "## Estudiar las condiciones de las tarifas"
   ]
  },
  {
   "cell_type": "markdown",
   "metadata": {
    "id": "T86Sqltq0q1F"
   },
   "source": [
    "[Es sumamente importante entender cómo funcionan las tarifas, cómo se les cobra a los usuarios en función de su plan de suscripción. Así que te sugerimos imprimir la información de la tarifa para ver una vez más sus condiciones.]"
   ]
  },
  {
   "cell_type": "code",
   "execution_count": 23,
   "metadata": {
    "id": "i409op8p0q1F"
   },
   "outputs": [
    {
     "name": "stdout",
     "output_type": "stream",
     "text": [
      "<class 'pandas.core.frame.DataFrame'>\n",
      "RangeIndex: 2 entries, 0 to 1\n",
      "Data columns (total 8 columns):\n",
      " #   Column                 Non-Null Count  Dtype  \n",
      "---  ------                 --------------  -----  \n",
      " 0   messages_included      2 non-null      int64  \n",
      " 1   mb_per_month_included  2 non-null      int64  \n",
      " 2   minutes_included       2 non-null      int64  \n",
      " 3   usd_monthly_pay        2 non-null      int64  \n",
      " 4   usd_per_gb             2 non-null      int64  \n",
      " 5   usd_per_message        2 non-null      float64\n",
      " 6   usd_per_minute         2 non-null      float64\n",
      " 7   plan_id                2 non-null      object \n",
      "dtypes: float64(2), int64(5), object(1)\n",
      "memory usage: 256.0+ bytes\n"
     ]
    },
    {
     "data": {
      "text/html": [
       "<div>\n",
       "<style scoped>\n",
       "    .dataframe tbody tr th:only-of-type {\n",
       "        vertical-align: middle;\n",
       "    }\n",
       "\n",
       "    .dataframe tbody tr th {\n",
       "        vertical-align: top;\n",
       "    }\n",
       "\n",
       "    .dataframe thead th {\n",
       "        text-align: right;\n",
       "    }\n",
       "</style>\n",
       "<table border=\"1\" class=\"dataframe\">\n",
       "  <thead>\n",
       "    <tr style=\"text-align: right;\">\n",
       "      <th></th>\n",
       "      <th>messages_included</th>\n",
       "      <th>mb_per_month_included</th>\n",
       "      <th>minutes_included</th>\n",
       "      <th>usd_monthly_pay</th>\n",
       "      <th>usd_per_gb</th>\n",
       "      <th>usd_per_message</th>\n",
       "      <th>usd_per_minute</th>\n",
       "      <th>plan_id</th>\n",
       "    </tr>\n",
       "  </thead>\n",
       "  <tbody>\n",
       "    <tr>\n",
       "      <th>0</th>\n",
       "      <td>50</td>\n",
       "      <td>15360</td>\n",
       "      <td>500</td>\n",
       "      <td>20</td>\n",
       "      <td>10</td>\n",
       "      <td>0.03</td>\n",
       "      <td>0.03</td>\n",
       "      <td>surf</td>\n",
       "    </tr>\n",
       "    <tr>\n",
       "      <th>1</th>\n",
       "      <td>1000</td>\n",
       "      <td>30720</td>\n",
       "      <td>3000</td>\n",
       "      <td>70</td>\n",
       "      <td>7</td>\n",
       "      <td>0.01</td>\n",
       "      <td>0.01</td>\n",
       "      <td>ultimate</td>\n",
       "    </tr>\n",
       "  </tbody>\n",
       "</table>\n",
       "</div>"
      ],
      "text/plain": [
       "   messages_included  mb_per_month_included  minutes_included  \\\n",
       "0                 50                  15360               500   \n",
       "1               1000                  30720              3000   \n",
       "\n",
       "   usd_monthly_pay  usd_per_gb  usd_per_message  usd_per_minute   plan_id  \n",
       "0               20          10             0.03            0.03      surf  \n",
       "1               70           7             0.01            0.01  ultimate  "
      ]
     },
     "execution_count": 23,
     "metadata": {},
     "output_type": "execute_result"
    }
   ],
   "source": [
    "# Imprime las condiciones de la tarifa y asegúrate de que te quedan claras\n",
    "df_plans.info()\n",
    "df_plans"
   ]
  },
  {
   "cell_type": "markdown",
   "metadata": {
    "id": "hMR1tP5d0q1F"
   },
   "source": [
    "## Agregar datos por usuario\n",
    "\n",
    "[Ahora que los datos están limpios, agrega los datos por usuario y por periodo para que solo haya un registro por usuario y por periodo. Esto facilitará mucho el análisis posterior.]"
   ]
  },
  {
   "cell_type": "code",
   "execution_count": 24,
   "metadata": {
    "id": "A332cedB0q1G"
   },
   "outputs": [
    {
     "data": {
      "text/html": [
       "<div>\n",
       "<style scoped>\n",
       "    .dataframe tbody tr th:only-of-type {\n",
       "        vertical-align: middle;\n",
       "    }\n",
       "\n",
       "    .dataframe tbody tr th {\n",
       "        vertical-align: top;\n",
       "    }\n",
       "\n",
       "    .dataframe thead tr th {\n",
       "        text-align: left;\n",
       "    }\n",
       "\n",
       "    .dataframe thead tr:last-of-type th {\n",
       "        text-align: right;\n",
       "    }\n",
       "</style>\n",
       "<table border=\"1\" class=\"dataframe\">\n",
       "  <thead>\n",
       "    <tr>\n",
       "      <th></th>\n",
       "      <th></th>\n",
       "      <th>sum</th>\n",
       "      <th>count</th>\n",
       "    </tr>\n",
       "    <tr>\n",
       "      <th></th>\n",
       "      <th></th>\n",
       "      <th>duration</th>\n",
       "      <th>duration</th>\n",
       "    </tr>\n",
       "    <tr>\n",
       "      <th>user_id</th>\n",
       "      <th>month</th>\n",
       "      <th></th>\n",
       "      <th></th>\n",
       "    </tr>\n",
       "  </thead>\n",
       "  <tbody>\n",
       "    <tr>\n",
       "      <th>1000</th>\n",
       "      <th>12</th>\n",
       "      <td>124</td>\n",
       "      <td>16</td>\n",
       "    </tr>\n",
       "    <tr>\n",
       "      <th rowspan=\"4\" valign=\"top\">1001</th>\n",
       "      <th>8</th>\n",
       "      <td>182</td>\n",
       "      <td>27</td>\n",
       "    </tr>\n",
       "    <tr>\n",
       "      <th>9</th>\n",
       "      <td>315</td>\n",
       "      <td>49</td>\n",
       "    </tr>\n",
       "    <tr>\n",
       "      <th>10</th>\n",
       "      <td>393</td>\n",
       "      <td>65</td>\n",
       "    </tr>\n",
       "    <tr>\n",
       "      <th>11</th>\n",
       "      <td>426</td>\n",
       "      <td>64</td>\n",
       "    </tr>\n",
       "    <tr>\n",
       "      <th>...</th>\n",
       "      <th>...</th>\n",
       "      <td>...</td>\n",
       "      <td>...</td>\n",
       "    </tr>\n",
       "    <tr>\n",
       "      <th>1498</th>\n",
       "      <th>12</th>\n",
       "      <td>339</td>\n",
       "      <td>39</td>\n",
       "    </tr>\n",
       "    <tr>\n",
       "      <th rowspan=\"4\" valign=\"top\">1499</th>\n",
       "      <th>9</th>\n",
       "      <td>346</td>\n",
       "      <td>41</td>\n",
       "    </tr>\n",
       "    <tr>\n",
       "      <th>10</th>\n",
       "      <td>385</td>\n",
       "      <td>53</td>\n",
       "    </tr>\n",
       "    <tr>\n",
       "      <th>11</th>\n",
       "      <td>308</td>\n",
       "      <td>45</td>\n",
       "    </tr>\n",
       "    <tr>\n",
       "      <th>12</th>\n",
       "      <td>496</td>\n",
       "      <td>65</td>\n",
       "    </tr>\n",
       "  </tbody>\n",
       "</table>\n",
       "<p>2258 rows × 2 columns</p>\n",
       "</div>"
      ],
      "text/plain": [
       "                   sum    count\n",
       "              duration duration\n",
       "user_id month                  \n",
       "1000    12         124       16\n",
       "1001    8          182       27\n",
       "        9          315       49\n",
       "        10         393       65\n",
       "        11         426       64\n",
       "...                ...      ...\n",
       "1498    12         339       39\n",
       "1499    9          346       41\n",
       "        10         385       53\n",
       "        11         308       45\n",
       "        12         496       65\n",
       "\n",
       "[2258 rows x 2 columns]"
      ]
     },
     "execution_count": 24,
     "metadata": {},
     "output_type": "execute_result"
    }
   ],
   "source": [
    "# Calcula el número de llamadas hechas por cada usuario al mes. Guarda el resultado.\n",
    "calls_analytics = df_calls.pivot_table(index=[\"user_id\", \"month\"], values=\"duration\", aggfunc=[\"sum\", \"count\"])\n",
    "calls_analytics"
   ]
  },
  {
   "cell_type": "code",
   "execution_count": 25,
   "metadata": {
    "id": "aw2cmuql0q1G"
   },
   "outputs": [
    {
     "data": {
      "text/html": [
       "<div>\n",
       "<style scoped>\n",
       "    .dataframe tbody tr th:only-of-type {\n",
       "        vertical-align: middle;\n",
       "    }\n",
       "\n",
       "    .dataframe tbody tr th {\n",
       "        vertical-align: top;\n",
       "    }\n",
       "\n",
       "    .dataframe thead th {\n",
       "        text-align: right;\n",
       "    }\n",
       "</style>\n",
       "<table border=\"1\" class=\"dataframe\">\n",
       "  <thead>\n",
       "    <tr style=\"text-align: right;\">\n",
       "      <th></th>\n",
       "      <th>user_id</th>\n",
       "      <th>month</th>\n",
       "      <th>minutos_usados</th>\n",
       "      <th>total_llamadas</th>\n",
       "    </tr>\n",
       "  </thead>\n",
       "  <tbody>\n",
       "    <tr>\n",
       "      <th>0</th>\n",
       "      <td>1000</td>\n",
       "      <td>12</td>\n",
       "      <td>124</td>\n",
       "      <td>16</td>\n",
       "    </tr>\n",
       "    <tr>\n",
       "      <th>1</th>\n",
       "      <td>1001</td>\n",
       "      <td>8</td>\n",
       "      <td>182</td>\n",
       "      <td>27</td>\n",
       "    </tr>\n",
       "    <tr>\n",
       "      <th>2</th>\n",
       "      <td>1001</td>\n",
       "      <td>9</td>\n",
       "      <td>315</td>\n",
       "      <td>49</td>\n",
       "    </tr>\n",
       "    <tr>\n",
       "      <th>3</th>\n",
       "      <td>1001</td>\n",
       "      <td>10</td>\n",
       "      <td>393</td>\n",
       "      <td>65</td>\n",
       "    </tr>\n",
       "    <tr>\n",
       "      <th>4</th>\n",
       "      <td>1001</td>\n",
       "      <td>11</td>\n",
       "      <td>426</td>\n",
       "      <td>64</td>\n",
       "    </tr>\n",
       "    <tr>\n",
       "      <th>...</th>\n",
       "      <td>...</td>\n",
       "      <td>...</td>\n",
       "      <td>...</td>\n",
       "      <td>...</td>\n",
       "    </tr>\n",
       "    <tr>\n",
       "      <th>2253</th>\n",
       "      <td>1498</td>\n",
       "      <td>12</td>\n",
       "      <td>339</td>\n",
       "      <td>39</td>\n",
       "    </tr>\n",
       "    <tr>\n",
       "      <th>2254</th>\n",
       "      <td>1499</td>\n",
       "      <td>9</td>\n",
       "      <td>346</td>\n",
       "      <td>41</td>\n",
       "    </tr>\n",
       "    <tr>\n",
       "      <th>2255</th>\n",
       "      <td>1499</td>\n",
       "      <td>10</td>\n",
       "      <td>385</td>\n",
       "      <td>53</td>\n",
       "    </tr>\n",
       "    <tr>\n",
       "      <th>2256</th>\n",
       "      <td>1499</td>\n",
       "      <td>11</td>\n",
       "      <td>308</td>\n",
       "      <td>45</td>\n",
       "    </tr>\n",
       "    <tr>\n",
       "      <th>2257</th>\n",
       "      <td>1499</td>\n",
       "      <td>12</td>\n",
       "      <td>496</td>\n",
       "      <td>65</td>\n",
       "    </tr>\n",
       "  </tbody>\n",
       "</table>\n",
       "<p>2258 rows × 4 columns</p>\n",
       "</div>"
      ],
      "text/plain": [
       "      user_id  month  minutos_usados  total_llamadas\n",
       "0        1000     12             124              16\n",
       "1        1001      8             182              27\n",
       "2        1001      9             315              49\n",
       "3        1001     10             393              65\n",
       "4        1001     11             426              64\n",
       "...       ...    ...             ...             ...\n",
       "2253     1498     12             339              39\n",
       "2254     1499      9             346              41\n",
       "2255     1499     10             385              53\n",
       "2256     1499     11             308              45\n",
       "2257     1499     12             496              65\n",
       "\n",
       "[2258 rows x 4 columns]"
      ]
     },
     "execution_count": 25,
     "metadata": {},
     "output_type": "execute_result"
    }
   ],
   "source": [
    "# Calcula la cantidad de minutos usados por cada usuario al mes. Guarda el resultado.\n",
    "calls_analytics.columns = [\"minutos_usados\",\"total_llamadas\"]\n",
    "calls_analytics.reset_index(inplace=True)\n",
    "calls_analytics"
   ]
  },
  {
   "cell_type": "code",
   "execution_count": 26,
   "metadata": {
    "id": "CcQvNHn60q1G"
   },
   "outputs": [
    {
     "data": {
      "text/html": [
       "<div>\n",
       "<style scoped>\n",
       "    .dataframe tbody tr th:only-of-type {\n",
       "        vertical-align: middle;\n",
       "    }\n",
       "\n",
       "    .dataframe tbody tr th {\n",
       "        vertical-align: top;\n",
       "    }\n",
       "\n",
       "    .dataframe thead th {\n",
       "        text-align: right;\n",
       "    }\n",
       "</style>\n",
       "<table border=\"1\" class=\"dataframe\">\n",
       "  <thead>\n",
       "    <tr style=\"text-align: right;\">\n",
       "      <th></th>\n",
       "      <th>user_id</th>\n",
       "      <th>month</th>\n",
       "      <th>cantidad_de_mensajes</th>\n",
       "    </tr>\n",
       "  </thead>\n",
       "  <tbody>\n",
       "    <tr>\n",
       "      <th>0</th>\n",
       "      <td>1000</td>\n",
       "      <td>12</td>\n",
       "      <td>11</td>\n",
       "    </tr>\n",
       "    <tr>\n",
       "      <th>1</th>\n",
       "      <td>1001</td>\n",
       "      <td>8</td>\n",
       "      <td>30</td>\n",
       "    </tr>\n",
       "    <tr>\n",
       "      <th>2</th>\n",
       "      <td>1001</td>\n",
       "      <td>9</td>\n",
       "      <td>44</td>\n",
       "    </tr>\n",
       "    <tr>\n",
       "      <th>3</th>\n",
       "      <td>1001</td>\n",
       "      <td>10</td>\n",
       "      <td>53</td>\n",
       "    </tr>\n",
       "    <tr>\n",
       "      <th>4</th>\n",
       "      <td>1001</td>\n",
       "      <td>11</td>\n",
       "      <td>36</td>\n",
       "    </tr>\n",
       "    <tr>\n",
       "      <th>...</th>\n",
       "      <td>...</td>\n",
       "      <td>...</td>\n",
       "      <td>...</td>\n",
       "    </tr>\n",
       "    <tr>\n",
       "      <th>1801</th>\n",
       "      <td>1496</td>\n",
       "      <td>9</td>\n",
       "      <td>21</td>\n",
       "    </tr>\n",
       "    <tr>\n",
       "      <th>1802</th>\n",
       "      <td>1496</td>\n",
       "      <td>10</td>\n",
       "      <td>18</td>\n",
       "    </tr>\n",
       "    <tr>\n",
       "      <th>1803</th>\n",
       "      <td>1496</td>\n",
       "      <td>11</td>\n",
       "      <td>13</td>\n",
       "    </tr>\n",
       "    <tr>\n",
       "      <th>1804</th>\n",
       "      <td>1496</td>\n",
       "      <td>12</td>\n",
       "      <td>11</td>\n",
       "    </tr>\n",
       "    <tr>\n",
       "      <th>1805</th>\n",
       "      <td>1497</td>\n",
       "      <td>12</td>\n",
       "      <td>50</td>\n",
       "    </tr>\n",
       "  </tbody>\n",
       "</table>\n",
       "<p>1806 rows × 3 columns</p>\n",
       "</div>"
      ],
      "text/plain": [
       "      user_id  month  cantidad_de_mensajes\n",
       "0        1000     12                    11\n",
       "1        1001      8                    30\n",
       "2        1001      9                    44\n",
       "3        1001     10                    53\n",
       "4        1001     11                    36\n",
       "...       ...    ...                   ...\n",
       "1801     1496      9                    21\n",
       "1802     1496     10                    18\n",
       "1803     1496     11                    13\n",
       "1804     1496     12                    11\n",
       "1805     1497     12                    50\n",
       "\n",
       "[1806 rows x 3 columns]"
      ]
     },
     "execution_count": 26,
     "metadata": {},
     "output_type": "execute_result"
    }
   ],
   "source": [
    "# Calcula el número de mensajes enviados por cada usuario al mes. Guarda el resultado.\n",
    "messages_analytics = df_messages.pivot_table(index=[\"user_id\", \"month\"], values=\"message_id\", aggfunc=\"count\")\n",
    "messages_analytics.columns = [\"cantidad_de_mensajes\"]\n",
    "messages_analytics.reset_index(inplace=True)\n",
    "messages_analytics"
   ]
  },
  {
   "cell_type": "code",
   "execution_count": 27,
   "metadata": {
    "id": "H1AqN2eG0q1H"
   },
   "outputs": [
    {
     "data": {
      "text/html": [
       "<div>\n",
       "<style scoped>\n",
       "    .dataframe tbody tr th:only-of-type {\n",
       "        vertical-align: middle;\n",
       "    }\n",
       "\n",
       "    .dataframe tbody tr th {\n",
       "        vertical-align: top;\n",
       "    }\n",
       "\n",
       "    .dataframe thead th {\n",
       "        text-align: right;\n",
       "    }\n",
       "</style>\n",
       "<table border=\"1\" class=\"dataframe\">\n",
       "  <thead>\n",
       "    <tr style=\"text-align: right;\">\n",
       "      <th></th>\n",
       "      <th>user_id</th>\n",
       "      <th>month</th>\n",
       "      <th>total_de_datos_usados_mb</th>\n",
       "      <th>total_de_datos_usados_gb</th>\n",
       "    </tr>\n",
       "  </thead>\n",
       "  <tbody>\n",
       "    <tr>\n",
       "      <th>0</th>\n",
       "      <td>1000</td>\n",
       "      <td>12</td>\n",
       "      <td>1903.0</td>\n",
       "      <td>2.0</td>\n",
       "    </tr>\n",
       "    <tr>\n",
       "      <th>1</th>\n",
       "      <td>1001</td>\n",
       "      <td>8</td>\n",
       "      <td>6929.0</td>\n",
       "      <td>7.0</td>\n",
       "    </tr>\n",
       "    <tr>\n",
       "      <th>2</th>\n",
       "      <td>1001</td>\n",
       "      <td>9</td>\n",
       "      <td>13333.0</td>\n",
       "      <td>14.0</td>\n",
       "    </tr>\n",
       "    <tr>\n",
       "      <th>3</th>\n",
       "      <td>1001</td>\n",
       "      <td>10</td>\n",
       "      <td>22356.0</td>\n",
       "      <td>22.0</td>\n",
       "    </tr>\n",
       "    <tr>\n",
       "      <th>4</th>\n",
       "      <td>1001</td>\n",
       "      <td>11</td>\n",
       "      <td>18524.0</td>\n",
       "      <td>19.0</td>\n",
       "    </tr>\n",
       "    <tr>\n",
       "      <th>...</th>\n",
       "      <td>...</td>\n",
       "      <td>...</td>\n",
       "      <td>...</td>\n",
       "      <td>...</td>\n",
       "    </tr>\n",
       "    <tr>\n",
       "      <th>2272</th>\n",
       "      <td>1498</td>\n",
       "      <td>12</td>\n",
       "      <td>23160.0</td>\n",
       "      <td>23.0</td>\n",
       "    </tr>\n",
       "    <tr>\n",
       "      <th>2273</th>\n",
       "      <td>1499</td>\n",
       "      <td>9</td>\n",
       "      <td>13004.0</td>\n",
       "      <td>13.0</td>\n",
       "    </tr>\n",
       "    <tr>\n",
       "      <th>2274</th>\n",
       "      <td>1499</td>\n",
       "      <td>10</td>\n",
       "      <td>19515.0</td>\n",
       "      <td>20.0</td>\n",
       "    </tr>\n",
       "    <tr>\n",
       "      <th>2275</th>\n",
       "      <td>1499</td>\n",
       "      <td>11</td>\n",
       "      <td>16834.0</td>\n",
       "      <td>17.0</td>\n",
       "    </tr>\n",
       "    <tr>\n",
       "      <th>2276</th>\n",
       "      <td>1499</td>\n",
       "      <td>12</td>\n",
       "      <td>22091.0</td>\n",
       "      <td>22.0</td>\n",
       "    </tr>\n",
       "  </tbody>\n",
       "</table>\n",
       "<p>2277 rows × 4 columns</p>\n",
       "</div>"
      ],
      "text/plain": [
       "      user_id  month  total_de_datos_usados_mb  total_de_datos_usados_gb\n",
       "0        1000     12                    1903.0                       2.0\n",
       "1        1001      8                    6929.0                       7.0\n",
       "2        1001      9                   13333.0                      14.0\n",
       "3        1001     10                   22356.0                      22.0\n",
       "4        1001     11                   18524.0                      19.0\n",
       "...       ...    ...                       ...                       ...\n",
       "2272     1498     12                   23160.0                      23.0\n",
       "2273     1499      9                   13004.0                      13.0\n",
       "2274     1499     10                   19515.0                      20.0\n",
       "2275     1499     11                   16834.0                      17.0\n",
       "2276     1499     12                   22091.0                      22.0\n",
       "\n",
       "[2277 rows x 4 columns]"
      ]
     },
     "execution_count": 27,
     "metadata": {},
     "output_type": "execute_result"
    }
   ],
   "source": [
    "# Calcula el volumen del tráfico de Internet usado por cada usuario al mes. Guarda el resultado.\n",
    "internet_analytics = df_internet.pivot_table(index=[\"user_id\",\"month\"], values=\"mb_used\", aggfunc=\"sum\")\n",
    "internet_analytics.columns = [\"total_de_datos_usados_mb\"]\n",
    "internet_analytics.reset_index(inplace=True)\n",
    "internet_analytics[\"total_de_datos_usados_gb\"] = np.ceil(internet_analytics[\"total_de_datos_usados_mb\"]/1024)\n",
    "internet_analytics"
   ]
  },
  {
   "cell_type": "markdown",
   "metadata": {
    "id": "VDfYXnj80q1H"
   },
   "source": [
    "[Junta los datos agregados en un DataFrame para que haya un registro que represente lo que consumió un usuario único en un mes determinado.]"
   ]
  },
  {
   "cell_type": "code",
   "execution_count": 28,
   "metadata": {
    "id": "FW99ykyf0q1H"
   },
   "outputs": [
    {
     "data": {
      "text/html": [
       "<div>\n",
       "<style scoped>\n",
       "    .dataframe tbody tr th:only-of-type {\n",
       "        vertical-align: middle;\n",
       "    }\n",
       "\n",
       "    .dataframe tbody tr th {\n",
       "        vertical-align: top;\n",
       "    }\n",
       "\n",
       "    .dataframe thead th {\n",
       "        text-align: right;\n",
       "    }\n",
       "</style>\n",
       "<table border=\"1\" class=\"dataframe\">\n",
       "  <thead>\n",
       "    <tr style=\"text-align: right;\">\n",
       "      <th></th>\n",
       "      <th>user_id</th>\n",
       "      <th>month</th>\n",
       "      <th>minutos_usados</th>\n",
       "      <th>total_llamadas</th>\n",
       "      <th>cantidad_de_mensajes</th>\n",
       "      <th>total_de_datos_usados_mb</th>\n",
       "      <th>total_de_datos_usados_gb</th>\n",
       "    </tr>\n",
       "  </thead>\n",
       "  <tbody>\n",
       "    <tr>\n",
       "      <th>0</th>\n",
       "      <td>1000</td>\n",
       "      <td>12</td>\n",
       "      <td>124.0</td>\n",
       "      <td>16.0</td>\n",
       "      <td>11.0</td>\n",
       "      <td>1903.0</td>\n",
       "      <td>2.0</td>\n",
       "    </tr>\n",
       "    <tr>\n",
       "      <th>1</th>\n",
       "      <td>1001</td>\n",
       "      <td>8</td>\n",
       "      <td>182.0</td>\n",
       "      <td>27.0</td>\n",
       "      <td>30.0</td>\n",
       "      <td>6929.0</td>\n",
       "      <td>7.0</td>\n",
       "    </tr>\n",
       "    <tr>\n",
       "      <th>2</th>\n",
       "      <td>1001</td>\n",
       "      <td>9</td>\n",
       "      <td>315.0</td>\n",
       "      <td>49.0</td>\n",
       "      <td>44.0</td>\n",
       "      <td>13333.0</td>\n",
       "      <td>14.0</td>\n",
       "    </tr>\n",
       "    <tr>\n",
       "      <th>3</th>\n",
       "      <td>1001</td>\n",
       "      <td>10</td>\n",
       "      <td>393.0</td>\n",
       "      <td>65.0</td>\n",
       "      <td>53.0</td>\n",
       "      <td>22356.0</td>\n",
       "      <td>22.0</td>\n",
       "    </tr>\n",
       "    <tr>\n",
       "      <th>4</th>\n",
       "      <td>1001</td>\n",
       "      <td>11</td>\n",
       "      <td>426.0</td>\n",
       "      <td>64.0</td>\n",
       "      <td>36.0</td>\n",
       "      <td>18524.0</td>\n",
       "      <td>19.0</td>\n",
       "    </tr>\n",
       "    <tr>\n",
       "      <th>...</th>\n",
       "      <td>...</td>\n",
       "      <td>...</td>\n",
       "      <td>...</td>\n",
       "      <td>...</td>\n",
       "      <td>...</td>\n",
       "      <td>...</td>\n",
       "      <td>...</td>\n",
       "    </tr>\n",
       "    <tr>\n",
       "      <th>2288</th>\n",
       "      <td>1349</td>\n",
       "      <td>12</td>\n",
       "      <td>NaN</td>\n",
       "      <td>NaN</td>\n",
       "      <td>61.0</td>\n",
       "      <td>13052.0</td>\n",
       "      <td>13.0</td>\n",
       "    </tr>\n",
       "    <tr>\n",
       "      <th>2289</th>\n",
       "      <td>1361</td>\n",
       "      <td>5</td>\n",
       "      <td>NaN</td>\n",
       "      <td>NaN</td>\n",
       "      <td>2.0</td>\n",
       "      <td>1523.0</td>\n",
       "      <td>2.0</td>\n",
       "    </tr>\n",
       "    <tr>\n",
       "      <th>2290</th>\n",
       "      <td>1482</td>\n",
       "      <td>10</td>\n",
       "      <td>NaN</td>\n",
       "      <td>NaN</td>\n",
       "      <td>2.0</td>\n",
       "      <td>NaN</td>\n",
       "      <td>NaN</td>\n",
       "    </tr>\n",
       "    <tr>\n",
       "      <th>2291</th>\n",
       "      <td>1108</td>\n",
       "      <td>12</td>\n",
       "      <td>NaN</td>\n",
       "      <td>NaN</td>\n",
       "      <td>NaN</td>\n",
       "      <td>235.0</td>\n",
       "      <td>1.0</td>\n",
       "    </tr>\n",
       "    <tr>\n",
       "      <th>2292</th>\n",
       "      <td>1311</td>\n",
       "      <td>6</td>\n",
       "      <td>NaN</td>\n",
       "      <td>NaN</td>\n",
       "      <td>NaN</td>\n",
       "      <td>1501.0</td>\n",
       "      <td>2.0</td>\n",
       "    </tr>\n",
       "  </tbody>\n",
       "</table>\n",
       "<p>2293 rows × 7 columns</p>\n",
       "</div>"
      ],
      "text/plain": [
       "      user_id  month  minutos_usados  total_llamadas  cantidad_de_mensajes  \\\n",
       "0        1000     12           124.0            16.0                  11.0   \n",
       "1        1001      8           182.0            27.0                  30.0   \n",
       "2        1001      9           315.0            49.0                  44.0   \n",
       "3        1001     10           393.0            65.0                  53.0   \n",
       "4        1001     11           426.0            64.0                  36.0   \n",
       "...       ...    ...             ...             ...                   ...   \n",
       "2288     1349     12             NaN             NaN                  61.0   \n",
       "2289     1361      5             NaN             NaN                   2.0   \n",
       "2290     1482     10             NaN             NaN                   2.0   \n",
       "2291     1108     12             NaN             NaN                   NaN   \n",
       "2292     1311      6             NaN             NaN                   NaN   \n",
       "\n",
       "      total_de_datos_usados_mb  total_de_datos_usados_gb  \n",
       "0                       1903.0                       2.0  \n",
       "1                       6929.0                       7.0  \n",
       "2                      13333.0                      14.0  \n",
       "3                      22356.0                      22.0  \n",
       "4                      18524.0                      19.0  \n",
       "...                        ...                       ...  \n",
       "2288                   13052.0                      13.0  \n",
       "2289                    1523.0                       2.0  \n",
       "2290                       NaN                       NaN  \n",
       "2291                     235.0                       1.0  \n",
       "2292                    1501.0                       2.0  \n",
       "\n",
       "[2293 rows x 7 columns]"
      ]
     },
     "execution_count": 28,
     "metadata": {},
     "output_type": "execute_result"
    }
   ],
   "source": [
    "# Fusiona los datos de llamadas, minutos, mensajes e Internet con base en user_id y month\n",
    "calls_and_messages = calls_analytics.merge(messages_analytics, on=[\"user_id\", \"month\"], how=\"outer\")\n",
    "tabla_de_consumo = calls_and_messages.merge(internet_analytics, on=[\"user_id\", \"month\"], how=\"outer\")\n",
    "tabla_de_consumo"
   ]
  },
  {
   "cell_type": "code",
   "execution_count": 29,
   "metadata": {
    "id": "0dNOXHag0q1H"
   },
   "outputs": [
    {
     "data": {
      "text/html": [
       "<div>\n",
       "<style scoped>\n",
       "    .dataframe tbody tr th:only-of-type {\n",
       "        vertical-align: middle;\n",
       "    }\n",
       "\n",
       "    .dataframe tbody tr th {\n",
       "        vertical-align: top;\n",
       "    }\n",
       "\n",
       "    .dataframe thead th {\n",
       "        text-align: right;\n",
       "    }\n",
       "</style>\n",
       "<table border=\"1\" class=\"dataframe\">\n",
       "  <thead>\n",
       "    <tr style=\"text-align: right;\">\n",
       "      <th></th>\n",
       "      <th>user_id</th>\n",
       "      <th>month</th>\n",
       "      <th>minutos_usados</th>\n",
       "      <th>total_llamadas</th>\n",
       "      <th>cantidad_de_mensajes</th>\n",
       "      <th>total_de_datos_usados_mb</th>\n",
       "      <th>total_de_datos_usados_gb</th>\n",
       "      <th>plan_id</th>\n",
       "      <th>city</th>\n",
       "      <th>reg_date</th>\n",
       "      <th>messages_included</th>\n",
       "      <th>mb_per_month_included</th>\n",
       "      <th>minutes_included</th>\n",
       "      <th>usd_monthly_pay</th>\n",
       "      <th>usd_per_gb</th>\n",
       "      <th>usd_per_message</th>\n",
       "      <th>usd_per_minute</th>\n",
       "    </tr>\n",
       "  </thead>\n",
       "  <tbody>\n",
       "    <tr>\n",
       "      <th>0</th>\n",
       "      <td>1000</td>\n",
       "      <td>12</td>\n",
       "      <td>124.0</td>\n",
       "      <td>16.0</td>\n",
       "      <td>11.0</td>\n",
       "      <td>1903.0</td>\n",
       "      <td>2.0</td>\n",
       "      <td>ultimate</td>\n",
       "      <td>Atlanta-Sandy Springs-Roswell, GA MSA</td>\n",
       "      <td>2018-12-24</td>\n",
       "      <td>1000</td>\n",
       "      <td>30720</td>\n",
       "      <td>3000</td>\n",
       "      <td>70</td>\n",
       "      <td>7</td>\n",
       "      <td>0.01</td>\n",
       "      <td>0.01</td>\n",
       "    </tr>\n",
       "    <tr>\n",
       "      <th>1</th>\n",
       "      <td>1001</td>\n",
       "      <td>8</td>\n",
       "      <td>182.0</td>\n",
       "      <td>27.0</td>\n",
       "      <td>30.0</td>\n",
       "      <td>6929.0</td>\n",
       "      <td>7.0</td>\n",
       "      <td>surf</td>\n",
       "      <td>Seattle-Tacoma-Bellevue, WA MSA</td>\n",
       "      <td>2018-08-13</td>\n",
       "      <td>50</td>\n",
       "      <td>15360</td>\n",
       "      <td>500</td>\n",
       "      <td>20</td>\n",
       "      <td>10</td>\n",
       "      <td>0.03</td>\n",
       "      <td>0.03</td>\n",
       "    </tr>\n",
       "    <tr>\n",
       "      <th>2</th>\n",
       "      <td>1001</td>\n",
       "      <td>9</td>\n",
       "      <td>315.0</td>\n",
       "      <td>49.0</td>\n",
       "      <td>44.0</td>\n",
       "      <td>13333.0</td>\n",
       "      <td>14.0</td>\n",
       "      <td>surf</td>\n",
       "      <td>Seattle-Tacoma-Bellevue, WA MSA</td>\n",
       "      <td>2018-08-13</td>\n",
       "      <td>50</td>\n",
       "      <td>15360</td>\n",
       "      <td>500</td>\n",
       "      <td>20</td>\n",
       "      <td>10</td>\n",
       "      <td>0.03</td>\n",
       "      <td>0.03</td>\n",
       "    </tr>\n",
       "    <tr>\n",
       "      <th>3</th>\n",
       "      <td>1001</td>\n",
       "      <td>10</td>\n",
       "      <td>393.0</td>\n",
       "      <td>65.0</td>\n",
       "      <td>53.0</td>\n",
       "      <td>22356.0</td>\n",
       "      <td>22.0</td>\n",
       "      <td>surf</td>\n",
       "      <td>Seattle-Tacoma-Bellevue, WA MSA</td>\n",
       "      <td>2018-08-13</td>\n",
       "      <td>50</td>\n",
       "      <td>15360</td>\n",
       "      <td>500</td>\n",
       "      <td>20</td>\n",
       "      <td>10</td>\n",
       "      <td>0.03</td>\n",
       "      <td>0.03</td>\n",
       "    </tr>\n",
       "    <tr>\n",
       "      <th>4</th>\n",
       "      <td>1001</td>\n",
       "      <td>11</td>\n",
       "      <td>426.0</td>\n",
       "      <td>64.0</td>\n",
       "      <td>36.0</td>\n",
       "      <td>18524.0</td>\n",
       "      <td>19.0</td>\n",
       "      <td>surf</td>\n",
       "      <td>Seattle-Tacoma-Bellevue, WA MSA</td>\n",
       "      <td>2018-08-13</td>\n",
       "      <td>50</td>\n",
       "      <td>15360</td>\n",
       "      <td>500</td>\n",
       "      <td>20</td>\n",
       "      <td>10</td>\n",
       "      <td>0.03</td>\n",
       "      <td>0.03</td>\n",
       "    </tr>\n",
       "    <tr>\n",
       "      <th>...</th>\n",
       "      <td>...</td>\n",
       "      <td>...</td>\n",
       "      <td>...</td>\n",
       "      <td>...</td>\n",
       "      <td>...</td>\n",
       "      <td>...</td>\n",
       "      <td>...</td>\n",
       "      <td>...</td>\n",
       "      <td>...</td>\n",
       "      <td>...</td>\n",
       "      <td>...</td>\n",
       "      <td>...</td>\n",
       "      <td>...</td>\n",
       "      <td>...</td>\n",
       "      <td>...</td>\n",
       "      <td>...</td>\n",
       "      <td>...</td>\n",
       "    </tr>\n",
       "    <tr>\n",
       "      <th>2288</th>\n",
       "      <td>1204</td>\n",
       "      <td>12</td>\n",
       "      <td>0.0</td>\n",
       "      <td>0.0</td>\n",
       "      <td>78.0</td>\n",
       "      <td>36768.0</td>\n",
       "      <td>36.0</td>\n",
       "      <td>ultimate</td>\n",
       "      <td>Chicago-Naperville-Elgin, IL-IN-WI MSA</td>\n",
       "      <td>2018-08-20</td>\n",
       "      <td>1000</td>\n",
       "      <td>30720</td>\n",
       "      <td>3000</td>\n",
       "      <td>70</td>\n",
       "      <td>7</td>\n",
       "      <td>0.01</td>\n",
       "      <td>0.01</td>\n",
       "    </tr>\n",
       "    <tr>\n",
       "      <th>2289</th>\n",
       "      <td>1349</td>\n",
       "      <td>10</td>\n",
       "      <td>0.0</td>\n",
       "      <td>0.0</td>\n",
       "      <td>76.0</td>\n",
       "      <td>13105.0</td>\n",
       "      <td>13.0</td>\n",
       "      <td>surf</td>\n",
       "      <td>Boston-Cambridge-Newton, MA-NH MSA</td>\n",
       "      <td>2018-10-01</td>\n",
       "      <td>50</td>\n",
       "      <td>15360</td>\n",
       "      <td>500</td>\n",
       "      <td>20</td>\n",
       "      <td>10</td>\n",
       "      <td>0.03</td>\n",
       "      <td>0.03</td>\n",
       "    </tr>\n",
       "    <tr>\n",
       "      <th>2290</th>\n",
       "      <td>1349</td>\n",
       "      <td>11</td>\n",
       "      <td>0.0</td>\n",
       "      <td>0.0</td>\n",
       "      <td>72.0</td>\n",
       "      <td>17145.0</td>\n",
       "      <td>17.0</td>\n",
       "      <td>surf</td>\n",
       "      <td>Boston-Cambridge-Newton, MA-NH MSA</td>\n",
       "      <td>2018-10-01</td>\n",
       "      <td>50</td>\n",
       "      <td>15360</td>\n",
       "      <td>500</td>\n",
       "      <td>20</td>\n",
       "      <td>10</td>\n",
       "      <td>0.03</td>\n",
       "      <td>0.03</td>\n",
       "    </tr>\n",
       "    <tr>\n",
       "      <th>2291</th>\n",
       "      <td>1349</td>\n",
       "      <td>12</td>\n",
       "      <td>0.0</td>\n",
       "      <td>0.0</td>\n",
       "      <td>61.0</td>\n",
       "      <td>13052.0</td>\n",
       "      <td>13.0</td>\n",
       "      <td>surf</td>\n",
       "      <td>Boston-Cambridge-Newton, MA-NH MSA</td>\n",
       "      <td>2018-10-01</td>\n",
       "      <td>50</td>\n",
       "      <td>15360</td>\n",
       "      <td>500</td>\n",
       "      <td>20</td>\n",
       "      <td>10</td>\n",
       "      <td>0.03</td>\n",
       "      <td>0.03</td>\n",
       "    </tr>\n",
       "    <tr>\n",
       "      <th>2292</th>\n",
       "      <td>1108</td>\n",
       "      <td>12</td>\n",
       "      <td>0.0</td>\n",
       "      <td>0.0</td>\n",
       "      <td>0.0</td>\n",
       "      <td>235.0</td>\n",
       "      <td>1.0</td>\n",
       "      <td>ultimate</td>\n",
       "      <td>Salt Lake City, UT MSA</td>\n",
       "      <td>2018-12-30</td>\n",
       "      <td>1000</td>\n",
       "      <td>30720</td>\n",
       "      <td>3000</td>\n",
       "      <td>70</td>\n",
       "      <td>7</td>\n",
       "      <td>0.01</td>\n",
       "      <td>0.01</td>\n",
       "    </tr>\n",
       "  </tbody>\n",
       "</table>\n",
       "<p>2293 rows × 17 columns</p>\n",
       "</div>"
      ],
      "text/plain": [
       "      user_id  month  minutos_usados  total_llamadas  cantidad_de_mensajes  \\\n",
       "0        1000     12           124.0            16.0                  11.0   \n",
       "1        1001      8           182.0            27.0                  30.0   \n",
       "2        1001      9           315.0            49.0                  44.0   \n",
       "3        1001     10           393.0            65.0                  53.0   \n",
       "4        1001     11           426.0            64.0                  36.0   \n",
       "...       ...    ...             ...             ...                   ...   \n",
       "2288     1204     12             0.0             0.0                  78.0   \n",
       "2289     1349     10             0.0             0.0                  76.0   \n",
       "2290     1349     11             0.0             0.0                  72.0   \n",
       "2291     1349     12             0.0             0.0                  61.0   \n",
       "2292     1108     12             0.0             0.0                   0.0   \n",
       "\n",
       "      total_de_datos_usados_mb  total_de_datos_usados_gb   plan_id  \\\n",
       "0                       1903.0                       2.0  ultimate   \n",
       "1                       6929.0                       7.0      surf   \n",
       "2                      13333.0                      14.0      surf   \n",
       "3                      22356.0                      22.0      surf   \n",
       "4                      18524.0                      19.0      surf   \n",
       "...                        ...                       ...       ...   \n",
       "2288                   36768.0                      36.0  ultimate   \n",
       "2289                   13105.0                      13.0      surf   \n",
       "2290                   17145.0                      17.0      surf   \n",
       "2291                   13052.0                      13.0      surf   \n",
       "2292                     235.0                       1.0  ultimate   \n",
       "\n",
       "                                        city   reg_date  messages_included  \\\n",
       "0      Atlanta-Sandy Springs-Roswell, GA MSA 2018-12-24               1000   \n",
       "1            Seattle-Tacoma-Bellevue, WA MSA 2018-08-13                 50   \n",
       "2            Seattle-Tacoma-Bellevue, WA MSA 2018-08-13                 50   \n",
       "3            Seattle-Tacoma-Bellevue, WA MSA 2018-08-13                 50   \n",
       "4            Seattle-Tacoma-Bellevue, WA MSA 2018-08-13                 50   \n",
       "...                                      ...        ...                ...   \n",
       "2288  Chicago-Naperville-Elgin, IL-IN-WI MSA 2018-08-20               1000   \n",
       "2289      Boston-Cambridge-Newton, MA-NH MSA 2018-10-01                 50   \n",
       "2290      Boston-Cambridge-Newton, MA-NH MSA 2018-10-01                 50   \n",
       "2291      Boston-Cambridge-Newton, MA-NH MSA 2018-10-01                 50   \n",
       "2292                  Salt Lake City, UT MSA 2018-12-30               1000   \n",
       "\n",
       "      mb_per_month_included  minutes_included  usd_monthly_pay  usd_per_gb  \\\n",
       "0                     30720              3000               70           7   \n",
       "1                     15360               500               20          10   \n",
       "2                     15360               500               20          10   \n",
       "3                     15360               500               20          10   \n",
       "4                     15360               500               20          10   \n",
       "...                     ...               ...              ...         ...   \n",
       "2288                  30720              3000               70           7   \n",
       "2289                  15360               500               20          10   \n",
       "2290                  15360               500               20          10   \n",
       "2291                  15360               500               20          10   \n",
       "2292                  30720              3000               70           7   \n",
       "\n",
       "      usd_per_message  usd_per_minute  \n",
       "0                0.01            0.01  \n",
       "1                0.03            0.03  \n",
       "2                0.03            0.03  \n",
       "3                0.03            0.03  \n",
       "4                0.03            0.03  \n",
       "...               ...             ...  \n",
       "2288             0.01            0.01  \n",
       "2289             0.03            0.03  \n",
       "2290             0.03            0.03  \n",
       "2291             0.03            0.03  \n",
       "2292             0.01            0.01  \n",
       "\n",
       "[2293 rows x 17 columns]"
      ]
     },
     "execution_count": 29,
     "metadata": {},
     "output_type": "execute_result"
    }
   ],
   "source": [
    "# Añade la información de la tarifa\n",
    "tabla_de_consumo_usuarios = tabla_de_consumo.merge(df_users[[\"user_id\", \"plan_id\", \"city\", \"reg_date\"]], on=\"user_id\", how=\"inner\")\n",
    "tabla_de_consumo_completa = tabla_de_consumo_usuarios.merge(df_plans, on=\"plan_id\", how=\"left\")\n",
    "tabla_de_consumo_completa.fillna(0, inplace=True)\n",
    "tabla_de_consumo_completa"
   ]
  },
  {
   "cell_type": "markdown",
   "metadata": {
    "id": "1IwGo4wg0q1I"
   },
   "source": [
    "[Calcula los ingresos mensuales por usuario (resta el límite del paquete gratuito del número total de llamadas, mensajes de texto y datos; multiplica el resultado por el valor del plan de llamadas; añade la tarifa mensual en función del plan de llamadas). Nota: Dadas las condiciones del plan, ¡esto podría no ser tan trivial como un par de líneas! Así que no pasa nada si dedicas algo de tiempo a ello.]"
   ]
  },
  {
   "cell_type": "code",
   "execution_count": 30,
   "metadata": {
    "id": "5FGCf_c60q1I"
   },
   "outputs": [],
   "source": [
    "# Calcula el ingreso mensual para cada usuario\n",
    "def rentabilidad_mensual(fila):\n",
    "    ingreso_mensual=0\n",
    "    ingreso_mensajes=0\n",
    "    ingreso_internet=0\n",
    "    ingreso_llamadas=0\n",
    "    \n",
    "    if fila[\"minutos_usados\"] > fila[\"minutes_included\"]:\n",
    "        ingreso_llamadas = (fila[\"minutos_usados\"] - fila[\"minutes_included\"]) * fila[\"usd_per_minute\"]\n",
    "    \n",
    "    if fila[\"cantidad_de_mensajes\"] > fila[\"messages_included\"]:\n",
    "        ingreso_mensajes = (fila[\"cantidad_de_mensajes\"] - fila[\"messages_included\"]) * fila[\"usd_per_message\"]\n",
    "    \n",
    "    if fila[\"total_de_datos_usados_mb\"] > fila[\"mb_per_month_included\"]:\n",
    "        ingreso_internet = np.ceil((fila[\"total_de_datos_usados_mb\"] - fila[\"mb_per_month_included\"])/1024) * fila[\"usd_per_gb\"]\n",
    "    \n",
    "    ingreso_mensual = fila[\"usd_monthly_pay\"] + ingreso_llamadas + ingreso_mensajes + ingreso_internet\n",
    "    \n",
    "    return ingreso_mensual"
   ]
  },
  {
   "cell_type": "code",
   "execution_count": 31,
   "metadata": {},
   "outputs": [],
   "source": [
    "tabla_de_consumo_completa[\"ingreso_mensual\"] = tabla_de_consumo_completa.apply(rentabilidad_mensual, axis=1)"
   ]
  },
  {
   "cell_type": "code",
   "execution_count": 32,
   "metadata": {
    "scrolled": true
   },
   "outputs": [
    {
     "data": {
      "text/html": [
       "<div>\n",
       "<style scoped>\n",
       "    .dataframe tbody tr th:only-of-type {\n",
       "        vertical-align: middle;\n",
       "    }\n",
       "\n",
       "    .dataframe tbody tr th {\n",
       "        vertical-align: top;\n",
       "    }\n",
       "\n",
       "    .dataframe thead th {\n",
       "        text-align: right;\n",
       "    }\n",
       "</style>\n",
       "<table border=\"1\" class=\"dataframe\">\n",
       "  <thead>\n",
       "    <tr style=\"text-align: right;\">\n",
       "      <th></th>\n",
       "      <th>user_id</th>\n",
       "      <th>month</th>\n",
       "      <th>minutos_usados</th>\n",
       "      <th>total_llamadas</th>\n",
       "      <th>cantidad_de_mensajes</th>\n",
       "      <th>total_de_datos_usados_mb</th>\n",
       "      <th>total_de_datos_usados_gb</th>\n",
       "      <th>plan_id</th>\n",
       "      <th>city</th>\n",
       "      <th>reg_date</th>\n",
       "      <th>messages_included</th>\n",
       "      <th>mb_per_month_included</th>\n",
       "      <th>minutes_included</th>\n",
       "      <th>usd_monthly_pay</th>\n",
       "      <th>usd_per_gb</th>\n",
       "      <th>usd_per_message</th>\n",
       "      <th>usd_per_minute</th>\n",
       "      <th>ingreso_mensual</th>\n",
       "    </tr>\n",
       "  </thead>\n",
       "  <tbody>\n",
       "    <tr>\n",
       "      <th>0</th>\n",
       "      <td>1000</td>\n",
       "      <td>12</td>\n",
       "      <td>124.0</td>\n",
       "      <td>16.0</td>\n",
       "      <td>11.0</td>\n",
       "      <td>1903.0</td>\n",
       "      <td>2.0</td>\n",
       "      <td>ultimate</td>\n",
       "      <td>Atlanta-Sandy Springs-Roswell, GA MSA</td>\n",
       "      <td>2018-12-24</td>\n",
       "      <td>1000</td>\n",
       "      <td>30720</td>\n",
       "      <td>3000</td>\n",
       "      <td>70</td>\n",
       "      <td>7</td>\n",
       "      <td>0.01</td>\n",
       "      <td>0.01</td>\n",
       "      <td>70.00</td>\n",
       "    </tr>\n",
       "    <tr>\n",
       "      <th>1</th>\n",
       "      <td>1001</td>\n",
       "      <td>8</td>\n",
       "      <td>182.0</td>\n",
       "      <td>27.0</td>\n",
       "      <td>30.0</td>\n",
       "      <td>6929.0</td>\n",
       "      <td>7.0</td>\n",
       "      <td>surf</td>\n",
       "      <td>Seattle-Tacoma-Bellevue, WA MSA</td>\n",
       "      <td>2018-08-13</td>\n",
       "      <td>50</td>\n",
       "      <td>15360</td>\n",
       "      <td>500</td>\n",
       "      <td>20</td>\n",
       "      <td>10</td>\n",
       "      <td>0.03</td>\n",
       "      <td>0.03</td>\n",
       "      <td>20.00</td>\n",
       "    </tr>\n",
       "    <tr>\n",
       "      <th>2</th>\n",
       "      <td>1001</td>\n",
       "      <td>9</td>\n",
       "      <td>315.0</td>\n",
       "      <td>49.0</td>\n",
       "      <td>44.0</td>\n",
       "      <td>13333.0</td>\n",
       "      <td>14.0</td>\n",
       "      <td>surf</td>\n",
       "      <td>Seattle-Tacoma-Bellevue, WA MSA</td>\n",
       "      <td>2018-08-13</td>\n",
       "      <td>50</td>\n",
       "      <td>15360</td>\n",
       "      <td>500</td>\n",
       "      <td>20</td>\n",
       "      <td>10</td>\n",
       "      <td>0.03</td>\n",
       "      <td>0.03</td>\n",
       "      <td>20.00</td>\n",
       "    </tr>\n",
       "    <tr>\n",
       "      <th>3</th>\n",
       "      <td>1001</td>\n",
       "      <td>10</td>\n",
       "      <td>393.0</td>\n",
       "      <td>65.0</td>\n",
       "      <td>53.0</td>\n",
       "      <td>22356.0</td>\n",
       "      <td>22.0</td>\n",
       "      <td>surf</td>\n",
       "      <td>Seattle-Tacoma-Bellevue, WA MSA</td>\n",
       "      <td>2018-08-13</td>\n",
       "      <td>50</td>\n",
       "      <td>15360</td>\n",
       "      <td>500</td>\n",
       "      <td>20</td>\n",
       "      <td>10</td>\n",
       "      <td>0.03</td>\n",
       "      <td>0.03</td>\n",
       "      <td>90.09</td>\n",
       "    </tr>\n",
       "    <tr>\n",
       "      <th>4</th>\n",
       "      <td>1001</td>\n",
       "      <td>11</td>\n",
       "      <td>426.0</td>\n",
       "      <td>64.0</td>\n",
       "      <td>36.0</td>\n",
       "      <td>18524.0</td>\n",
       "      <td>19.0</td>\n",
       "      <td>surf</td>\n",
       "      <td>Seattle-Tacoma-Bellevue, WA MSA</td>\n",
       "      <td>2018-08-13</td>\n",
       "      <td>50</td>\n",
       "      <td>15360</td>\n",
       "      <td>500</td>\n",
       "      <td>20</td>\n",
       "      <td>10</td>\n",
       "      <td>0.03</td>\n",
       "      <td>0.03</td>\n",
       "      <td>60.00</td>\n",
       "    </tr>\n",
       "    <tr>\n",
       "      <th>...</th>\n",
       "      <td>...</td>\n",
       "      <td>...</td>\n",
       "      <td>...</td>\n",
       "      <td>...</td>\n",
       "      <td>...</td>\n",
       "      <td>...</td>\n",
       "      <td>...</td>\n",
       "      <td>...</td>\n",
       "      <td>...</td>\n",
       "      <td>...</td>\n",
       "      <td>...</td>\n",
       "      <td>...</td>\n",
       "      <td>...</td>\n",
       "      <td>...</td>\n",
       "      <td>...</td>\n",
       "      <td>...</td>\n",
       "      <td>...</td>\n",
       "      <td>...</td>\n",
       "    </tr>\n",
       "    <tr>\n",
       "      <th>2288</th>\n",
       "      <td>1204</td>\n",
       "      <td>12</td>\n",
       "      <td>0.0</td>\n",
       "      <td>0.0</td>\n",
       "      <td>78.0</td>\n",
       "      <td>36768.0</td>\n",
       "      <td>36.0</td>\n",
       "      <td>ultimate</td>\n",
       "      <td>Chicago-Naperville-Elgin, IL-IN-WI MSA</td>\n",
       "      <td>2018-08-20</td>\n",
       "      <td>1000</td>\n",
       "      <td>30720</td>\n",
       "      <td>3000</td>\n",
       "      <td>70</td>\n",
       "      <td>7</td>\n",
       "      <td>0.01</td>\n",
       "      <td>0.01</td>\n",
       "      <td>112.00</td>\n",
       "    </tr>\n",
       "    <tr>\n",
       "      <th>2289</th>\n",
       "      <td>1349</td>\n",
       "      <td>10</td>\n",
       "      <td>0.0</td>\n",
       "      <td>0.0</td>\n",
       "      <td>76.0</td>\n",
       "      <td>13105.0</td>\n",
       "      <td>13.0</td>\n",
       "      <td>surf</td>\n",
       "      <td>Boston-Cambridge-Newton, MA-NH MSA</td>\n",
       "      <td>2018-10-01</td>\n",
       "      <td>50</td>\n",
       "      <td>15360</td>\n",
       "      <td>500</td>\n",
       "      <td>20</td>\n",
       "      <td>10</td>\n",
       "      <td>0.03</td>\n",
       "      <td>0.03</td>\n",
       "      <td>20.78</td>\n",
       "    </tr>\n",
       "    <tr>\n",
       "      <th>2290</th>\n",
       "      <td>1349</td>\n",
       "      <td>11</td>\n",
       "      <td>0.0</td>\n",
       "      <td>0.0</td>\n",
       "      <td>72.0</td>\n",
       "      <td>17145.0</td>\n",
       "      <td>17.0</td>\n",
       "      <td>surf</td>\n",
       "      <td>Boston-Cambridge-Newton, MA-NH MSA</td>\n",
       "      <td>2018-10-01</td>\n",
       "      <td>50</td>\n",
       "      <td>15360</td>\n",
       "      <td>500</td>\n",
       "      <td>20</td>\n",
       "      <td>10</td>\n",
       "      <td>0.03</td>\n",
       "      <td>0.03</td>\n",
       "      <td>40.66</td>\n",
       "    </tr>\n",
       "    <tr>\n",
       "      <th>2291</th>\n",
       "      <td>1349</td>\n",
       "      <td>12</td>\n",
       "      <td>0.0</td>\n",
       "      <td>0.0</td>\n",
       "      <td>61.0</td>\n",
       "      <td>13052.0</td>\n",
       "      <td>13.0</td>\n",
       "      <td>surf</td>\n",
       "      <td>Boston-Cambridge-Newton, MA-NH MSA</td>\n",
       "      <td>2018-10-01</td>\n",
       "      <td>50</td>\n",
       "      <td>15360</td>\n",
       "      <td>500</td>\n",
       "      <td>20</td>\n",
       "      <td>10</td>\n",
       "      <td>0.03</td>\n",
       "      <td>0.03</td>\n",
       "      <td>20.33</td>\n",
       "    </tr>\n",
       "    <tr>\n",
       "      <th>2292</th>\n",
       "      <td>1108</td>\n",
       "      <td>12</td>\n",
       "      <td>0.0</td>\n",
       "      <td>0.0</td>\n",
       "      <td>0.0</td>\n",
       "      <td>235.0</td>\n",
       "      <td>1.0</td>\n",
       "      <td>ultimate</td>\n",
       "      <td>Salt Lake City, UT MSA</td>\n",
       "      <td>2018-12-30</td>\n",
       "      <td>1000</td>\n",
       "      <td>30720</td>\n",
       "      <td>3000</td>\n",
       "      <td>70</td>\n",
       "      <td>7</td>\n",
       "      <td>0.01</td>\n",
       "      <td>0.01</td>\n",
       "      <td>70.00</td>\n",
       "    </tr>\n",
       "  </tbody>\n",
       "</table>\n",
       "<p>2293 rows × 18 columns</p>\n",
       "</div>"
      ],
      "text/plain": [
       "      user_id  month  minutos_usados  total_llamadas  cantidad_de_mensajes  \\\n",
       "0        1000     12           124.0            16.0                  11.0   \n",
       "1        1001      8           182.0            27.0                  30.0   \n",
       "2        1001      9           315.0            49.0                  44.0   \n",
       "3        1001     10           393.0            65.0                  53.0   \n",
       "4        1001     11           426.0            64.0                  36.0   \n",
       "...       ...    ...             ...             ...                   ...   \n",
       "2288     1204     12             0.0             0.0                  78.0   \n",
       "2289     1349     10             0.0             0.0                  76.0   \n",
       "2290     1349     11             0.0             0.0                  72.0   \n",
       "2291     1349     12             0.0             0.0                  61.0   \n",
       "2292     1108     12             0.0             0.0                   0.0   \n",
       "\n",
       "      total_de_datos_usados_mb  total_de_datos_usados_gb   plan_id  \\\n",
       "0                       1903.0                       2.0  ultimate   \n",
       "1                       6929.0                       7.0      surf   \n",
       "2                      13333.0                      14.0      surf   \n",
       "3                      22356.0                      22.0      surf   \n",
       "4                      18524.0                      19.0      surf   \n",
       "...                        ...                       ...       ...   \n",
       "2288                   36768.0                      36.0  ultimate   \n",
       "2289                   13105.0                      13.0      surf   \n",
       "2290                   17145.0                      17.0      surf   \n",
       "2291                   13052.0                      13.0      surf   \n",
       "2292                     235.0                       1.0  ultimate   \n",
       "\n",
       "                                        city   reg_date  messages_included  \\\n",
       "0      Atlanta-Sandy Springs-Roswell, GA MSA 2018-12-24               1000   \n",
       "1            Seattle-Tacoma-Bellevue, WA MSA 2018-08-13                 50   \n",
       "2            Seattle-Tacoma-Bellevue, WA MSA 2018-08-13                 50   \n",
       "3            Seattle-Tacoma-Bellevue, WA MSA 2018-08-13                 50   \n",
       "4            Seattle-Tacoma-Bellevue, WA MSA 2018-08-13                 50   \n",
       "...                                      ...        ...                ...   \n",
       "2288  Chicago-Naperville-Elgin, IL-IN-WI MSA 2018-08-20               1000   \n",
       "2289      Boston-Cambridge-Newton, MA-NH MSA 2018-10-01                 50   \n",
       "2290      Boston-Cambridge-Newton, MA-NH MSA 2018-10-01                 50   \n",
       "2291      Boston-Cambridge-Newton, MA-NH MSA 2018-10-01                 50   \n",
       "2292                  Salt Lake City, UT MSA 2018-12-30               1000   \n",
       "\n",
       "      mb_per_month_included  minutes_included  usd_monthly_pay  usd_per_gb  \\\n",
       "0                     30720              3000               70           7   \n",
       "1                     15360               500               20          10   \n",
       "2                     15360               500               20          10   \n",
       "3                     15360               500               20          10   \n",
       "4                     15360               500               20          10   \n",
       "...                     ...               ...              ...         ...   \n",
       "2288                  30720              3000               70           7   \n",
       "2289                  15360               500               20          10   \n",
       "2290                  15360               500               20          10   \n",
       "2291                  15360               500               20          10   \n",
       "2292                  30720              3000               70           7   \n",
       "\n",
       "      usd_per_message  usd_per_minute  ingreso_mensual  \n",
       "0                0.01            0.01            70.00  \n",
       "1                0.03            0.03            20.00  \n",
       "2                0.03            0.03            20.00  \n",
       "3                0.03            0.03            90.09  \n",
       "4                0.03            0.03            60.00  \n",
       "...               ...             ...              ...  \n",
       "2288             0.01            0.01           112.00  \n",
       "2289             0.03            0.03            20.78  \n",
       "2290             0.03            0.03            40.66  \n",
       "2291             0.03            0.03            20.33  \n",
       "2292             0.01            0.01            70.00  \n",
       "\n",
       "[2293 rows x 18 columns]"
      ]
     },
     "execution_count": 32,
     "metadata": {},
     "output_type": "execute_result"
    }
   ],
   "source": [
    "tabla_de_consumo_completa"
   ]
  },
  {
   "cell_type": "markdown",
   "metadata": {},
   "source": [
    "<div class=\"alert alert-block alert-success\">\n",
    "<b>Comentario del revisor</b> <a class=“tocSkip”></a>  \n",
    "¡Excelente trabajo con el análisis y la limpieza de los datos! Has abordado de manera efectiva los problemas identificados con los datos, como los tipos de datos incorrectos y la necesidad de redondear valores, y has enriquecido los datos con información adicional relevante. La agregación de datos por usuario y mes, así como la fusión de múltiples fuentes de datos para crear un DataFrame completo,está bien ejecutado.\n",
    "\n",
    "Además, la implementación de la función para calcular el ingreso mensual basado en los diferentes límites de los planes es una parte compleja del análisis que has manejado con precisión. Asegúrate de verificar la fórmula de cálculo y los datos finales para confirmar la exactitud de los ingresos mensuales calculados."
   ]
  },
  {
   "cell_type": "markdown",
   "metadata": {
    "id": "-jtyHzJb0q1I"
   },
   "source": [
    "## Estudia el comportamiento de usuario"
   ]
  },
  {
   "cell_type": "markdown",
   "metadata": {
    "id": "AxU3Y0N70q1J"
   },
   "source": [
    "[Calcula algunas estadísticas descriptivas para los datos agregados y fusionados que nos sean útiles y que muestren un panorama general captado por los datos. Dibuja gráficos útiles para facilitar la comprensión. Dado que la tarea principal es comparar las tarifas y decidir cuál es más rentable, las estadísticas y gráficas deben calcularse por tarifa.]\n",
    "\n",
    "[En los comentarios hallarás pistas relevantes para las llamadas, pero no las hay para los mensajes e Internet. Sin embargo, el principio del estudio estadístico que se aplica para ellos es el mismo que para las llamadas.]"
   ]
  },
  {
   "cell_type": "markdown",
   "metadata": {
    "id": "vtW4CJEe0q1J"
   },
   "source": [
    "### Llamadas"
   ]
  },
  {
   "cell_type": "code",
   "execution_count": 33,
   "metadata": {
    "id": "Jf5v5--k0q1J"
   },
   "outputs": [
    {
     "data": {
      "image/png": "[encoded data removed]",
      "text/plain": [
       "<Figure size 640x480 with 1 Axes>"
      ]
     },
     "metadata": {},
     "output_type": "display_data"
    }
   ],
   "source": [
    "# Promedio de llamadas del plan surf\n",
    "promedio_llamadas_surf = tabla_de_consumo_completa.groupby([\"plan_id\", \"month\"])[\"minutos_usados\"].mean()\n",
    "promedio_llamadas_surf = promedio_llamadas_surf.loc[\"surf\"]\n",
    "promedio_llamadas_surf = pd.DataFrame(promedio_llamadas_surf)\n",
    "promedio_llamadas_surf.columns = [\"llamadas_promedio_surf\"]\n",
    "promedio_llamadas_surf.reset_index(inplace=True)\n",
    "\n",
    "# Promedio de llamadas del plan ultimate\n",
    "promedio_llamadas_ultimate = tabla_de_consumo_completa.groupby([\"plan_id\", \"month\"])[\"minutos_usados\"].mean()\n",
    "promedio_llamadas_ultimate = promedio_llamadas_ultimate.loc[\"ultimate\"]\n",
    "promedio_llamadas_ultimate = pd.DataFrame(promedio_llamadas_ultimate)\n",
    "promedio_llamadas_ultimate.columns = [\"llamadas_promedio_ultimate\"]\n",
    "promedio_llamadas_ultimate.reset_index(inplace=True)\n",
    "\n",
    "# Compara la duración promedio de llamadas por cada plan y por cada mes. Traza un gráfico de barras para visualizarla.\n",
    "\n",
    "surf_ultimate_calls_mean = promedio_llamadas_surf.merge(promedio_llamadas_ultimate, on=\"month\", how=\"left\")\n",
    "surf_ultimate_calls_mean.set_index(\"month\", inplace=True)\n",
    "surf_ultimate_calls_mean.plot(kind=\"bar\",\n",
    "                             title=\"Promedio de llamadas por plan\",\n",
    "                             xlabel=\"Meses\",\n",
    "                             ylabel=\"Minutos\")\n",
    "plt.legend([\"Plan Surf\", \"Plan Ultimate\"])\n",
    "plt.show()"
   ]
  },
  {
   "cell_type": "code",
   "execution_count": 34,
   "metadata": {
    "id": "QoLqW1S_0q1J"
   },
   "outputs": [
    {
     "data": {
      "image/png": "[encoded data removed]",
      "text/plain": [
       "<Figure size 640x480 with 1 Axes>"
      ]
     },
     "metadata": {},
     "output_type": "display_data"
    }
   ],
   "source": [
    "# Compara el número de minutos mensuales que necesitan los usuarios de cada plan. Traza un histograma.\n",
    "tabla_de_consumo_completa.query('plan_id == \"surf\"')[\"minutos_usados\"].plot(kind=\"hist\")\n",
    "tabla_de_consumo_completa.query('plan_id == \"ultimate\"')[\"minutos_usados\"].plot(kind=\"hist\",\n",
    "                            title=\"Los usuarios del plan surf necesitan más minutos\")\n",
    "plt.legend([\"Plan Surf\", \"Plan Ultimate\"])\n",
    "\n",
    "plt.show()\n"
   ]
  },
  {
   "cell_type": "markdown",
   "metadata": {
    "id": "bLS9T8OH0q1K"
   },
   "source": [
    "[Calcula la media y la variable de la duración de las llamadas para averiguar si los usuarios de los distintos planes se comportan de forma diferente al realizar sus llamadas.]"
   ]
  },
  {
   "cell_type": "code",
   "execution_count": 35,
   "metadata": {
    "id": "oSndbAnt0q1K"
   },
   "outputs": [
    {
     "name": "stdout",
     "output_type": "stream",
     "text": [
      "429.2834714348016\n",
      "55847.17877118995\n"
     ]
    }
   ],
   "source": [
    "# Calcula la media y la varianza de la duración mensual de llamadas.\n",
    "media_mensual_llamadas = tabla_de_consumo_completa[\"minutos_usados\"].mean()\n",
    "varianza_mensual_llamadas = tabla_de_consumo_completa[\"minutos_usados\"].var()\n",
    "\n",
    "print(media_mensual_llamadas)\n",
    "\n",
    "print(varianza_mensual_llamadas)"
   ]
  },
  {
   "cell_type": "code",
   "execution_count": 36,
   "metadata": {
    "id": "nZzoRUKc0q1K"
   },
   "outputs": [
    {
     "data": {
      "image/png": "[encoded data removed]",
      "text/plain": [
       "<Figure size 640x480 with 1 Axes>"
      ]
     },
     "metadata": {},
     "output_type": "display_data"
    }
   ],
   "source": [
    "# Traza un diagrama de caja para visualizar la distribución de la duración mensual de llamadas\n",
    "plt.boxplot(tabla_de_consumo_completa[\"minutos_usados\"])\n",
    "plt.show()"
   ]
  },
  {
   "cell_type": "markdown",
   "metadata": {
    "id": "r627zBO50q1K"
   },
   "source": [
    "[Elabora las conclusiones sobre el comportamiento de los usuarios con respecto a las llamadas. ¿Su comportamiento varía en función del plan?]\n",
    "- Como podemos observar, las personas mensualmente exceden de los minutos otorgados, la gran mayoria de los usuarios utilizan minutos de más de los planes."
   ]
  },
  {
   "cell_type": "markdown",
   "metadata": {
    "id": "8idKy8Wh0q1L"
   },
   "source": [
    "### Mensajes"
   ]
  },
  {
   "cell_type": "code",
   "execution_count": 37,
   "metadata": {
    "id": "NXLxiTit0q1L"
   },
   "outputs": [
    {
     "data": {
      "image/png": "[encoded data removed]",
      "text/plain": [
       "<Figure size 640x480 with 1 Axes>"
      ]
     },
     "metadata": {},
     "output_type": "display_data"
    }
   ],
   "source": [
    "# Comprara el número de mensajes que tienden a enviar cada mes los usuarios de cada plan\n",
    "tabla_de_consumo_completa.query('plan_id == \"surf\"')[\"cantidad_de_mensajes\"].plot(kind=\"hist\")\n",
    "tabla_de_consumo_completa.query('plan_id == \"ultimate\"')[\"cantidad_de_mensajes\"].plot(kind=\"hist\",\n",
    "                        title=\"Los usuarios del plan surf envian más mensajes\")\n",
    "plt.legend([\"Plan Surf\", \"Plan Ultimate\"])\n",
    "plt.show()"
   ]
  },
  {
   "cell_type": "code",
   "execution_count": 38,
   "metadata": {
    "id": "GRI_R7xF0q1L"
   },
   "outputs": [
    {
     "data": {
      "image/png": "[encoded data removed]",
      "text/plain": [
       "<Figure size 640x480 with 1 Axes>"
      ]
     },
     "metadata": {},
     "output_type": "display_data"
    }
   ],
   "source": [
    "# Compara la cantidad de tráfico de Internet consumido por usuarios por plan\n",
    "tabla_de_consumo_completa.query('plan_id == \"surf\"')[\"total_de_datos_usados_gb\"].plot(kind=\"hist\")\n",
    "tabla_de_consumo_completa.query('plan_id == \"ultimate\"')[\"total_de_datos_usados_gb\"].plot(kind=\"hist\",\n",
    "                    title=\"Los usuarios del plan surf consumen más internet\")\n",
    "plt.legend([\"Plan Surf\", \"Plan Ultimate\"])\n",
    "plt.show()"
   ]
  },
  {
   "cell_type": "markdown",
   "metadata": {
    "id": "390SSL480q1M"
   },
   "source": [
    "[Elabora las conclusiones sobre el comportamiento de los usuarios con respecto a los mensajes. ¿Su comportamiento varía en función del plan?]\n",
    "- Aqui podemos llegar a la conclusión que los usuarios de los planes surf sobrepasan de su limite de mensajes de su plan, lo cual ocasiona que esten pagando de más por cada mensaje excedido, a comparación de los del plan Ultimate que se quedan en un rango más controlado, sin excederse de su limite."
   ]
  },
  {
   "cell_type": "markdown",
   "metadata": {
    "id": "42YSypXz0q1M"
   },
   "source": [
    "### Internet"
   ]
  },
  {
   "cell_type": "code",
   "execution_count": 39,
   "metadata": {
    "id": "lSuKPtjh0q1M"
   },
   "outputs": [
    {
     "data": {
      "image/png": "[encoded data removed]",
      "text/plain": [
       "<Figure size 640x480 with 1 Axes>"
      ]
     },
     "metadata": {},
     "output_type": "display_data"
    }
   ],
   "source": [
    "tabla_de_consumo_completa.query('plan_id == \"surf\"')[\"total_de_datos_usados_mb\"].plot(kind=\"hist\")\n",
    "tabla_de_consumo_completa.query('plan_id == \"ultimate\"')[\"total_de_datos_usados_mb\"].plot(kind=\"hist\",\n",
    "                    title=\"Los usuarios del plan surf consumen más MB de internet\")\n",
    "plt.legend([\"Plan Surf\", \"Plan Ultimate\"])\n",
    "plt.show()"
   ]
  },
  {
   "cell_type": "markdown",
   "metadata": {
    "id": "UN9zwuMP0q1N"
   },
   "source": [
    "[Elabora las conclusiones sobre cómo los usuarios tienden a consumir el tráfico de Internet. ¿Su comportamiento varía en función del plan?]\n",
    "- Como conclusión, se puede observar que los usuarios del plan surf se acaban rapido sus datos de internet (MB y GB), antes del mes, lo que ocasiona que se excedan de su limite y tengan que pagar cuotas extras a comparación de los usuarios del plan Ultimate."
   ]
  },
  {
   "cell_type": "markdown",
   "metadata": {
    "id": "tCijq3260q1N"
   },
   "source": [
    "## Ingreso"
   ]
  },
  {
   "cell_type": "markdown",
   "metadata": {
    "id": "9nq5IAcy0q1O"
   },
   "source": [
    "[Del mismo modo que has estudiado el comportamiento de los usuarios, describe estadísticamente los ingresos de los planes.]"
   ]
  },
  {
   "cell_type": "code",
   "execution_count": 40,
   "metadata": {
    "id": "tz-dq_V00q1O"
   },
   "outputs": [
    {
     "data": {
      "text/plain": [
       "count    1573.000000\n",
       "mean       60.795410\n",
       "std        55.450334\n",
       "min        20.000000\n",
       "25%        20.000000\n",
       "50%        40.510000\n",
       "75%        80.420000\n",
       "max       590.370000\n",
       "Name: ingreso_mensual, dtype: float64"
      ]
     },
     "execution_count": 40,
     "metadata": {},
     "output_type": "execute_result"
    }
   ],
   "source": [
    "tabla_de_consumo_completa.query('plan_id == \"surf\"')[\"ingreso_mensual\"].describe()"
   ]
  },
  {
   "cell_type": "code",
   "execution_count": 41,
   "metadata": {
    "id": "0Y1v8ZUz0q1P"
   },
   "outputs": [
    {
     "data": {
      "text/plain": [
       "count    720.000000\n",
       "mean      72.333333\n",
       "std       11.498322\n",
       "min       70.000000\n",
       "25%       70.000000\n",
       "50%       70.000000\n",
       "75%       70.000000\n",
       "max      182.000000\n",
       "Name: ingreso_mensual, dtype: float64"
      ]
     },
     "execution_count": 41,
     "metadata": {},
     "output_type": "execute_result"
    }
   ],
   "source": [
    "tabla_de_consumo_completa.query('plan_id == \"ultimate\"')[\"ingreso_mensual\"].describe()"
   ]
  },
  {
   "cell_type": "markdown",
   "metadata": {
    "id": "KAFidcXZ0q1P"
   },
   "source": [
    "[Elabora las conclusiones sobre cómo difiere el ingreso entre los planes.]\n",
    "- Aqui podemos observar que los usuarios del plan Surf pagan 40 dolares más en promedio por que se exceden en llamadas, mensajes e internet. Lo cual esto les hace que tengan que pagar extra. A comparación del plan Ultimate que se mantienen en un promedio decente viendo que ellos casi no se exceden y pagando 2 dolares de más de su mensualidad que es de 70 dolares. Esto nos da a entender que los usuarios del plan Surf no les alcanza todo lo que les ofrece el plan."
   ]
  },
  {
   "cell_type": "markdown",
   "metadata": {},
   "source": [
    "<div class=\"alert alert-block alert-success\">\n",
    "<b>Comentario del revisor</b> <a class=“tocSkip”></a>  \n",
    "¡Gran trabajo con el análisis del comportamiento del usuario! 🌟 Has realizado un análisis exhaustivo de las llamadas, mensajes e Internet, y has presentado los datos de manera clara mediante gráficos y estadísticas descriptivas.\n",
    "\n",
    "Llamadas\n",
    "\n",
    "Excelente trabajo al comparar el promedio de llamadas entre los planes y al visualizar la distribución de minutos usados. Los histogramas y el diagrama de caja proporcionan una buena visión sobre el comportamiento de los usuarios y sus tendencias en el uso de minutos. La conclusión de que la mayoría de los usuarios superan sus límites de minutos es relevante y bien soportada por los datos.\n",
    "    \n",
    "Mensajes e Internet\n",
    "\n",
    "Los histogramas para mensajes y tráfico de Internet también ofrecen una visión clara sobre cómo los usuarios de los distintos planes se comportan. La conclusión de que los usuarios del plan Surf tienden a superar sus límites en ambos casos es bien respaldada por tus gráficos.\n",
    "    \n",
    "Ingreso\n",
    "\n",
    "eL análisis de los ingresos mensuales es muy informativo. La comparación entre los planes Surf y Ultimate muestra claramente cómo los usuarios del plan Surf terminan pagando significativamente más debido a los excedentes en llamadas, mensajes e Internet. Esta conclusión es crucial para entender la rentabilidad de cada plan.\n",
    "\n",
    "</div>"
   ]
  },
  {
   "cell_type": "markdown",
   "metadata": {
    "id": "ajJ7VKeI0q1Q"
   },
   "source": [
    "## Prueba las hipótesis estadísticas"
   ]
  },
  {
   "cell_type": "markdown",
   "metadata": {
    "id": "AdXAZ-yL0q1Q"
   },
   "source": [
    "[Prueba la hipótesis de que son diferentes los ingresos promedio procedentes de los usuarios de los planes de llamada Ultimate y Surf.]"
   ]
  },
  {
   "cell_type": "markdown",
   "metadata": {
    "id": "IQwa_hsh0q1Q"
   },
   "source": [
    "[Elabora las hipótesis nula y alternativa, escoge la prueba estadística, determina el valor alfa.]"
   ]
  },
  {
   "cell_type": "code",
   "execution_count": 42,
   "metadata": {
    "id": "nFoPNlPq0q1R"
   },
   "outputs": [],
   "source": [
    "# Prueba las hipótesis\n",
    "\n",
    "#Hipotesis nula: El promedio de ingreso mensual del plan Surf es igual al del plan Ultimate\n",
    "#Hipotesis alternativa: El promedio de ingreso mensual del plan Surf ES DIFERENTE al del plan Ultimate\n",
    "\n",
    "alpha = 0.05\n",
    "\n",
    "muestra_surf = tabla_de_consumo_completa.query('plan_id == \"surf\"')[\"ingreso_mensual\"]\n",
    "muestra_ultimate = tabla_de_consumo_completa.query('plan_id == \"ultimate\"')[\"ingreso_mensual\"]\n"
   ]
  },
  {
   "cell_type": "code",
   "execution_count": 43,
   "metadata": {},
   "outputs": [],
   "source": [
    "from scipy import stats as st"
   ]
  },
  {
   "cell_type": "code",
   "execution_count": 44,
   "metadata": {},
   "outputs": [
    {
     "name": "stdout",
     "output_type": "stream",
     "text": [
      "5.1234033722748e-15\n"
     ]
    }
   ],
   "source": [
    "resultados_m1 = st.ttest_ind(muestra_surf, muestra_ultimate, equal_var=False)\n",
    "\n",
    "print(resultados_m1.pvalue)"
   ]
  },
  {
   "cell_type": "code",
   "execution_count": 45,
   "metadata": {},
   "outputs": [
    {
     "name": "stdout",
     "output_type": "stream",
     "text": [
      "Podemos rechazar la hipotesis nula\n"
     ]
    }
   ],
   "source": [
    "if resultados_m1.pvalue < alpha:\n",
    "    print(\"Podemos rechazar la hipotesis nula\")\n",
    "else:\n",
    "    print(\"No podemos rechazar la hipotesis nula\")"
   ]
  },
  {
   "cell_type": "markdown",
   "metadata": {
    "id": "tCcAruM60q1R"
   },
   "source": [
    "[Prueba la hipótesis de que el ingreso promedio de los usuarios del área NY-NJ es diferente al de los usuarios de otras regiones.]"
   ]
  },
  {
   "cell_type": "markdown",
   "metadata": {
    "id": "LsBgitqj0q1R"
   },
   "source": [
    "[Elabora las hipótesis nula y alternativa, escoge la prueba estadística, determina el valor alfa.]"
   ]
  },
  {
   "cell_type": "code",
   "execution_count": 46,
   "metadata": {
    "id": "Cqcj7wrZ0q1S"
   },
   "outputs": [],
   "source": [
    "# Prueba las hipótesis\n",
    "\n",
    "#Hipotesis nula: El promedio de ingreso mensual de los usuarios del área NY-NJ es igual a los usuarios de las otras regiones.\n",
    "#Hipotesis alternativa: El promedio de ingreso mensual de los usuarios del área NY-NJ ES DIFERENTE a los usuarios de las otras regiones.\n",
    "\n",
    "alpha = 0.05\n",
    "\n",
    "muestra_usuarios_ny_nj = tabla_de_consumo_completa.query('city == \"New York-Newark-Jersey City, NY-NJ-PA MSA\"')[\"ingreso_mensual\"]\n",
    "muestra_usuarios_restantes = tabla_de_consumo_completa.query('city != \"New York-Newark-Jersey City, NY-NJ-PA MSA\"')[\"ingreso_mensual\"]\n"
   ]
  },
  {
   "cell_type": "code",
   "execution_count": 47,
   "metadata": {},
   "outputs": [
    {
     "name": "stdout",
     "output_type": "stream",
     "text": [
      "0.03408041222493267\n"
     ]
    }
   ],
   "source": [
    "resultados_m1 = st.ttest_ind(muestra_usuarios_ny_nj, muestra_usuarios_restantes, equal_var=False)\n",
    "\n",
    "print(resultados_m1.pvalue)"
   ]
  },
  {
   "cell_type": "code",
   "execution_count": 48,
   "metadata": {},
   "outputs": [
    {
     "name": "stdout",
     "output_type": "stream",
     "text": [
      "Podemos rechazar la hipotesis nula\n"
     ]
    }
   ],
   "source": [
    "if resultados_m1.pvalue < alpha:\n",
    "    print(\"Podemos rechazar la hipotesis nula\")\n",
    "else:\n",
    "    print(\"No podemos rechazar la hipotesis nula\")"
   ]
  },
  {
   "cell_type": "markdown",
   "metadata": {},
   "source": [
    "\n",
    "<div class=\"alert alert-block alert-success\">\n",
    "<b>Comentario del revisor</b> <a class=“tocSkip”></a> \n",
    "    \n",
    "¡Buen trabajo en las pruebas de hipótesis!\n",
    "    \n",
    "Comparación de Ingresos entre Planes\n",
    "\n",
    "Hipótesis: Comparaste correctamente los ingresos promedio entre los planes Surf y Ultimate usando el test t de Student.\n",
    "\n",
    "Comparación de Ingresos entre Regiones\n",
    "\n",
    "Hipótesis: También aplicaste bien el test t para comparar los ingresos entre NY-NJ y otras regiones.\n",
    "\n",
    "Tu enfoque es adecuado y los resultados bien interpretados. \n",
    "</div>\n",
    "\n"
   ]
  },
  {
   "cell_type": "markdown",
   "metadata": {
    "id": "bbTR8UQO0q1T"
   },
   "source": [
    "## Conclusión general\n",
    "\n",
    "[En esta sección final, enumera tus conclusiones importantes. Asegúrate de que estas abarquen todas las decisiones (suposiciones) importantes que adoptaste y que determinaron la forma elegida para procesar y analizar los datos.]\n",
    "- En conclusión los usuarios del plan surf no le alcanza todo lo que le ofrece la telefonia, ya que se excede demasiado tanto en llamadas, mensajes y en internet. Lo que esto ocasiona que esten pagando un promedio de 40 dolares más de lo que les cueta su plan regularmente. Esto ultimo esta comprobado en la prueba de hipotesis en donde los ingresos mensuales no son iguales a los ingresos mensuales del plan ultimate. Y estamos hablando de que todas las regiones comparten esto, no hay una región o ciudad en especifico que no exceda del ingreso mensual sin importar su plan. Asi que, lo que se podria hacer es aumentar el limite del plan surf o invitarlos que se unan al plan Ultimate que practicamente lo esta pagando con su ingreso mensual pero contaran con mayores beneficios a comparación de los que ya dispoen en el plan Surf."
   ]
  },
  {
   "cell_type": "markdown",
   "metadata": {},
   "source": [
    "<div class=\"alert alert-block alert-success\">\n",
    "<b>Comentario del revisor</b> <a class=“tocSkip”></a>  \n",
    "¡Excelente trabajo! 👏 Tu proyecto ha sido aprobado. Has demostrado un gran dominio de las herramientas y metodologías aplicadas. Sigue con el mismo entusiasmo en los próximos sprints, ¡estás haciendo un trabajo increíble! 🚀  \n",
    "</div>"
   ]
  },
  {
   "cell_type": "code",
   "execution_count": null,
   "metadata": {},
   "outputs": [],
   "source": []
  }
 ],
 "metadata": {
  "ExecuteTimeLog": [
   {
    "duration": 828,
    "start_time": "2021-11-16T09:21:11.304Z"
   },
   {
    "duration": 893,
    "start_time": "2021-11-16T09:21:17.728Z"
   },
   {
    "duration": 1150,
    "start_time": "2021-11-16T09:21:29.568Z"
   },
   {
    "duration": 3,
    "start_time": "2021-11-16T09:24:14.495Z"
   },
   {
    "duration": 120,
    "start_time": "2021-11-16T09:24:46.630Z"
   },
   {
    "duration": 3,
    "start_time": "2021-11-16T09:28:27.882Z"
   },
   {
    "duration": 4,
    "start_time": "2021-11-16T09:29:54.281Z"
   },
   {
    "duration": 3,
    "start_time": "2021-11-16T09:30:45.936Z"
   },
   {
    "duration": 4,
    "start_time": "2021-11-16T09:31:06.300Z"
   },
   {
    "duration": 113,
    "start_time": "2021-11-16T09:31:37.208Z"
   },
   {
    "duration": 143,
    "start_time": "2021-11-16T09:31:48.656Z"
   },
   {
    "duration": 98,
    "start_time": "2021-11-16T09:31:55.678Z"
   },
   {
    "duration": 3,
    "start_time": "2021-11-16T09:32:08.535Z"
   },
   {
    "duration": 111,
    "start_time": "2021-11-16T09:32:10.120Z"
   },
   {
    "duration": 3,
    "start_time": "2021-11-16T09:32:15.732Z"
   },
   {
    "duration": 4,
    "start_time": "2021-11-16T09:32:29.423Z"
   },
   {
    "duration": 3,
    "start_time": "2021-11-16T10:03:03.074Z"
   },
   {
    "duration": 3,
    "start_time": "2021-11-16T10:10:01.288Z"
   },
   {
    "duration": 3,
    "start_time": "2021-11-16T10:10:46.923Z"
   },
   {
    "duration": 121,
    "start_time": "2021-11-16T10:37:46.494Z"
   },
   {
    "duration": 125,
    "start_time": "2021-11-16T10:38:20.632Z"
   },
   {
    "duration": 112,
    "start_time": "2021-11-16T10:46:53.001Z"
   },
   {
    "duration": 110,
    "start_time": "2021-11-16T10:48:25.775Z"
   },
   {
    "duration": 3,
    "start_time": "2021-11-16T10:50:18.720Z"
   },
   {
    "duration": 4,
    "start_time": "2021-11-16T10:50:37.649Z"
   },
   {
    "duration": 2,
    "start_time": "2021-11-16T10:50:51.884Z"
   },
   {
    "duration": 3,
    "start_time": "2021-11-16T10:51:56.237Z"
   },
   {
    "duration": 101,
    "start_time": "2021-11-16T10:53:13.791Z"
   },
   {
    "duration": 3,
    "start_time": "2021-11-16T10:55:59.186Z"
   },
   {
    "duration": 3,
    "start_time": "2021-11-16T10:56:10.751Z"
   },
   {
    "duration": 3,
    "start_time": "2021-11-16T10:56:49.038Z"
   },
   {
    "duration": 3,
    "start_time": "2021-11-16T10:56:49.174Z"
   },
   {
    "duration": 4,
    "start_time": "2021-11-16T10:56:49.414Z"
   },
   {
    "duration": 3,
    "start_time": "2021-11-16T10:56:49.680Z"
   },
   {
    "duration": 3,
    "start_time": "2021-11-16T10:56:50.370Z"
   },
   {
    "duration": 114,
    "start_time": "2021-11-16T10:59:34.518Z"
   },
   {
    "duration": 3,
    "start_time": "2021-11-16T11:01:41.201Z"
   },
   {
    "duration": 116,
    "start_time": "2021-11-16T11:01:48.754Z"
   },
   {
    "duration": 3,
    "start_time": "2021-11-16T11:02:16.685Z"
   },
   {
    "duration": 3,
    "start_time": "2021-11-16T11:02:19.479Z"
   },
   {
    "duration": 3,
    "start_time": "2021-11-16T11:02:47.067Z"
   },
   {
    "duration": 3,
    "start_time": "2021-11-16T11:02:49.353Z"
   },
   {
    "duration": 3,
    "start_time": "2021-11-16T11:03:07.835Z"
   },
   {
    "duration": 3,
    "start_time": "2021-11-16T11:03:07.953Z"
   },
   {
    "duration": 112,
    "start_time": "2021-11-16T11:07:52.072Z"
   },
   {
    "duration": 187,
    "start_time": "2021-11-16T11:09:23.468Z"
   },
   {
    "duration": 4,
    "start_time": "2021-11-16T11:10:01.455Z"
   },
   {
    "duration": 3,
    "start_time": "2021-11-16T11:10:05.069Z"
   },
   {
    "duration": 4,
    "start_time": "2021-11-16T11:10:13.376Z"
   },
   {
    "duration": 3,
    "start_time": "2021-11-16T11:10:14.434Z"
   },
   {
    "duration": 3,
    "start_time": "2021-11-16T11:10:22.853Z"
   },
   {
    "duration": 4,
    "start_time": "2021-11-16T11:27:29.279Z"
   },
   {
    "duration": 4,
    "start_time": "2021-11-16T11:29:08.919Z"
   },
   {
    "duration": 118,
    "start_time": "2021-11-16T11:29:46.703Z"
   },
   {
    "duration": 437,
    "start_time": "2021-11-16T11:36:02.181Z"
   },
   {
    "duration": 157,
    "start_time": "2021-11-16T11:36:14.388Z"
   },
   {
    "duration": 207,
    "start_time": "2021-11-16T11:47:15.898Z"
   },
   {
    "duration": 3,
    "start_time": "2021-11-16T11:53:52.092Z"
   },
   {
    "duration": 3,
    "start_time": "2021-11-16T11:53:52.236Z"
   },
   {
    "duration": 3,
    "start_time": "2021-11-16T11:59:12.005Z"
   },
   {
    "duration": 112,
    "start_time": "2021-11-16T12:00:33.446Z"
   },
   {
    "duration": 3,
    "start_time": "2021-11-16T12:02:14.453Z"
   },
   {
    "duration": 3,
    "start_time": "2021-11-16T12:02:39.512Z"
   },
   {
    "duration": 106,
    "start_time": "2021-11-16T12:03:03.460Z"
   },
   {
    "duration": 3,
    "start_time": "2021-11-17T20:37:21.139Z"
   },
   {
    "duration": 3,
    "start_time": "2021-11-17T20:37:22.229Z"
   },
   {
    "duration": 3,
    "start_time": "2021-11-17T20:38:38.806Z"
   },
   {
    "duration": 3,
    "start_time": "2021-11-17T20:38:41.958Z"
   },
   {
    "duration": 3,
    "start_time": "2021-11-17T20:43:46.551Z"
   },
   {
    "duration": 4,
    "start_time": "2021-11-17T20:58:21.835Z"
   },
   {
    "duration": 3,
    "start_time": "2021-11-17T20:59:21.872Z"
   },
   {
    "duration": 4,
    "start_time": "2021-11-17T20:59:45.352Z"
   },
   {
    "duration": 4,
    "start_time": "2021-11-17T20:59:49.646Z"
   },
   {
    "duration": 159,
    "start_time": "2021-11-17T21:02:26.949Z"
   },
   {
    "duration": 3,
    "start_time": "2021-11-17T21:03:53.461Z"
   },
   {
    "duration": 3,
    "start_time": "2021-11-17T21:03:53.694Z"
   },
   {
    "duration": 3,
    "start_time": "2021-11-17T21:05:28.145Z"
   },
   {
    "duration": 116,
    "start_time": "2021-11-17T21:05:57.787Z"
   },
   {
    "duration": 3,
    "start_time": "2021-11-17T21:06:37.993Z"
   },
   {
    "duration": 3,
    "start_time": "2021-11-17T21:06:38.261Z"
   },
   {
    "duration": 3,
    "start_time": "2021-11-17T21:11:54.358Z"
   },
   {
    "duration": 3,
    "start_time": "2021-11-17T21:12:43.846Z"
   },
   {
    "duration": 4,
    "start_time": "2021-11-17T21:13:08.773Z"
   },
   {
    "duration": 3,
    "start_time": "2021-11-17T21:14:44.441Z"
   },
   {
    "duration": 3,
    "start_time": "2021-11-17T21:15:42.059Z"
   },
   {
    "duration": 4,
    "start_time": "2021-11-17T21:15:51.995Z"
   },
   {
    "duration": 3,
    "start_time": "2021-11-17T21:15:53.923Z"
   },
   {
    "duration": 3,
    "start_time": "2021-11-17T21:15:55.282Z"
   },
   {
    "duration": 3,
    "start_time": "2021-11-17T21:16:28.492Z"
   },
   {
    "duration": 3,
    "start_time": "2021-11-17T21:16:32.603Z"
   },
   {
    "duration": 3,
    "start_time": "2021-11-17T21:17:06.941Z"
   },
   {
    "duration": 98,
    "start_time": "2021-11-17T21:18:05.733Z"
   },
   {
    "duration": 4,
    "start_time": "2021-11-17T21:21:35.255Z"
   },
   {
    "duration": 3,
    "start_time": "2021-11-17T21:21:37.804Z"
   },
   {
    "duration": 4,
    "start_time": "2021-11-17T21:23:06.071Z"
   },
   {
    "duration": 3,
    "start_time": "2021-11-17T21:23:24.799Z"
   },
   {
    "duration": 3,
    "start_time": "2021-11-17T21:23:32.591Z"
   },
   {
    "duration": 98,
    "start_time": "2021-11-17T21:28:31.559Z"
   },
   {
    "duration": 3,
    "start_time": "2021-11-17T21:28:45.448Z"
   },
   {
    "duration": 3,
    "start_time": "2021-11-17T21:29:17.303Z"
   },
   {
    "duration": 3,
    "start_time": "2021-11-17T21:29:29.617Z"
   },
   {
    "duration": 3,
    "start_time": "2021-11-17T21:29:32.681Z"
   },
   {
    "duration": 3,
    "start_time": "2021-11-17T21:36:11.474Z"
   },
   {
    "duration": 3,
    "start_time": "2021-11-17T21:36:14.791Z"
   },
   {
    "duration": 3,
    "start_time": "2021-11-17T21:36:53.943Z"
   },
   {
    "duration": 3,
    "start_time": "2021-11-17T21:36:56.165Z"
   },
   {
    "duration": 4,
    "start_time": "2021-11-17T21:37:16.590Z"
   },
   {
    "duration": 3,
    "start_time": "2021-11-17T21:37:22.702Z"
   },
   {
    "duration": 4,
    "start_time": "2021-11-17T21:38:03.479Z"
   },
   {
    "duration": 3,
    "start_time": "2021-11-17T21:38:08.601Z"
   },
   {
    "duration": 3,
    "start_time": "2021-11-17T21:38:12.928Z"
   },
   {
    "duration": 3,
    "start_time": "2021-11-17T21:38:48.896Z"
   },
   {
    "duration": 2,
    "start_time": "2021-11-17T21:38:49.171Z"
   },
   {
    "duration": 4,
    "start_time": "2021-11-17T21:39:57.889Z"
   },
   {
    "duration": 3,
    "start_time": "2021-11-17T21:39:58.057Z"
   },
   {
    "duration": 3,
    "start_time": "2021-11-17T21:41:20.108Z"
   },
   {
    "duration": 3,
    "start_time": "2021-11-17T21:41:20.629Z"
   },
   {
    "duration": 3,
    "start_time": "2021-11-17T21:42:49.136Z"
   },
   {
    "duration": 3,
    "start_time": "2021-11-17T21:43:15.137Z"
   },
   {
    "duration": 4,
    "start_time": "2021-11-17T21:43:16.766Z"
   },
   {
    "duration": 4,
    "start_time": "2021-11-17T21:43:31.711Z"
   },
   {
    "duration": 3,
    "start_time": "2021-11-17T21:43:36.312Z"
   },
   {
    "duration": 4,
    "start_time": "2021-11-17T21:45:08.825Z"
   },
   {
    "duration": 4,
    "start_time": "2021-11-17T21:45:10.119Z"
   },
   {
    "duration": 4,
    "start_time": "2021-11-17T21:45:13.748Z"
   },
   {
    "duration": 3,
    "start_time": "2021-11-17T21:45:22.219Z"
   },
   {
    "duration": 3,
    "start_time": "2021-11-17T21:45:33.412Z"
   },
   {
    "duration": 2,
    "start_time": "2021-11-17T21:46:01.885Z"
   },
   {
    "duration": 3,
    "start_time": "2021-11-17T21:46:03.628Z"
   },
   {
    "duration": 107,
    "start_time": "2021-11-17T21:47:32.512Z"
   },
   {
    "duration": 103,
    "start_time": "2021-11-17T21:50:36.243Z"
   },
   {
    "duration": 3,
    "start_time": "2021-11-18T06:28:31.440Z"
   },
   {
    "duration": 3,
    "start_time": "2021-11-18T06:29:00.168Z"
   },
   {
    "duration": 3,
    "start_time": "2021-11-18T06:31:27.008Z"
   },
   {
    "duration": 2,
    "start_time": "2021-11-18T06:35:34.288Z"
   },
   {
    "duration": 2,
    "start_time": "2021-11-18T06:38:04.527Z"
   },
   {
    "duration": 514,
    "start_time": "2024-08-16T20:18:08.045Z"
   },
   {
    "duration": 395,
    "start_time": "2024-08-16T20:18:08.563Z"
   },
   {
    "duration": 4,
    "start_time": "2024-08-16T20:18:08.962Z"
   },
   {
    "duration": 8,
    "start_time": "2024-08-16T20:18:08.972Z"
   },
   {
    "duration": 18,
    "start_time": "2024-08-16T20:18:08.984Z"
   },
   {
    "duration": 4,
    "start_time": "2024-08-16T20:18:09.006Z"
   },
   {
    "duration": 3,
    "start_time": "2024-08-16T20:18:09.015Z"
   },
   {
    "duration": 4,
    "start_time": "2024-08-16T20:18:09.022Z"
   },
   {
    "duration": 5,
    "start_time": "2024-08-16T20:18:09.029Z"
   },
   {
    "duration": 3,
    "start_time": "2024-08-16T20:18:09.042Z"
   },
   {
    "duration": 4,
    "start_time": "2024-08-16T20:18:09.049Z"
   },
   {
    "duration": 5,
    "start_time": "2024-08-16T20:18:09.104Z"
   },
   {
    "duration": 4,
    "start_time": "2024-08-16T20:18:09.113Z"
   },
   {
    "duration": 4,
    "start_time": "2024-08-16T20:18:09.121Z"
   },
   {
    "duration": 4,
    "start_time": "2024-08-16T20:18:09.129Z"
   },
   {
    "duration": 4,
    "start_time": "2024-08-16T20:18:09.137Z"
   },
   {
    "duration": 3,
    "start_time": "2024-08-16T20:18:09.145Z"
   },
   {
    "duration": 3,
    "start_time": "2024-08-16T20:18:09.202Z"
   },
   {
    "duration": 4,
    "start_time": "2024-08-16T20:18:09.210Z"
   },
   {
    "duration": 4,
    "start_time": "2024-08-16T20:18:09.217Z"
   },
   {
    "duration": 3,
    "start_time": "2024-08-16T20:18:09.224Z"
   },
   {
    "duration": 5,
    "start_time": "2024-08-16T20:18:09.232Z"
   },
   {
    "duration": 13,
    "start_time": "2024-08-16T20:18:09.245Z"
   },
   {
    "duration": 40,
    "start_time": "2024-08-16T20:18:09.262Z"
   },
   {
    "duration": 4,
    "start_time": "2024-08-16T20:18:09.306Z"
   },
   {
    "duration": 3,
    "start_time": "2024-08-16T20:18:09.313Z"
   },
   {
    "duration": 4,
    "start_time": "2024-08-16T20:18:09.319Z"
   },
   {
    "duration": 4,
    "start_time": "2024-08-16T20:18:09.331Z"
   },
   {
    "duration": 3,
    "start_time": "2024-08-16T20:18:24.593Z"
   },
   {
    "duration": 317,
    "start_time": "2024-08-16T20:18:26.425Z"
   },
   {
    "duration": 16,
    "start_time": "2024-08-16T20:19:25.128Z"
   },
   {
    "duration": 16,
    "start_time": "2024-08-16T20:20:05.537Z"
   },
   {
    "duration": 30,
    "start_time": "2024-08-16T20:20:19.076Z"
   },
   {
    "duration": 9,
    "start_time": "2024-08-16T20:20:33.078Z"
   },
   {
    "duration": 14,
    "start_time": "2024-08-16T20:21:04.024Z"
   },
   {
    "duration": 19,
    "start_time": "2024-08-16T20:22:33.908Z"
   },
   {
    "duration": 16,
    "start_time": "2024-08-16T20:35:37.724Z"
   },
   {
    "duration": 18,
    "start_time": "2024-08-16T20:35:51.107Z"
   },
   {
    "duration": 1173,
    "start_time": "2024-08-16T22:30:01.521Z"
   },
   {
    "duration": 24,
    "start_time": "2024-08-16T22:30:34.519Z"
   },
   {
    "duration": 16,
    "start_time": "2024-08-16T22:32:57.366Z"
   },
   {
    "duration": 142,
    "start_time": "2024-08-16T22:37:29.981Z"
   },
   {
    "duration": 14,
    "start_time": "2024-08-16T22:37:50.022Z"
   },
   {
    "duration": 23,
    "start_time": "2024-08-16T22:38:09.442Z"
   },
   {
    "duration": 16,
    "start_time": "2024-08-16T22:38:17.238Z"
   },
   {
    "duration": 28,
    "start_time": "2024-08-16T22:38:28.336Z"
   },
   {
    "duration": 273,
    "start_time": "2024-08-16T22:39:06.347Z"
   },
   {
    "duration": 28,
    "start_time": "2024-08-16T22:39:34.371Z"
   },
   {
    "duration": 4,
    "start_time": "2024-08-16T22:41:04.082Z"
   },
   {
    "duration": 432,
    "start_time": "2024-08-16T22:41:10.747Z"
   },
   {
    "duration": 282,
    "start_time": "2024-08-16T22:41:11.183Z"
   },
   {
    "duration": 17,
    "start_time": "2024-08-16T22:41:11.468Z"
   },
   {
    "duration": 26,
    "start_time": "2024-08-16T22:41:11.488Z"
   },
   {
    "duration": 15,
    "start_time": "2024-08-16T22:41:11.518Z"
   },
   {
    "duration": 16,
    "start_time": "2024-08-16T22:41:11.536Z"
   },
   {
    "duration": 68,
    "start_time": "2024-08-16T22:41:11.556Z"
   },
   {
    "duration": 3,
    "start_time": "2024-08-16T22:41:11.628Z"
   },
   {
    "duration": 4,
    "start_time": "2024-08-16T22:41:11.635Z"
   },
   {
    "duration": 4,
    "start_time": "2024-08-16T22:41:11.643Z"
   },
   {
    "duration": 3,
    "start_time": "2024-08-16T22:41:11.650Z"
   },
   {
    "duration": 48,
    "start_time": "2024-08-16T22:41:11.656Z"
   },
   {
    "duration": 3,
    "start_time": "2024-08-16T22:41:11.709Z"
   },
   {
    "duration": 3,
    "start_time": "2024-08-16T22:41:11.718Z"
   },
   {
    "duration": 4,
    "start_time": "2024-08-16T22:41:11.724Z"
   },
   {
    "duration": 3,
    "start_time": "2024-08-16T22:41:11.732Z"
   },
   {
    "duration": 3,
    "start_time": "2024-08-16T22:41:11.738Z"
   },
   {
    "duration": 59,
    "start_time": "2024-08-16T22:41:11.744Z"
   },
   {
    "duration": 4,
    "start_time": "2024-08-16T22:41:11.806Z"
   },
   {
    "duration": 3,
    "start_time": "2024-08-16T22:41:11.813Z"
   },
   {
    "duration": 4,
    "start_time": "2024-08-16T22:41:11.819Z"
   },
   {
    "duration": 3,
    "start_time": "2024-08-16T22:41:11.827Z"
   },
   {
    "duration": 3,
    "start_time": "2024-08-16T22:41:11.833Z"
   },
   {
    "duration": 3,
    "start_time": "2024-08-16T22:41:11.840Z"
   },
   {
    "duration": 3,
    "start_time": "2024-08-16T22:41:11.901Z"
   },
   {
    "duration": 4,
    "start_time": "2024-08-16T22:41:11.908Z"
   },
   {
    "duration": 3,
    "start_time": "2024-08-16T22:41:11.916Z"
   },
   {
    "duration": 4,
    "start_time": "2024-08-16T22:41:11.921Z"
   },
   {
    "duration": 4,
    "start_time": "2024-08-16T22:41:11.928Z"
   },
   {
    "duration": 31,
    "start_time": "2024-08-16T22:42:06.907Z"
   },
   {
    "duration": 30,
    "start_time": "2024-08-16T22:42:41.390Z"
   },
   {
    "duration": 19,
    "start_time": "2024-08-16T22:42:48.465Z"
   },
   {
    "duration": 32,
    "start_time": "2024-08-16T22:42:59.600Z"
   },
   {
    "duration": 21,
    "start_time": "2024-08-16T22:43:13.048Z"
   },
   {
    "duration": 13,
    "start_time": "2024-08-18T03:09:30.379Z"
   },
   {
    "duration": 3,
    "start_time": "2024-08-18T03:09:39.890Z"
   },
   {
    "duration": 3,
    "start_time": "2024-08-18T03:10:08.086Z"
   },
   {
    "duration": 405,
    "start_time": "2024-08-18T03:10:16.692Z"
   },
   {
    "duration": 344,
    "start_time": "2024-08-18T03:10:17.100Z"
   },
   {
    "duration": 15,
    "start_time": "2024-08-18T03:10:17.447Z"
   },
   {
    "duration": 19,
    "start_time": "2024-08-18T03:10:17.466Z"
   },
   {
    "duration": 3,
    "start_time": "2024-08-18T03:10:17.489Z"
   },
   {
    "duration": 4,
    "start_time": "2024-08-18T03:10:17.495Z"
   },
   {
    "duration": 44,
    "start_time": "2024-08-18T03:10:17.501Z"
   },
   {
    "duration": 15,
    "start_time": "2024-08-18T03:10:17.548Z"
   },
   {
    "duration": 18,
    "start_time": "2024-08-18T03:10:17.566Z"
   },
   {
    "duration": 5,
    "start_time": "2024-08-18T03:10:17.631Z"
   },
   {
    "duration": 4,
    "start_time": "2024-08-18T03:10:17.639Z"
   },
   {
    "duration": 4,
    "start_time": "2024-08-18T03:10:17.646Z"
   },
   {
    "duration": 4,
    "start_time": "2024-08-18T03:10:17.653Z"
   },
   {
    "duration": 4,
    "start_time": "2024-08-18T03:10:17.660Z"
   },
   {
    "duration": 4,
    "start_time": "2024-08-18T03:10:17.667Z"
   },
   {
    "duration": 4,
    "start_time": "2024-08-18T03:10:17.673Z"
   },
   {
    "duration": 4,
    "start_time": "2024-08-18T03:10:17.731Z"
   },
   {
    "duration": 4,
    "start_time": "2024-08-18T03:10:17.738Z"
   },
   {
    "duration": 4,
    "start_time": "2024-08-18T03:10:17.745Z"
   },
   {
    "duration": 3,
    "start_time": "2024-08-18T03:10:17.753Z"
   },
   {
    "duration": 4,
    "start_time": "2024-08-18T03:10:17.759Z"
   },
   {
    "duration": 3,
    "start_time": "2024-08-18T03:10:17.766Z"
   },
   {
    "duration": 59,
    "start_time": "2024-08-18T03:10:17.772Z"
   },
   {
    "duration": 4,
    "start_time": "2024-08-18T03:10:17.834Z"
   },
   {
    "duration": 4,
    "start_time": "2024-08-18T03:10:17.841Z"
   },
   {
    "duration": 5,
    "start_time": "2024-08-18T03:10:17.850Z"
   },
   {
    "duration": 4,
    "start_time": "2024-08-18T03:10:17.857Z"
   },
   {
    "duration": 3,
    "start_time": "2024-08-18T03:10:17.867Z"
   },
   {
    "duration": 4,
    "start_time": "2024-08-18T03:10:17.873Z"
   },
   {
    "duration": 52,
    "start_time": "2024-08-18T03:10:17.880Z"
   },
   {
    "duration": 3,
    "start_time": "2024-08-18T03:10:17.935Z"
   },
   {
    "duration": 3,
    "start_time": "2024-08-18T03:17:41.880Z"
   },
   {
    "duration": 24,
    "start_time": "2024-08-18T03:18:09.572Z"
   },
   {
    "duration": 14,
    "start_time": "2024-08-18T03:18:33.203Z"
   },
   {
    "duration": 37,
    "start_time": "2024-08-18T03:46:59.997Z"
   },
   {
    "duration": 34,
    "start_time": "2024-08-18T03:47:07.305Z"
   },
   {
    "duration": 36,
    "start_time": "2024-08-18T03:49:28.277Z"
   },
   {
    "duration": 43,
    "start_time": "2024-08-18T03:49:48.287Z"
   },
   {
    "duration": 42,
    "start_time": "2024-08-18T03:55:26.087Z"
   },
   {
    "duration": 44,
    "start_time": "2024-08-18T03:55:41.812Z"
   },
   {
    "duration": 41,
    "start_time": "2024-08-18T03:55:49.995Z"
   },
   {
    "duration": 441,
    "start_time": "2024-08-18T03:56:03.953Z"
   },
   {
    "duration": 293,
    "start_time": "2024-08-18T03:56:04.398Z"
   },
   {
    "duration": 15,
    "start_time": "2024-08-18T03:56:04.695Z"
   },
   {
    "duration": 22,
    "start_time": "2024-08-18T03:56:04.714Z"
   },
   {
    "duration": 4,
    "start_time": "2024-08-18T03:56:04.739Z"
   },
   {
    "duration": 3,
    "start_time": "2024-08-18T03:56:04.746Z"
   },
   {
    "duration": 16,
    "start_time": "2024-08-18T03:56:04.752Z"
   },
   {
    "duration": 15,
    "start_time": "2024-08-18T03:56:04.771Z"
   },
   {
    "duration": 18,
    "start_time": "2024-08-18T03:56:04.829Z"
   },
   {
    "duration": 3,
    "start_time": "2024-08-18T03:56:04.855Z"
   },
   {
    "duration": 24,
    "start_time": "2024-08-18T03:56:04.861Z"
   },
   {
    "duration": 48,
    "start_time": "2024-08-18T03:56:04.889Z"
   },
   {
    "duration": 55,
    "start_time": "2024-08-18T03:56:04.940Z"
   },
   {
    "duration": 3,
    "start_time": "2024-08-18T03:56:04.998Z"
   },
   {
    "duration": 4,
    "start_time": "2024-08-18T03:56:05.031Z"
   },
   {
    "duration": 4,
    "start_time": "2024-08-18T03:56:05.037Z"
   },
   {
    "duration": 4,
    "start_time": "2024-08-18T03:56:05.044Z"
   },
   {
    "duration": 4,
    "start_time": "2024-08-18T03:56:05.051Z"
   },
   {
    "duration": 3,
    "start_time": "2024-08-18T03:56:05.058Z"
   },
   {
    "duration": 4,
    "start_time": "2024-08-18T03:56:05.064Z"
   },
   {
    "duration": 3,
    "start_time": "2024-08-18T03:56:05.071Z"
   },
   {
    "duration": 4,
    "start_time": "2024-08-18T03:56:05.132Z"
   },
   {
    "duration": 9,
    "start_time": "2024-08-18T03:56:05.139Z"
   },
   {
    "duration": 5,
    "start_time": "2024-08-18T03:56:05.151Z"
   },
   {
    "duration": 4,
    "start_time": "2024-08-18T03:56:05.159Z"
   },
   {
    "duration": 6,
    "start_time": "2024-08-18T03:56:05.166Z"
   },
   {
    "duration": 4,
    "start_time": "2024-08-18T03:56:05.174Z"
   },
   {
    "duration": 3,
    "start_time": "2024-08-18T03:56:05.231Z"
   },
   {
    "duration": 4,
    "start_time": "2024-08-18T03:56:05.237Z"
   },
   {
    "duration": 4,
    "start_time": "2024-08-18T03:56:05.245Z"
   },
   {
    "duration": 4,
    "start_time": "2024-08-18T03:56:05.252Z"
   },
   {
    "duration": 5,
    "start_time": "2024-08-18T03:56:05.259Z"
   },
   {
    "duration": 3,
    "start_time": "2024-08-18T03:56:05.267Z"
   },
   {
    "duration": 43,
    "start_time": "2024-08-18T03:56:20.761Z"
   },
   {
    "duration": 42,
    "start_time": "2024-08-18T03:56:43.741Z"
   },
   {
    "duration": 44,
    "start_time": "2024-08-18T03:56:52.442Z"
   },
   {
    "duration": 148,
    "start_time": "2024-08-18T03:57:34.709Z"
   },
   {
    "duration": 33,
    "start_time": "2024-08-18T03:57:48.694Z"
   },
   {
    "duration": 49,
    "start_time": "2024-08-18T04:00:14.022Z"
   },
   {
    "duration": 459,
    "start_time": "2024-08-18T04:00:30.950Z"
   },
   {
    "duration": 271,
    "start_time": "2024-08-18T04:00:31.412Z"
   },
   {
    "duration": 15,
    "start_time": "2024-08-18T04:00:31.686Z"
   },
   {
    "duration": 31,
    "start_time": "2024-08-18T04:00:31.706Z"
   },
   {
    "duration": 4,
    "start_time": "2024-08-18T04:00:31.740Z"
   },
   {
    "duration": 4,
    "start_time": "2024-08-18T04:00:31.747Z"
   },
   {
    "duration": 25,
    "start_time": "2024-08-18T04:00:31.754Z"
   },
   {
    "duration": 55,
    "start_time": "2024-08-18T04:00:31.782Z"
   },
   {
    "duration": 22,
    "start_time": "2024-08-18T04:00:31.841Z"
   },
   {
    "duration": 3,
    "start_time": "2024-08-18T04:00:31.870Z"
   },
   {
    "duration": 61,
    "start_time": "2024-08-18T04:00:31.877Z"
   },
   {
    "duration": 13,
    "start_time": "2024-08-18T04:00:31.940Z"
   },
   {
    "duration": 83,
    "start_time": "2024-08-18T04:00:31.957Z"
   },
   {
    "duration": 7,
    "start_time": "2024-08-18T04:00:32.043Z"
   },
   {
    "duration": 6,
    "start_time": "2024-08-18T04:00:32.054Z"
   },
   {
    "duration": 4,
    "start_time": "2024-08-18T04:00:32.063Z"
   },
   {
    "duration": 3,
    "start_time": "2024-08-18T04:00:32.070Z"
   },
   {
    "duration": 3,
    "start_time": "2024-08-18T04:00:32.076Z"
   },
   {
    "duration": 49,
    "start_time": "2024-08-18T04:00:32.083Z"
   },
   {
    "duration": 4,
    "start_time": "2024-08-18T04:00:32.135Z"
   },
   {
    "duration": 3,
    "start_time": "2024-08-18T04:00:32.143Z"
   },
   {
    "duration": 3,
    "start_time": "2024-08-18T04:00:32.149Z"
   },
   {
    "duration": 3,
    "start_time": "2024-08-18T04:00:32.156Z"
   },
   {
    "duration": 3,
    "start_time": "2024-08-18T04:00:32.163Z"
   },
   {
    "duration": 4,
    "start_time": "2024-08-18T04:00:32.169Z"
   },
   {
    "duration": 4,
    "start_time": "2024-08-18T04:00:32.231Z"
   },
   {
    "duration": 3,
    "start_time": "2024-08-18T04:00:32.240Z"
   },
   {
    "duration": 3,
    "start_time": "2024-08-18T04:00:32.252Z"
   },
   {
    "duration": 4,
    "start_time": "2024-08-18T04:00:32.258Z"
   },
   {
    "duration": 3,
    "start_time": "2024-08-18T04:00:32.266Z"
   },
   {
    "duration": 4,
    "start_time": "2024-08-18T04:00:32.272Z"
   },
   {
    "duration": 4,
    "start_time": "2024-08-18T04:00:32.331Z"
   },
   {
    "duration": 5,
    "start_time": "2024-08-18T04:00:32.338Z"
   },
   {
    "duration": 44,
    "start_time": "2024-08-18T04:00:45.660Z"
   },
   {
    "duration": 43,
    "start_time": "2024-08-18T04:01:14.258Z"
   },
   {
    "duration": 4,
    "start_time": "2024-08-18T04:02:32.836Z"
   },
   {
    "duration": 18,
    "start_time": "2024-08-18T04:02:59.299Z"
   },
   {
    "duration": 10,
    "start_time": "2024-08-18T04:03:11.731Z"
   },
   {
    "duration": 30,
    "start_time": "2024-08-18T04:08:01.582Z"
   },
   {
    "duration": 3,
    "start_time": "2024-08-18T04:09:21.447Z"
   },
   {
    "duration": 21,
    "start_time": "2024-08-18T04:09:41.334Z"
   },
   {
    "duration": 12,
    "start_time": "2024-08-18T04:09:59.268Z"
   },
   {
    "duration": 4581,
    "start_time": "2024-08-18T04:21:15.388Z"
   },
   {
    "duration": 264,
    "start_time": "2024-08-18T04:21:19.973Z"
   },
   {
    "duration": 16,
    "start_time": "2024-08-18T04:21:20.240Z"
   },
   {
    "duration": 16,
    "start_time": "2024-08-18T04:21:20.261Z"
   },
   {
    "duration": 3,
    "start_time": "2024-08-18T04:21:20.281Z"
   },
   {
    "duration": 3,
    "start_time": "2024-08-18T04:21:20.288Z"
   },
   {
    "duration": 15,
    "start_time": "2024-08-18T04:21:20.330Z"
   },
   {
    "duration": 16,
    "start_time": "2024-08-18T04:21:20.348Z"
   },
   {
    "duration": 20,
    "start_time": "2024-08-18T04:21:20.367Z"
   },
   {
    "duration": 3,
    "start_time": "2024-08-18T04:21:20.430Z"
   },
   {
    "duration": 28,
    "start_time": "2024-08-18T04:21:20.436Z"
   },
   {
    "duration": 15,
    "start_time": "2024-08-18T04:21:20.467Z"
   },
   {
    "duration": 89,
    "start_time": "2024-08-18T04:21:20.486Z"
   },
   {
    "duration": 4,
    "start_time": "2024-08-18T04:21:20.578Z"
   },
   {
    "duration": 48,
    "start_time": "2024-08-18T04:21:20.585Z"
   },
   {
    "duration": 12,
    "start_time": "2024-08-18T04:21:20.635Z"
   },
   {
    "duration": 29,
    "start_time": "2024-08-18T04:21:20.651Z"
   },
   {
    "duration": 4,
    "start_time": "2024-08-18T04:21:20.683Z"
   },
   {
    "duration": 59,
    "start_time": "2024-08-18T04:21:20.690Z"
   },
   {
    "duration": 12,
    "start_time": "2024-08-18T04:21:20.752Z"
   },
   {
    "duration": 4,
    "start_time": "2024-08-18T04:21:20.767Z"
   },
   {
    "duration": 4,
    "start_time": "2024-08-18T04:21:20.773Z"
   },
   {
    "duration": 4,
    "start_time": "2024-08-18T04:21:20.780Z"
   },
   {
    "duration": 47,
    "start_time": "2024-08-18T04:21:20.786Z"
   },
   {
    "duration": 4,
    "start_time": "2024-08-18T04:21:20.835Z"
   },
   {
    "duration": 4,
    "start_time": "2024-08-18T04:21:20.843Z"
   },
   {
    "duration": 3,
    "start_time": "2024-08-18T04:21:20.850Z"
   },
   {
    "duration": 3,
    "start_time": "2024-08-18T04:21:20.862Z"
   },
   {
    "duration": 4,
    "start_time": "2024-08-18T04:21:20.868Z"
   },
   {
    "duration": 57,
    "start_time": "2024-08-18T04:21:20.875Z"
   },
   {
    "duration": 3,
    "start_time": "2024-08-18T04:21:20.935Z"
   },
   {
    "duration": 8,
    "start_time": "2024-08-18T04:21:20.942Z"
   },
   {
    "duration": 3,
    "start_time": "2024-08-18T04:21:20.953Z"
   },
   {
    "duration": 4,
    "start_time": "2024-08-18T04:21:20.959Z"
   },
   {
    "duration": 3,
    "start_time": "2024-08-18T04:21:20.967Z"
   },
   {
    "duration": 3,
    "start_time": "2024-08-18T04:21:20.974Z"
   },
   {
    "duration": 440,
    "start_time": "2024-08-18T04:32:28.216Z"
   },
   {
    "duration": 740,
    "start_time": "2024-08-18T04:34:01.427Z"
   },
   {
    "duration": 322,
    "start_time": "2024-08-18T04:34:02.170Z"
   },
   {
    "duration": 15,
    "start_time": "2024-08-18T04:34:02.495Z"
   },
   {
    "duration": 17,
    "start_time": "2024-08-18T04:34:02.530Z"
   },
   {
    "duration": 3,
    "start_time": "2024-08-18T04:34:02.550Z"
   },
   {
    "duration": 3,
    "start_time": "2024-08-18T04:34:02.557Z"
   },
   {
    "duration": 15,
    "start_time": "2024-08-18T04:34:02.563Z"
   },
   {
    "duration": 52,
    "start_time": "2024-08-18T04:34:02.581Z"
   },
   {
    "duration": 20,
    "start_time": "2024-08-18T04:34:02.637Z"
   },
   {
    "duration": 3,
    "start_time": "2024-08-18T04:34:02.663Z"
   },
   {
    "duration": 69,
    "start_time": "2024-08-18T04:34:02.669Z"
   },
   {
    "duration": 15,
    "start_time": "2024-08-18T04:34:02.745Z"
   },
   {
    "duration": 413,
    "start_time": "2024-08-18T04:34:02.764Z"
   },
   {
    "duration": 0,
    "start_time": "2024-08-18T04:34:03.180Z"
   },
   {
    "duration": 0,
    "start_time": "2024-08-18T04:34:03.182Z"
   },
   {
    "duration": 0,
    "start_time": "2024-08-18T04:34:03.183Z"
   },
   {
    "duration": 0,
    "start_time": "2024-08-18T04:34:03.186Z"
   },
   {
    "duration": 0,
    "start_time": "2024-08-18T04:34:03.187Z"
   },
   {
    "duration": 0,
    "start_time": "2024-08-18T04:34:03.189Z"
   },
   {
    "duration": 0,
    "start_time": "2024-08-18T04:34:03.191Z"
   },
   {
    "duration": 0,
    "start_time": "2024-08-18T04:34:03.192Z"
   },
   {
    "duration": 0,
    "start_time": "2024-08-18T04:34:03.194Z"
   },
   {
    "duration": 0,
    "start_time": "2024-08-18T04:34:03.197Z"
   },
   {
    "duration": 0,
    "start_time": "2024-08-18T04:34:03.199Z"
   },
   {
    "duration": 0,
    "start_time": "2024-08-18T04:34:03.201Z"
   },
   {
    "duration": 0,
    "start_time": "2024-08-18T04:34:03.232Z"
   },
   {
    "duration": 0,
    "start_time": "2024-08-18T04:34:03.234Z"
   },
   {
    "duration": 0,
    "start_time": "2024-08-18T04:34:03.236Z"
   },
   {
    "duration": 0,
    "start_time": "2024-08-18T04:34:03.238Z"
   },
   {
    "duration": 1,
    "start_time": "2024-08-18T04:34:03.240Z"
   },
   {
    "duration": 0,
    "start_time": "2024-08-18T04:34:03.243Z"
   },
   {
    "duration": 0,
    "start_time": "2024-08-18T04:34:03.246Z"
   },
   {
    "duration": 0,
    "start_time": "2024-08-18T04:34:03.248Z"
   },
   {
    "duration": 0,
    "start_time": "2024-08-18T04:34:03.250Z"
   },
   {
    "duration": 0,
    "start_time": "2024-08-18T04:34:03.253Z"
   },
   {
    "duration": 0,
    "start_time": "2024-08-18T04:34:03.255Z"
   },
   {
    "duration": 59,
    "start_time": "2024-08-18T04:34:19.227Z"
   },
   {
    "duration": 29,
    "start_time": "2024-08-18T04:35:01.168Z"
   },
   {
    "duration": 694,
    "start_time": "2024-08-18T04:35:15.536Z"
   },
   {
    "duration": 319,
    "start_time": "2024-08-18T04:35:16.234Z"
   },
   {
    "duration": 15,
    "start_time": "2024-08-18T04:35:16.558Z"
   },
   {
    "duration": 17,
    "start_time": "2024-08-18T04:35:16.577Z"
   },
   {
    "duration": 3,
    "start_time": "2024-08-18T04:35:16.597Z"
   },
   {
    "duration": 29,
    "start_time": "2024-08-18T04:35:16.603Z"
   },
   {
    "duration": 14,
    "start_time": "2024-08-18T04:35:16.635Z"
   },
   {
    "duration": 16,
    "start_time": "2024-08-18T04:35:16.652Z"
   },
   {
    "duration": 21,
    "start_time": "2024-08-18T04:35:16.671Z"
   },
   {
    "duration": 3,
    "start_time": "2024-08-18T04:35:16.735Z"
   },
   {
    "duration": 25,
    "start_time": "2024-08-18T04:35:16.741Z"
   },
   {
    "duration": 12,
    "start_time": "2024-08-18T04:35:16.769Z"
   },
   {
    "duration": 110,
    "start_time": "2024-08-18T04:35:16.785Z"
   },
   {
    "duration": 5,
    "start_time": "2024-08-18T04:35:16.898Z"
   },
   {
    "duration": 39,
    "start_time": "2024-08-18T04:35:16.907Z"
   },
   {
    "duration": 11,
    "start_time": "2024-08-18T04:35:16.949Z"
   },
   {
    "duration": 30,
    "start_time": "2024-08-18T04:35:16.963Z"
   },
   {
    "duration": 4,
    "start_time": "2024-08-18T04:35:16.995Z"
   },
   {
    "duration": 52,
    "start_time": "2024-08-18T04:35:17.001Z"
   },
   {
    "duration": 12,
    "start_time": "2024-08-18T04:35:17.055Z"
   },
   {
    "duration": 3,
    "start_time": "2024-08-18T04:35:17.071Z"
   },
   {
    "duration": 5,
    "start_time": "2024-08-18T04:35:17.077Z"
   },
   {
    "duration": 48,
    "start_time": "2024-08-18T04:35:17.085Z"
   },
   {
    "duration": 3,
    "start_time": "2024-08-18T04:35:17.136Z"
   },
   {
    "duration": 3,
    "start_time": "2024-08-18T04:35:17.143Z"
   },
   {
    "duration": 3,
    "start_time": "2024-08-18T04:35:17.150Z"
   },
   {
    "duration": 4,
    "start_time": "2024-08-18T04:35:17.156Z"
   },
   {
    "duration": 3,
    "start_time": "2024-08-18T04:35:17.167Z"
   },
   {
    "duration": 3,
    "start_time": "2024-08-18T04:35:17.173Z"
   },
   {
    "duration": 55,
    "start_time": "2024-08-18T04:35:17.178Z"
   },
   {
    "duration": 4,
    "start_time": "2024-08-18T04:35:17.235Z"
   },
   {
    "duration": 4,
    "start_time": "2024-08-18T04:35:17.242Z"
   },
   {
    "duration": 3,
    "start_time": "2024-08-18T04:35:17.249Z"
   },
   {
    "duration": 4,
    "start_time": "2024-08-18T04:35:17.255Z"
   },
   {
    "duration": 3,
    "start_time": "2024-08-18T04:35:17.262Z"
   },
   {
    "duration": 61,
    "start_time": "2024-08-18T04:35:17.269Z"
   },
   {
    "duration": 345,
    "start_time": "2024-08-18T04:42:34.157Z"
   },
   {
    "duration": 37,
    "start_time": "2024-08-18T04:42:41.466Z"
   },
   {
    "duration": 46,
    "start_time": "2024-08-18T04:43:05.412Z"
   },
   {
    "duration": 658,
    "start_time": "2024-08-18T04:49:32.186Z"
   },
   {
    "duration": 324,
    "start_time": "2024-08-18T04:49:32.847Z"
   },
   {
    "duration": 15,
    "start_time": "2024-08-18T04:49:33.175Z"
   },
   {
    "duration": 17,
    "start_time": "2024-08-18T04:49:33.194Z"
   },
   {
    "duration": 3,
    "start_time": "2024-08-18T04:49:33.232Z"
   },
   {
    "duration": 6,
    "start_time": "2024-08-18T04:49:33.238Z"
   },
   {
    "duration": 15,
    "start_time": "2024-08-18T04:49:33.247Z"
   },
   {
    "duration": 14,
    "start_time": "2024-08-18T04:49:33.267Z"
   },
   {
    "duration": 59,
    "start_time": "2024-08-18T04:49:33.284Z"
   },
   {
    "duration": 4,
    "start_time": "2024-08-18T04:49:33.349Z"
   },
   {
    "duration": 25,
    "start_time": "2024-08-18T04:49:33.356Z"
   },
   {
    "duration": 12,
    "start_time": "2024-08-18T04:49:33.383Z"
   },
   {
    "duration": 76,
    "start_time": "2024-08-18T04:49:33.432Z"
   },
   {
    "duration": 23,
    "start_time": "2024-08-18T04:49:33.511Z"
   },
   {
    "duration": 20,
    "start_time": "2024-08-18T04:49:33.537Z"
   },
   {
    "duration": 10,
    "start_time": "2024-08-18T04:49:33.560Z"
   },
   {
    "duration": 88,
    "start_time": "2024-08-18T04:49:33.574Z"
   },
   {
    "duration": 4,
    "start_time": "2024-08-18T04:49:33.666Z"
   },
   {
    "duration": 23,
    "start_time": "2024-08-18T04:49:33.673Z"
   },
   {
    "duration": 41,
    "start_time": "2024-08-18T04:49:33.699Z"
   },
   {
    "duration": 7,
    "start_time": "2024-08-18T04:49:33.742Z"
   },
   {
    "duration": 0,
    "start_time": "2024-08-18T04:49:33.753Z"
   },
   {
    "duration": 0,
    "start_time": "2024-08-18T04:49:33.755Z"
   },
   {
    "duration": 0,
    "start_time": "2024-08-18T04:49:33.757Z"
   },
   {
    "duration": 0,
    "start_time": "2024-08-18T04:49:33.760Z"
   },
   {
    "duration": 0,
    "start_time": "2024-08-18T04:49:33.762Z"
   },
   {
    "duration": 0,
    "start_time": "2024-08-18T04:49:33.765Z"
   },
   {
    "duration": 0,
    "start_time": "2024-08-18T04:49:33.767Z"
   },
   {
    "duration": 0,
    "start_time": "2024-08-18T04:49:33.769Z"
   },
   {
    "duration": 0,
    "start_time": "2024-08-18T04:49:33.772Z"
   },
   {
    "duration": 0,
    "start_time": "2024-08-18T04:49:33.774Z"
   },
   {
    "duration": 0,
    "start_time": "2024-08-18T04:49:33.777Z"
   },
   {
    "duration": 0,
    "start_time": "2024-08-18T04:49:33.831Z"
   },
   {
    "duration": 0,
    "start_time": "2024-08-18T04:49:33.832Z"
   },
   {
    "duration": 0,
    "start_time": "2024-08-18T04:49:33.834Z"
   },
   {
    "duration": 0,
    "start_time": "2024-08-18T04:49:33.836Z"
   },
   {
    "duration": 0,
    "start_time": "2024-08-18T04:49:33.837Z"
   },
   {
    "duration": 0,
    "start_time": "2024-08-18T04:49:33.839Z"
   },
   {
    "duration": 32,
    "start_time": "2024-08-18T04:50:07.543Z"
   },
   {
    "duration": 6,
    "start_time": "2024-08-18T04:50:12.606Z"
   },
   {
    "duration": 30,
    "start_time": "2024-08-18T04:50:39.616Z"
   },
   {
    "duration": 698,
    "start_time": "2024-08-18T04:54:21.864Z"
   },
   {
    "duration": 324,
    "start_time": "2024-08-18T04:54:22.565Z"
   },
   {
    "duration": 16,
    "start_time": "2024-08-18T04:54:22.892Z"
   },
   {
    "duration": 26,
    "start_time": "2024-08-18T04:54:22.914Z"
   },
   {
    "duration": 4,
    "start_time": "2024-08-18T04:54:22.942Z"
   },
   {
    "duration": 4,
    "start_time": "2024-08-18T04:54:22.949Z"
   },
   {
    "duration": 16,
    "start_time": "2024-08-18T04:54:22.956Z"
   },
   {
    "duration": 61,
    "start_time": "2024-08-18T04:54:22.974Z"
   },
   {
    "duration": 19,
    "start_time": "2024-08-18T04:54:23.038Z"
   },
   {
    "duration": 16,
    "start_time": "2024-08-18T04:54:23.063Z"
   },
   {
    "duration": 61,
    "start_time": "2024-08-18T04:54:23.082Z"
   },
   {
    "duration": 14,
    "start_time": "2024-08-18T04:54:23.146Z"
   },
   {
    "duration": 93,
    "start_time": "2024-08-18T04:54:23.163Z"
   },
   {
    "duration": 5,
    "start_time": "2024-08-18T04:54:23.259Z"
   },
   {
    "duration": 19,
    "start_time": "2024-08-18T04:54:23.267Z"
   },
   {
    "duration": 43,
    "start_time": "2024-08-18T04:54:23.289Z"
   },
   {
    "duration": 44,
    "start_time": "2024-08-18T04:54:23.335Z"
   },
   {
    "duration": 3,
    "start_time": "2024-08-18T04:54:23.382Z"
   },
   {
    "duration": 54,
    "start_time": "2024-08-18T04:54:23.388Z"
   },
   {
    "duration": 12,
    "start_time": "2024-08-18T04:54:23.445Z"
   },
   {
    "duration": 34,
    "start_time": "2024-08-18T04:54:23.459Z"
   },
   {
    "duration": 60,
    "start_time": "2024-08-18T04:54:23.496Z"
   },
   {
    "duration": 3,
    "start_time": "2024-08-18T04:54:23.559Z"
   },
   {
    "duration": 3,
    "start_time": "2024-08-18T04:54:23.566Z"
   },
   {
    "duration": 4,
    "start_time": "2024-08-18T04:54:23.572Z"
   },
   {
    "duration": 4,
    "start_time": "2024-08-18T04:54:23.579Z"
   },
   {
    "duration": 3,
    "start_time": "2024-08-18T04:54:23.631Z"
   },
   {
    "duration": 3,
    "start_time": "2024-08-18T04:54:23.644Z"
   },
   {
    "duration": 4,
    "start_time": "2024-08-18T04:54:23.650Z"
   },
   {
    "duration": 4,
    "start_time": "2024-08-18T04:54:23.656Z"
   },
   {
    "duration": 3,
    "start_time": "2024-08-18T04:54:23.663Z"
   },
   {
    "duration": 4,
    "start_time": "2024-08-18T04:54:23.669Z"
   },
   {
    "duration": 54,
    "start_time": "2024-08-18T04:54:23.676Z"
   },
   {
    "duration": 3,
    "start_time": "2024-08-18T04:54:23.734Z"
   },
   {
    "duration": 3,
    "start_time": "2024-08-18T04:54:23.741Z"
   },
   {
    "duration": 3,
    "start_time": "2024-08-18T04:54:23.748Z"
   },
   {
    "duration": 8,
    "start_time": "2024-08-18T04:54:23.754Z"
   },
   {
    "duration": 3,
    "start_time": "2024-08-18T04:54:23.765Z"
   },
   {
    "duration": 22,
    "start_time": "2024-08-18T05:24:39.550Z"
   },
   {
    "duration": 671,
    "start_time": "2024-08-18T05:26:42.477Z"
   },
   {
    "duration": 309,
    "start_time": "2024-08-18T05:26:43.152Z"
   },
   {
    "duration": 15,
    "start_time": "2024-08-18T05:26:43.466Z"
   },
   {
    "duration": 16,
    "start_time": "2024-08-18T05:26:43.485Z"
   },
   {
    "duration": 3,
    "start_time": "2024-08-18T05:26:43.504Z"
   },
   {
    "duration": 4,
    "start_time": "2024-08-18T05:26:43.532Z"
   },
   {
    "duration": 16,
    "start_time": "2024-08-18T05:26:43.539Z"
   },
   {
    "duration": 15,
    "start_time": "2024-08-18T05:26:43.558Z"
   },
   {
    "duration": 58,
    "start_time": "2024-08-18T05:26:43.576Z"
   },
   {
    "duration": 15,
    "start_time": "2024-08-18T05:26:43.641Z"
   },
   {
    "duration": 27,
    "start_time": "2024-08-18T05:26:43.660Z"
   },
   {
    "duration": 44,
    "start_time": "2024-08-18T05:26:43.690Z"
   },
   {
    "duration": 70,
    "start_time": "2024-08-18T05:26:43.738Z"
   },
   {
    "duration": 5,
    "start_time": "2024-08-18T05:26:43.831Z"
   },
   {
    "duration": 20,
    "start_time": "2024-08-18T05:26:43.839Z"
   },
   {
    "duration": 13,
    "start_time": "2024-08-18T05:26:43.863Z"
   },
   {
    "duration": 84,
    "start_time": "2024-08-18T05:26:43.879Z"
   },
   {
    "duration": 3,
    "start_time": "2024-08-18T05:26:43.966Z"
   },
   {
    "duration": 22,
    "start_time": "2024-08-18T05:26:43.972Z"
   },
   {
    "duration": 40,
    "start_time": "2024-08-18T05:26:43.997Z"
   },
   {
    "duration": 33,
    "start_time": "2024-08-18T05:26:44.040Z"
   },
   {
    "duration": 56,
    "start_time": "2024-08-18T05:26:44.076Z"
   },
   {
    "duration": 22,
    "start_time": "2024-08-18T05:26:44.135Z"
   },
   {
    "duration": 4,
    "start_time": "2024-08-18T05:26:44.159Z"
   },
   {
    "duration": 3,
    "start_time": "2024-08-18T05:26:44.167Z"
   },
   {
    "duration": 3,
    "start_time": "2024-08-18T05:26:44.174Z"
   },
   {
    "duration": 51,
    "start_time": "2024-08-18T05:26:44.180Z"
   },
   {
    "duration": 3,
    "start_time": "2024-08-18T05:26:44.238Z"
   },
   {
    "duration": 3,
    "start_time": "2024-08-18T05:26:44.245Z"
   },
   {
    "duration": 3,
    "start_time": "2024-08-18T05:26:44.252Z"
   },
   {
    "duration": 3,
    "start_time": "2024-08-18T05:26:44.258Z"
   },
   {
    "duration": 3,
    "start_time": "2024-08-18T05:26:44.265Z"
   },
   {
    "duration": 4,
    "start_time": "2024-08-18T05:26:44.271Z"
   },
   {
    "duration": 3,
    "start_time": "2024-08-18T05:26:44.330Z"
   },
   {
    "duration": 3,
    "start_time": "2024-08-18T05:26:44.336Z"
   },
   {
    "duration": 4,
    "start_time": "2024-08-18T05:26:44.342Z"
   },
   {
    "duration": 3,
    "start_time": "2024-08-18T05:26:44.349Z"
   },
   {
    "duration": 4,
    "start_time": "2024-08-18T05:26:44.355Z"
   },
   {
    "duration": 309,
    "start_time": "2024-08-18T07:00:57.572Z"
   },
   {
    "duration": 4279,
    "start_time": "2024-08-18T07:01:04.645Z"
   },
   {
    "duration": 357,
    "start_time": "2024-08-18T07:01:08.929Z"
   },
   {
    "duration": 16,
    "start_time": "2024-08-18T07:01:09.289Z"
   },
   {
    "duration": 18,
    "start_time": "2024-08-18T07:01:09.309Z"
   },
   {
    "duration": 3,
    "start_time": "2024-08-18T07:01:09.333Z"
   },
   {
    "duration": 4,
    "start_time": "2024-08-18T07:01:09.340Z"
   },
   {
    "duration": 58,
    "start_time": "2024-08-18T07:01:09.348Z"
   },
   {
    "duration": 15,
    "start_time": "2024-08-18T07:01:09.409Z"
   },
   {
    "duration": 20,
    "start_time": "2024-08-18T07:01:09.428Z"
   },
   {
    "duration": 54,
    "start_time": "2024-08-18T07:01:09.451Z"
   },
   {
    "duration": 27,
    "start_time": "2024-08-18T07:01:09.509Z"
   },
   {
    "duration": 12,
    "start_time": "2024-08-18T07:01:09.539Z"
   },
   {
    "duration": 102,
    "start_time": "2024-08-18T07:01:09.554Z"
   },
   {
    "duration": 5,
    "start_time": "2024-08-18T07:01:09.662Z"
   },
   {
    "duration": 42,
    "start_time": "2024-08-18T07:01:09.671Z"
   },
   {
    "duration": 11,
    "start_time": "2024-08-18T07:01:09.716Z"
   },
   {
    "duration": 76,
    "start_time": "2024-08-18T07:01:09.730Z"
   },
   {
    "duration": 4,
    "start_time": "2024-08-18T07:01:09.809Z"
   },
   {
    "duration": 23,
    "start_time": "2024-08-18T07:01:09.816Z"
   },
   {
    "duration": 12,
    "start_time": "2024-08-18T07:01:09.842Z"
   },
   {
    "duration": 68,
    "start_time": "2024-08-18T07:01:09.857Z"
   },
   {
    "duration": 35,
    "start_time": "2024-08-18T07:01:09.929Z"
   },
   {
    "duration": 48,
    "start_time": "2024-08-18T07:01:09.967Z"
   },
   {
    "duration": 50,
    "start_time": "2024-08-18T07:01:10.018Z"
   },
   {
    "duration": 3,
    "start_time": "2024-08-18T07:01:10.071Z"
   },
   {
    "duration": 30,
    "start_time": "2024-08-18T07:01:10.077Z"
   },
   {
    "duration": 3,
    "start_time": "2024-08-18T07:01:10.110Z"
   },
   {
    "duration": 4,
    "start_time": "2024-08-18T07:01:10.116Z"
   },
   {
    "duration": 4,
    "start_time": "2024-08-18T07:01:10.122Z"
   },
   {
    "duration": 3,
    "start_time": "2024-08-18T07:01:10.130Z"
   },
   {
    "duration": 3,
    "start_time": "2024-08-18T07:01:10.137Z"
   },
   {
    "duration": 4,
    "start_time": "2024-08-18T07:01:10.142Z"
   },
   {
    "duration": 59,
    "start_time": "2024-08-18T07:01:10.149Z"
   },
   {
    "duration": 6,
    "start_time": "2024-08-18T07:01:10.211Z"
   },
   {
    "duration": 4,
    "start_time": "2024-08-18T07:01:10.220Z"
   },
   {
    "duration": 4,
    "start_time": "2024-08-18T07:01:10.227Z"
   },
   {
    "duration": 3,
    "start_time": "2024-08-18T07:01:10.234Z"
   },
   {
    "duration": 4,
    "start_time": "2024-08-18T07:01:10.240Z"
   },
   {
    "duration": 58,
    "start_time": "2024-08-18T07:01:31.540Z"
   },
   {
    "duration": 395,
    "start_time": "2024-08-18T07:04:52.863Z"
   },
   {
    "duration": 19,
    "start_time": "2024-08-18T07:05:12.745Z"
   },
   {
    "duration": 16,
    "start_time": "2024-08-18T07:05:51.496Z"
   },
   {
    "duration": 500,
    "start_time": "2024-08-18T07:10:37.657Z"
   },
   {
    "duration": 35,
    "start_time": "2024-08-18T07:11:11.126Z"
   },
   {
    "duration": 34,
    "start_time": "2024-08-18T07:14:13.029Z"
   },
   {
    "duration": 32,
    "start_time": "2024-08-18T07:14:47.028Z"
   },
   {
    "duration": 35,
    "start_time": "2024-08-18T07:16:47.840Z"
   },
   {
    "duration": 25,
    "start_time": "2024-08-18T07:21:58.297Z"
   },
   {
    "duration": 32,
    "start_time": "2024-08-18T07:29:51.006Z"
   },
   {
    "duration": 32,
    "start_time": "2024-08-18T07:35:50.348Z"
   },
   {
    "duration": 33,
    "start_time": "2024-08-18T07:39:50.521Z"
   },
   {
    "duration": 31,
    "start_time": "2024-08-18T07:40:11.447Z"
   },
   {
    "duration": 36,
    "start_time": "2024-08-18T07:41:51.924Z"
   },
   {
    "duration": 44,
    "start_time": "2024-08-18T07:42:00.992Z"
   },
   {
    "duration": 10,
    "start_time": "2024-08-18T07:43:25.827Z"
   },
   {
    "duration": 47,
    "start_time": "2024-08-18T07:43:41.455Z"
   },
   {
    "duration": 47,
    "start_time": "2024-08-18T07:51:47.966Z"
   },
   {
    "duration": 681,
    "start_time": "2024-08-18T07:51:58.676Z"
   },
   {
    "duration": 323,
    "start_time": "2024-08-18T07:51:59.361Z"
   },
   {
    "duration": 21,
    "start_time": "2024-08-18T07:51:59.687Z"
   },
   {
    "duration": 16,
    "start_time": "2024-08-18T07:51:59.712Z"
   },
   {
    "duration": 3,
    "start_time": "2024-08-18T07:51:59.734Z"
   },
   {
    "duration": 5,
    "start_time": "2024-08-18T07:51:59.740Z"
   },
   {
    "duration": 14,
    "start_time": "2024-08-18T07:51:59.749Z"
   },
   {
    "duration": 51,
    "start_time": "2024-08-18T07:51:59.766Z"
   },
   {
    "duration": 21,
    "start_time": "2024-08-18T07:51:59.821Z"
   },
   {
    "duration": 17,
    "start_time": "2024-08-18T07:51:59.847Z"
   },
   {
    "duration": 63,
    "start_time": "2024-08-18T07:51:59.866Z"
   },
   {
    "duration": 12,
    "start_time": "2024-08-18T07:51:59.932Z"
   },
   {
    "duration": 101,
    "start_time": "2024-08-18T07:51:59.947Z"
   },
   {
    "duration": 6,
    "start_time": "2024-08-18T07:52:00.051Z"
   },
   {
    "duration": 19,
    "start_time": "2024-08-18T07:52:00.060Z"
   },
   {
    "duration": 12,
    "start_time": "2024-08-18T07:52:00.105Z"
   },
   {
    "duration": 46,
    "start_time": "2024-08-18T07:52:00.120Z"
   },
   {
    "duration": 36,
    "start_time": "2024-08-18T07:52:00.169Z"
   },
   {
    "duration": 23,
    "start_time": "2024-08-18T07:52:00.209Z"
   },
   {
    "duration": 14,
    "start_time": "2024-08-18T07:52:00.235Z"
   },
   {
    "duration": 67,
    "start_time": "2024-08-18T07:52:00.252Z"
   },
   {
    "duration": 30,
    "start_time": "2024-08-18T07:52:00.322Z"
   },
   {
    "duration": 52,
    "start_time": "2024-08-18T07:52:00.354Z"
   },
   {
    "duration": 66,
    "start_time": "2024-08-18T07:52:00.410Z"
   },
   {
    "duration": 41,
    "start_time": "2024-08-18T07:52:00.479Z"
   },
   {
    "duration": 39,
    "start_time": "2024-08-18T07:52:00.523Z"
   },
   {
    "duration": 64,
    "start_time": "2024-08-18T07:52:00.565Z"
   },
   {
    "duration": 33,
    "start_time": "2024-08-18T07:52:00.637Z"
   },
   {
    "duration": 69,
    "start_time": "2024-08-18T07:52:00.673Z"
   },
   {
    "duration": 3,
    "start_time": "2024-08-18T07:52:00.746Z"
   },
   {
    "duration": 3,
    "start_time": "2024-08-18T07:52:00.752Z"
   },
   {
    "duration": 3,
    "start_time": "2024-08-18T07:52:00.759Z"
   },
   {
    "duration": 3,
    "start_time": "2024-08-18T07:52:00.766Z"
   },
   {
    "duration": 4,
    "start_time": "2024-08-18T07:52:00.807Z"
   },
   {
    "duration": 3,
    "start_time": "2024-08-18T07:52:00.814Z"
   },
   {
    "duration": 4,
    "start_time": "2024-08-18T07:52:00.820Z"
   },
   {
    "duration": 4,
    "start_time": "2024-08-18T07:52:00.827Z"
   },
   {
    "duration": 4,
    "start_time": "2024-08-18T07:52:00.833Z"
   },
   {
    "duration": 688,
    "start_time": "2024-08-18T08:48:40.520Z"
   },
   {
    "duration": 325,
    "start_time": "2024-08-18T08:48:41.211Z"
   },
   {
    "duration": 15,
    "start_time": "2024-08-18T08:48:41.539Z"
   },
   {
    "duration": 16,
    "start_time": "2024-08-18T08:48:41.559Z"
   },
   {
    "duration": 4,
    "start_time": "2024-08-18T08:48:41.578Z"
   },
   {
    "duration": 5,
    "start_time": "2024-08-18T08:48:41.611Z"
   },
   {
    "duration": 15,
    "start_time": "2024-08-18T08:48:41.619Z"
   },
   {
    "duration": 15,
    "start_time": "2024-08-18T08:48:41.638Z"
   },
   {
    "duration": 55,
    "start_time": "2024-08-18T08:48:41.657Z"
   },
   {
    "duration": 16,
    "start_time": "2024-08-18T08:48:41.721Z"
   },
   {
    "duration": 24,
    "start_time": "2024-08-18T08:48:41.741Z"
   },
   {
    "duration": 48,
    "start_time": "2024-08-18T08:48:41.768Z"
   },
   {
    "duration": 87,
    "start_time": "2024-08-18T08:48:41.819Z"
   },
   {
    "duration": 5,
    "start_time": "2024-08-18T08:48:41.909Z"
   },
   {
    "duration": 19,
    "start_time": "2024-08-18T08:48:41.918Z"
   },
   {
    "duration": 11,
    "start_time": "2024-08-18T08:48:41.940Z"
   },
   {
    "duration": 86,
    "start_time": "2024-08-18T08:48:41.954Z"
   },
   {
    "duration": 4,
    "start_time": "2024-08-18T08:48:42.044Z"
   },
   {
    "duration": 22,
    "start_time": "2024-08-18T08:48:42.052Z"
   },
   {
    "duration": 13,
    "start_time": "2024-08-18T08:48:42.107Z"
   },
   {
    "duration": 33,
    "start_time": "2024-08-18T08:48:42.123Z"
   },
   {
    "duration": 58,
    "start_time": "2024-08-18T08:48:42.159Z"
   },
   {
    "duration": 29,
    "start_time": "2024-08-18T08:48:42.219Z"
   },
   {
    "duration": 93,
    "start_time": "2024-08-18T08:48:42.251Z"
   },
   {
    "duration": 17,
    "start_time": "2024-08-18T08:48:42.347Z"
   },
   {
    "duration": 57,
    "start_time": "2024-08-18T08:48:42.368Z"
   },
   {
    "duration": 40,
    "start_time": "2024-08-18T08:48:42.428Z"
   },
   {
    "duration": 61,
    "start_time": "2024-08-18T08:48:42.475Z"
   },
   {
    "duration": 47,
    "start_time": "2024-08-18T08:48:42.539Z"
   },
   {
    "duration": 6,
    "start_time": "2024-08-18T08:48:42.606Z"
   },
   {
    "duration": 1621,
    "start_time": "2024-08-18T08:48:42.615Z"
   },
   {
    "duration": 0,
    "start_time": "2024-08-18T08:48:44.239Z"
   },
   {
    "duration": 0,
    "start_time": "2024-08-18T08:48:44.241Z"
   },
   {
    "duration": 0,
    "start_time": "2024-08-18T08:48:44.242Z"
   },
   {
    "duration": 0,
    "start_time": "2024-08-18T08:48:44.244Z"
   },
   {
    "duration": 0,
    "start_time": "2024-08-18T08:48:44.245Z"
   },
   {
    "duration": 0,
    "start_time": "2024-08-18T08:48:44.248Z"
   },
   {
    "duration": 0,
    "start_time": "2024-08-18T08:48:44.250Z"
   },
   {
    "duration": 0,
    "start_time": "2024-08-18T08:48:44.252Z"
   },
   {
    "duration": 7,
    "start_time": "2024-08-18T08:51:01.246Z"
   },
   {
    "duration": 155,
    "start_time": "2024-08-18T08:51:04.214Z"
   },
   {
    "duration": 7,
    "start_time": "2024-08-18T08:51:34.742Z"
   },
   {
    "duration": 144,
    "start_time": "2024-08-18T08:51:37.115Z"
   },
   {
    "duration": 36,
    "start_time": "2024-08-18T08:51:52.735Z"
   },
   {
    "duration": 308,
    "start_time": "2024-08-18T09:11:04.012Z"
   },
   {
    "duration": 242,
    "start_time": "2024-08-18T09:24:22.773Z"
   },
   {
    "duration": 240,
    "start_time": "2024-08-18T09:25:05.331Z"
   },
   {
    "duration": 7,
    "start_time": "2024-08-18T09:42:38.495Z"
   },
   {
    "duration": 6,
    "start_time": "2024-08-18T09:43:41.645Z"
   },
   {
    "duration": 7,
    "start_time": "2024-08-18T09:43:50.040Z"
   },
   {
    "duration": 6,
    "start_time": "2024-08-18T09:44:11.166Z"
   },
   {
    "duration": 5,
    "start_time": "2024-08-18T09:44:37.359Z"
   },
   {
    "duration": 7,
    "start_time": "2024-08-18T09:45:01.029Z"
   },
   {
    "duration": 7,
    "start_time": "2024-08-18T09:45:22.549Z"
   },
   {
    "duration": 5,
    "start_time": "2024-08-18T09:45:54.958Z"
   },
   {
    "duration": 6,
    "start_time": "2024-08-18T09:47:20.846Z"
   },
   {
    "duration": 5,
    "start_time": "2024-08-18T09:47:34.628Z"
   },
   {
    "duration": 7,
    "start_time": "2024-08-18T09:47:48.857Z"
   },
   {
    "duration": 9,
    "start_time": "2024-08-18T09:48:31.138Z"
   },
   {
    "duration": 5,
    "start_time": "2024-08-18T09:49:04.696Z"
   },
   {
    "duration": 151,
    "start_time": "2024-08-18T09:50:16.446Z"
   },
   {
    "duration": 231,
    "start_time": "2024-08-18T09:52:23.910Z"
   },
   {
    "duration": 226,
    "start_time": "2024-08-18T09:53:33.694Z"
   },
   {
    "duration": 7,
    "start_time": "2024-08-18T09:58:49.443Z"
   },
   {
    "duration": 281,
    "start_time": "2024-08-18T09:59:08.072Z"
   },
   {
    "duration": 282,
    "start_time": "2024-08-18T09:59:41.755Z"
   },
   {
    "duration": 8,
    "start_time": "2024-08-18T10:00:41.137Z"
   },
   {
    "duration": 283,
    "start_time": "2024-08-18T10:00:59.071Z"
   },
   {
    "duration": 277,
    "start_time": "2024-08-18T10:01:32.103Z"
   },
   {
    "duration": 368,
    "start_time": "2024-08-18T10:02:49.471Z"
   },
   {
    "duration": 36,
    "start_time": "2024-08-18T10:05:01.308Z"
   },
   {
    "duration": 15,
    "start_time": "2024-08-18T10:05:34.208Z"
   },
   {
    "duration": 14,
    "start_time": "2024-08-18T10:05:46.297Z"
   },
   {
    "duration": 12,
    "start_time": "2024-08-18T10:15:43.065Z"
   },
   {
    "duration": 485,
    "start_time": "2024-08-18T10:18:16.072Z"
   },
   {
    "duration": 7,
    "start_time": "2024-08-18T10:21:04.644Z"
   },
   {
    "duration": 5,
    "start_time": "2024-08-18T10:21:06.624Z"
   },
   {
    "duration": 12,
    "start_time": "2024-08-18T10:29:09.832Z"
   },
   {
    "duration": 5,
    "start_time": "2024-08-18T10:29:11.154Z"
   },
   {
    "duration": 4,
    "start_time": "2024-08-18T10:29:12.201Z"
   },
   {
    "duration": 5,
    "start_time": "2024-08-18T10:29:44.244Z"
   },
   {
    "duration": 12,
    "start_time": "2024-08-18T10:33:59.257Z"
   },
   {
    "duration": 5,
    "start_time": "2024-08-18T10:34:01.861Z"
   },
   {
    "duration": 18,
    "start_time": "2024-08-18T10:34:54.041Z"
   },
   {
    "duration": 16,
    "start_time": "2024-08-18T10:35:18.757Z"
   },
   {
    "duration": 12,
    "start_time": "2024-08-18T10:35:44.665Z"
   },
   {
    "duration": 5,
    "start_time": "2024-08-18T10:35:45.909Z"
   },
   {
    "duration": 5,
    "start_time": "2024-08-18T10:35:47.478Z"
   },
   {
    "duration": 694,
    "start_time": "2024-08-18T10:41:51.549Z"
   },
   {
    "duration": 338,
    "start_time": "2024-08-18T10:41:52.247Z"
   },
   {
    "duration": 19,
    "start_time": "2024-08-18T10:41:52.588Z"
   },
   {
    "duration": 17,
    "start_time": "2024-08-18T10:41:52.610Z"
   },
   {
    "duration": 3,
    "start_time": "2024-08-18T10:41:52.634Z"
   },
   {
    "duration": 5,
    "start_time": "2024-08-18T10:41:52.640Z"
   },
   {
    "duration": 58,
    "start_time": "2024-08-18T10:41:52.649Z"
   },
   {
    "duration": 17,
    "start_time": "2024-08-18T10:41:52.710Z"
   },
   {
    "duration": 22,
    "start_time": "2024-08-18T10:41:52.730Z"
   },
   {
    "duration": 53,
    "start_time": "2024-08-18T10:41:52.756Z"
   },
   {
    "duration": 26,
    "start_time": "2024-08-18T10:41:52.813Z"
   },
   {
    "duration": 13,
    "start_time": "2024-08-18T10:41:52.842Z"
   },
   {
    "duration": 106,
    "start_time": "2024-08-18T10:41:52.859Z"
   },
   {
    "duration": 5,
    "start_time": "2024-08-18T10:41:52.972Z"
   },
   {
    "duration": 43,
    "start_time": "2024-08-18T10:41:52.981Z"
   },
   {
    "duration": 13,
    "start_time": "2024-08-18T10:41:53.028Z"
   },
   {
    "duration": 78,
    "start_time": "2024-08-18T10:41:53.044Z"
   },
   {
    "duration": 7,
    "start_time": "2024-08-18T10:41:53.125Z"
   },
   {
    "duration": 24,
    "start_time": "2024-08-18T10:41:53.135Z"
   },
   {
    "duration": 44,
    "start_time": "2024-08-18T10:41:53.162Z"
   },
   {
    "duration": 34,
    "start_time": "2024-08-18T10:41:53.210Z"
   },
   {
    "duration": 62,
    "start_time": "2024-08-18T10:41:53.246Z"
   },
   {
    "duration": 26,
    "start_time": "2024-08-18T10:41:53.311Z"
   },
   {
    "duration": 98,
    "start_time": "2024-08-18T10:41:53.340Z"
   },
   {
    "duration": 18,
    "start_time": "2024-08-18T10:41:53.441Z"
   },
   {
    "duration": 65,
    "start_time": "2024-08-18T10:41:53.462Z"
   },
   {
    "duration": 37,
    "start_time": "2024-08-18T10:41:53.530Z"
   },
   {
    "duration": 63,
    "start_time": "2024-08-18T10:41:53.570Z"
   },
   {
    "duration": 47,
    "start_time": "2024-08-18T10:41:53.636Z"
   },
   {
    "duration": 7,
    "start_time": "2024-08-18T10:41:53.708Z"
   },
   {
    "duration": 193,
    "start_time": "2024-08-18T10:41:53.718Z"
   },
   {
    "duration": 37,
    "start_time": "2024-08-18T10:41:53.914Z"
   },
   {
    "duration": 555,
    "start_time": "2024-08-18T10:41:53.954Z"
   },
   {
    "duration": 465,
    "start_time": "2024-08-18T10:41:54.512Z"
   },
   {
    "duration": 27,
    "start_time": "2024-08-18T10:41:54.981Z"
   },
   {
    "duration": 169,
    "start_time": "2024-08-18T10:41:55.012Z"
   },
   {
    "duration": 295,
    "start_time": "2024-08-18T10:41:55.184Z"
   },
   {
    "duration": 297,
    "start_time": "2024-08-18T10:41:55.482Z"
   },
   {
    "duration": 307,
    "start_time": "2024-08-18T10:41:55.782Z"
   },
   {
    "duration": 23,
    "start_time": "2024-08-18T10:41:56.093Z"
   },
   {
    "duration": 14,
    "start_time": "2024-08-18T10:41:56.124Z"
   },
   {
    "duration": 15,
    "start_time": "2024-08-18T10:41:56.141Z"
   },
   {
    "duration": 562,
    "start_time": "2024-08-18T10:41:56.159Z"
   },
   {
    "duration": 7,
    "start_time": "2024-08-18T10:41:56.724Z"
   },
   {
    "duration": 5,
    "start_time": "2024-08-18T10:41:56.735Z"
   },
   {
    "duration": 12,
    "start_time": "2024-08-18T10:41:56.744Z"
   },
   {
    "duration": 6,
    "start_time": "2024-08-18T10:41:56.759Z"
   },
   {
    "duration": 5,
    "start_time": "2024-08-18T10:41:56.807Z"
   }
  ],
  "colab": {
   "provenance": []
  },
  "kernelspec": {
   "display_name": "Python 3 (ipykernel)",
   "language": "python",
   "name": "python3"
  },
  "language_info": {
   "codemirror_mode": {
    "name": "ipython",
    "version": 3
   },
   "file_extension": ".py",
   "mimetype": "text/x-python",
   "name": "python",
   "nbconvert_exporter": "python",
   "pygments_lexer": "ipython3",
   "version": "3.9.19"
  },
  "toc": {
   "base_numbering": 1,
   "nav_menu": {},
   "number_sections": true,
   "sideBar": true,
   "skip_h1_title": false,
   "title_cell": "Table of Contents",
   "title_sidebar": "Contents",
   "toc_cell": false,
   "toc_position": {
    "height": "calc(100% - 180px)",
    "left": "10px",
    "top": "150px",
    "width": "338.125px"
   },
   "toc_section_display": true,
   "toc_window_display": true
  }
 },
 "nbformat": 4,
 "nbformat_minor": 1
}
